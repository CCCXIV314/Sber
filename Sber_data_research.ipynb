{
  "nbformat": 4,
  "nbformat_minor": 0,
  "metadata": {
    "colab": {
      "provenance": [],
      "mount_file_id": "1JrA9EVt1onPDJh1x35MEhH3soBIRZaX4",
      "authorship_tag": "ABX9TyPKELw2yM0tC6ViUlGfkcV5"
    },
    "kernelspec": {
      "name": "python3",
      "display_name": "Python 3"
    },
    "language_info": {
      "name": "python"
    }
  },
  "cells": [
    {
      "cell_type": "code",
      "source": [
        "import pandas as pd\n",
        "data = pd.read_csv('/content/drive/MyDrive/Colab_Notebooks/CupIT_Sber_data.csv', sep=';')\n"
      ],
      "metadata": {
        "id": "UEkw4Jq0YeDw"
      },
      "execution_count": null,
      "outputs": []
    },
    {
      "cell_type": "code",
      "source": [
        "data.head(10)"
      ],
      "metadata": {
        "colab": {
          "base_uri": "https://localhost:8080/",
          "height": 556
        },
        "id": "dLfYjKjFYloV",
        "outputId": "97174ba0-ee2c-45c4-81f6-5a1775125f08"
      },
      "execution_count": null,
      "outputs": [
        {
          "output_type": "execute_result",
          "data": {
            "text/plain": [
              "                  service_document_id                 account_document_id  \\\n",
              "0  0xE3A4BED668151E271B6680FE5E8772D6  0xFDD38318ED6FC6EC68131DB6671F100C   \n",
              "1  0xD1DD45B19A9195143BE217BD83702901  0x9F7486A2D5FEFFF7453777B1D0592E16   \n",
              "2  0xAB000FD6D4A66E6E1523907DEBFEC85D  0x72CBB210256CBF07F48DCACFDA4A3E4C   \n",
              "3  0x53A548619940E6DF7D910D17905D1CFD  0x34082776539FC71066087BA9EB78986D   \n",
              "4  0x1FDDAF54CB064A6E27519F2B6DF97B0E  0x5809EF65F6969882A139F7A484B8D95C   \n",
              "5  0x9792A4526F5FAFFA2537A6526B6AC23C  0xE02E4412BB1F637FC4CDAFC793C4F7A4   \n",
              "6  0x750447893A808F22D0E7BEBDADB58999  0xC97D0DF950D35FA4AF2655D749259B36   \n",
              "7  0x07EA51E045B591DC5FBA5C1E6D7DEA4B  0x04848F8B05C6935CCECC26FB024BDC6E   \n",
              "8  0x32B405A9613D446FF83E2E73867A1B49  0xBBAF849258EA3A4CE4B58D2C7686775C   \n",
              "9  0x13781E636B106FF5B49921B1412BF3F5  0x8D8D44EEDA40B1AE7B659A5A738BF4F3   \n",
              "\n",
              "                  service_date service_amount_net  \\\n",
              "0  2022-01-01 12:07:00.0000000               1925   \n",
              "1  2022-01-01 12:17:00.0000000               4800   \n",
              "2  2022-01-01 12:30:00.0000000               1710   \n",
              "3  2022-01-01 12:33:00.0000000               2040   \n",
              "4  2022-01-01 12:27:00.0000000               2200   \n",
              "5  2022-01-01 12:31:00.0000000               1720   \n",
              "6  2022-01-01 12:46:00.0000000               1160   \n",
              "7  2022-01-01 12:41:00.0000000               1720   \n",
              "8  2022-01-01 12:55:00.0000000               2200   \n",
              "9  2022-01-01 12:59:00.0000000                312   \n",
              "\n",
              "                           patient_id                        service_code  \\\n",
              "0  0xD2B5A46F0FFF14D5209ED49B6215BDA0  0xCDEA5658E0AD52E1700653CAE2A4928D   \n",
              "1  0x0A1FF218569A9829DDA53CBDF9FD12F9  0x1ECB5F528158D6C0BC98B017169D3E5B   \n",
              "2  0xECA1B4580DFE64AC35678C0EC46CFB56  0x727B72BA7EB94341537D4FA18BAF9D7C   \n",
              "3  0xF3F9B8D552B3F35BD9F4E553E1C84AA8  0x5AF4EDF46C78DFB3049268F4C9708407   \n",
              "4  0xF599395DBD681B9A446C26F2DB9E0BF2  0xE6EEC1C29E25C790C0088B42F82CBA55   \n",
              "5  0x0A1FF218569A9829DDA53CBDF9FD12F9  0x129AB4F27EAA6C675A4E116AB616FE48   \n",
              "6  0xF3F9B8D552B3F35BD9F4E553E1C84AA8  0x887078A50C93C3DFCCF23B6656BF767B   \n",
              "7  0x405E158AE7F0523296EB12EECD73CD79  0x82078385014C595F44D63882A268F47A   \n",
              "8  0xF599395DBD681B9A446C26F2DB9E0BF2  0x54054703A9278593F2C779D0E128A3A6   \n",
              "9  0x0A1FF218569A9829DDA53CBDF9FD12F9  0x6C73CDEE350763C4670140261DE1682A   \n",
              "\n",
              "                         service_name  is_hospital  \n",
              "0  0x95758EBA87326C4D5DECC8B51A8B9C61            0  \n",
              "1  0x48137991AF094338080AC09C4A51E050            0  \n",
              "2  0x9F45909133FB97131C44DD00094F781E            0  \n",
              "3  0xC311E151328A1118224B8A3F163AD3C0            0  \n",
              "4  0x95758EBA87326C4D5DECC8B51A8B9C61            0  \n",
              "5  0x95758EBA87326C4D5DECC8B51A8B9C61            0  \n",
              "6  0x780F9A97F1A590D0CE88314FC065E5C8            0  \n",
              "7  0x95758EBA87326C4D5DECC8B51A8B9C61            0  \n",
              "8  0x95758EBA87326C4D5DECC8B51A8B9C61            0  \n",
              "9  0x30F13D536D6834EBBCA4E5E9B0EC212E            0  "
            ],
            "text/html": [
              "\n",
              "  <div id=\"df-93a00bdc-184b-4521-ac1d-f8213f45b050\" class=\"colab-df-container\">\n",
              "    <div>\n",
              "<style scoped>\n",
              "    .dataframe tbody tr th:only-of-type {\n",
              "        vertical-align: middle;\n",
              "    }\n",
              "\n",
              "    .dataframe tbody tr th {\n",
              "        vertical-align: top;\n",
              "    }\n",
              "\n",
              "    .dataframe thead th {\n",
              "        text-align: right;\n",
              "    }\n",
              "</style>\n",
              "<table border=\"1\" class=\"dataframe\">\n",
              "  <thead>\n",
              "    <tr style=\"text-align: right;\">\n",
              "      <th></th>\n",
              "      <th>service_document_id</th>\n",
              "      <th>account_document_id</th>\n",
              "      <th>service_date</th>\n",
              "      <th>service_amount_net</th>\n",
              "      <th>patient_id</th>\n",
              "      <th>service_code</th>\n",
              "      <th>service_name</th>\n",
              "      <th>is_hospital</th>\n",
              "    </tr>\n",
              "  </thead>\n",
              "  <tbody>\n",
              "    <tr>\n",
              "      <th>0</th>\n",
              "      <td>0xE3A4BED668151E271B6680FE5E8772D6</td>\n",
              "      <td>0xFDD38318ED6FC6EC68131DB6671F100C</td>\n",
              "      <td>2022-01-01 12:07:00.0000000</td>\n",
              "      <td>1925</td>\n",
              "      <td>0xD2B5A46F0FFF14D5209ED49B6215BDA0</td>\n",
              "      <td>0xCDEA5658E0AD52E1700653CAE2A4928D</td>\n",
              "      <td>0x95758EBA87326C4D5DECC8B51A8B9C61</td>\n",
              "      <td>0</td>\n",
              "    </tr>\n",
              "    <tr>\n",
              "      <th>1</th>\n",
              "      <td>0xD1DD45B19A9195143BE217BD83702901</td>\n",
              "      <td>0x9F7486A2D5FEFFF7453777B1D0592E16</td>\n",
              "      <td>2022-01-01 12:17:00.0000000</td>\n",
              "      <td>4800</td>\n",
              "      <td>0x0A1FF218569A9829DDA53CBDF9FD12F9</td>\n",
              "      <td>0x1ECB5F528158D6C0BC98B017169D3E5B</td>\n",
              "      <td>0x48137991AF094338080AC09C4A51E050</td>\n",
              "      <td>0</td>\n",
              "    </tr>\n",
              "    <tr>\n",
              "      <th>2</th>\n",
              "      <td>0xAB000FD6D4A66E6E1523907DEBFEC85D</td>\n",
              "      <td>0x72CBB210256CBF07F48DCACFDA4A3E4C</td>\n",
              "      <td>2022-01-01 12:30:00.0000000</td>\n",
              "      <td>1710</td>\n",
              "      <td>0xECA1B4580DFE64AC35678C0EC46CFB56</td>\n",
              "      <td>0x727B72BA7EB94341537D4FA18BAF9D7C</td>\n",
              "      <td>0x9F45909133FB97131C44DD00094F781E</td>\n",
              "      <td>0</td>\n",
              "    </tr>\n",
              "    <tr>\n",
              "      <th>3</th>\n",
              "      <td>0x53A548619940E6DF7D910D17905D1CFD</td>\n",
              "      <td>0x34082776539FC71066087BA9EB78986D</td>\n",
              "      <td>2022-01-01 12:33:00.0000000</td>\n",
              "      <td>2040</td>\n",
              "      <td>0xF3F9B8D552B3F35BD9F4E553E1C84AA8</td>\n",
              "      <td>0x5AF4EDF46C78DFB3049268F4C9708407</td>\n",
              "      <td>0xC311E151328A1118224B8A3F163AD3C0</td>\n",
              "      <td>0</td>\n",
              "    </tr>\n",
              "    <tr>\n",
              "      <th>4</th>\n",
              "      <td>0x1FDDAF54CB064A6E27519F2B6DF97B0E</td>\n",
              "      <td>0x5809EF65F6969882A139F7A484B8D95C</td>\n",
              "      <td>2022-01-01 12:27:00.0000000</td>\n",
              "      <td>2200</td>\n",
              "      <td>0xF599395DBD681B9A446C26F2DB9E0BF2</td>\n",
              "      <td>0xE6EEC1C29E25C790C0088B42F82CBA55</td>\n",
              "      <td>0x95758EBA87326C4D5DECC8B51A8B9C61</td>\n",
              "      <td>0</td>\n",
              "    </tr>\n",
              "    <tr>\n",
              "      <th>5</th>\n",
              "      <td>0x9792A4526F5FAFFA2537A6526B6AC23C</td>\n",
              "      <td>0xE02E4412BB1F637FC4CDAFC793C4F7A4</td>\n",
              "      <td>2022-01-01 12:31:00.0000000</td>\n",
              "      <td>1720</td>\n",
              "      <td>0x0A1FF218569A9829DDA53CBDF9FD12F9</td>\n",
              "      <td>0x129AB4F27EAA6C675A4E116AB616FE48</td>\n",
              "      <td>0x95758EBA87326C4D5DECC8B51A8B9C61</td>\n",
              "      <td>0</td>\n",
              "    </tr>\n",
              "    <tr>\n",
              "      <th>6</th>\n",
              "      <td>0x750447893A808F22D0E7BEBDADB58999</td>\n",
              "      <td>0xC97D0DF950D35FA4AF2655D749259B36</td>\n",
              "      <td>2022-01-01 12:46:00.0000000</td>\n",
              "      <td>1160</td>\n",
              "      <td>0xF3F9B8D552B3F35BD9F4E553E1C84AA8</td>\n",
              "      <td>0x887078A50C93C3DFCCF23B6656BF767B</td>\n",
              "      <td>0x780F9A97F1A590D0CE88314FC065E5C8</td>\n",
              "      <td>0</td>\n",
              "    </tr>\n",
              "    <tr>\n",
              "      <th>7</th>\n",
              "      <td>0x07EA51E045B591DC5FBA5C1E6D7DEA4B</td>\n",
              "      <td>0x04848F8B05C6935CCECC26FB024BDC6E</td>\n",
              "      <td>2022-01-01 12:41:00.0000000</td>\n",
              "      <td>1720</td>\n",
              "      <td>0x405E158AE7F0523296EB12EECD73CD79</td>\n",
              "      <td>0x82078385014C595F44D63882A268F47A</td>\n",
              "      <td>0x95758EBA87326C4D5DECC8B51A8B9C61</td>\n",
              "      <td>0</td>\n",
              "    </tr>\n",
              "    <tr>\n",
              "      <th>8</th>\n",
              "      <td>0x32B405A9613D446FF83E2E73867A1B49</td>\n",
              "      <td>0xBBAF849258EA3A4CE4B58D2C7686775C</td>\n",
              "      <td>2022-01-01 12:55:00.0000000</td>\n",
              "      <td>2200</td>\n",
              "      <td>0xF599395DBD681B9A446C26F2DB9E0BF2</td>\n",
              "      <td>0x54054703A9278593F2C779D0E128A3A6</td>\n",
              "      <td>0x95758EBA87326C4D5DECC8B51A8B9C61</td>\n",
              "      <td>0</td>\n",
              "    </tr>\n",
              "    <tr>\n",
              "      <th>9</th>\n",
              "      <td>0x13781E636B106FF5B49921B1412BF3F5</td>\n",
              "      <td>0x8D8D44EEDA40B1AE7B659A5A738BF4F3</td>\n",
              "      <td>2022-01-01 12:59:00.0000000</td>\n",
              "      <td>312</td>\n",
              "      <td>0x0A1FF218569A9829DDA53CBDF9FD12F9</td>\n",
              "      <td>0x6C73CDEE350763C4670140261DE1682A</td>\n",
              "      <td>0x30F13D536D6834EBBCA4E5E9B0EC212E</td>\n",
              "      <td>0</td>\n",
              "    </tr>\n",
              "  </tbody>\n",
              "</table>\n",
              "</div>\n",
              "    <div class=\"colab-df-buttons\">\n",
              "\n",
              "  <div class=\"colab-df-container\">\n",
              "    <button class=\"colab-df-convert\" onclick=\"convertToInteractive('df-93a00bdc-184b-4521-ac1d-f8213f45b050')\"\n",
              "            title=\"Convert this dataframe to an interactive table.\"\n",
              "            style=\"display:none;\">\n",
              "\n",
              "  <svg xmlns=\"http://www.w3.org/2000/svg\" height=\"24px\" viewBox=\"0 -960 960 960\">\n",
              "    <path d=\"M120-120v-720h720v720H120Zm60-500h600v-160H180v160Zm220 220h160v-160H400v160Zm0 220h160v-160H400v160ZM180-400h160v-160H180v160Zm440 0h160v-160H620v160ZM180-180h160v-160H180v160Zm440 0h160v-160H620v160Z\"/>\n",
              "  </svg>\n",
              "    </button>\n",
              "\n",
              "  <style>\n",
              "    .colab-df-container {\n",
              "      display:flex;\n",
              "      gap: 12px;\n",
              "    }\n",
              "\n",
              "    .colab-df-convert {\n",
              "      background-color: #E8F0FE;\n",
              "      border: none;\n",
              "      border-radius: 50%;\n",
              "      cursor: pointer;\n",
              "      display: none;\n",
              "      fill: #1967D2;\n",
              "      height: 32px;\n",
              "      padding: 0 0 0 0;\n",
              "      width: 32px;\n",
              "    }\n",
              "\n",
              "    .colab-df-convert:hover {\n",
              "      background-color: #E2EBFA;\n",
              "      box-shadow: 0px 1px 2px rgba(60, 64, 67, 0.3), 0px 1px 3px 1px rgba(60, 64, 67, 0.15);\n",
              "      fill: #174EA6;\n",
              "    }\n",
              "\n",
              "    .colab-df-buttons div {\n",
              "      margin-bottom: 4px;\n",
              "    }\n",
              "\n",
              "    [theme=dark] .colab-df-convert {\n",
              "      background-color: #3B4455;\n",
              "      fill: #D2E3FC;\n",
              "    }\n",
              "\n",
              "    [theme=dark] .colab-df-convert:hover {\n",
              "      background-color: #434B5C;\n",
              "      box-shadow: 0px 1px 3px 1px rgba(0, 0, 0, 0.15);\n",
              "      filter: drop-shadow(0px 1px 2px rgba(0, 0, 0, 0.3));\n",
              "      fill: #FFFFFF;\n",
              "    }\n",
              "  </style>\n",
              "\n",
              "    <script>\n",
              "      const buttonEl =\n",
              "        document.querySelector('#df-93a00bdc-184b-4521-ac1d-f8213f45b050 button.colab-df-convert');\n",
              "      buttonEl.style.display =\n",
              "        google.colab.kernel.accessAllowed ? 'block' : 'none';\n",
              "\n",
              "      async function convertToInteractive(key) {\n",
              "        const element = document.querySelector('#df-93a00bdc-184b-4521-ac1d-f8213f45b050');\n",
              "        const dataTable =\n",
              "          await google.colab.kernel.invokeFunction('convertToInteractive',\n",
              "                                                    [key], {});\n",
              "        if (!dataTable) return;\n",
              "\n",
              "        const docLinkHtml = 'Like what you see? Visit the ' +\n",
              "          '<a target=\"_blank\" href=https://colab.research.google.com/notebooks/data_table.ipynb>data table notebook</a>'\n",
              "          + ' to learn more about interactive tables.';\n",
              "        element.innerHTML = '';\n",
              "        dataTable['output_type'] = 'display_data';\n",
              "        await google.colab.output.renderOutput(dataTable, element);\n",
              "        const docLink = document.createElement('div');\n",
              "        docLink.innerHTML = docLinkHtml;\n",
              "        element.appendChild(docLink);\n",
              "      }\n",
              "    </script>\n",
              "  </div>\n",
              "\n",
              "\n",
              "<div id=\"df-777c9b24-8ee0-4500-ac43-c20f6bef283f\">\n",
              "  <button class=\"colab-df-quickchart\" onclick=\"quickchart('df-777c9b24-8ee0-4500-ac43-c20f6bef283f')\"\n",
              "            title=\"Suggest charts\"\n",
              "            style=\"display:none;\">\n",
              "\n",
              "<svg xmlns=\"http://www.w3.org/2000/svg\" height=\"24px\"viewBox=\"0 0 24 24\"\n",
              "     width=\"24px\">\n",
              "    <g>\n",
              "        <path d=\"M19 3H5c-1.1 0-2 .9-2 2v14c0 1.1.9 2 2 2h14c1.1 0 2-.9 2-2V5c0-1.1-.9-2-2-2zM9 17H7v-7h2v7zm4 0h-2V7h2v10zm4 0h-2v-4h2v4z\"/>\n",
              "    </g>\n",
              "</svg>\n",
              "  </button>\n",
              "\n",
              "<style>\n",
              "  .colab-df-quickchart {\n",
              "      --bg-color: #E8F0FE;\n",
              "      --fill-color: #1967D2;\n",
              "      --hover-bg-color: #E2EBFA;\n",
              "      --hover-fill-color: #174EA6;\n",
              "      --disabled-fill-color: #AAA;\n",
              "      --disabled-bg-color: #DDD;\n",
              "  }\n",
              "\n",
              "  [theme=dark] .colab-df-quickchart {\n",
              "      --bg-color: #3B4455;\n",
              "      --fill-color: #D2E3FC;\n",
              "      --hover-bg-color: #434B5C;\n",
              "      --hover-fill-color: #FFFFFF;\n",
              "      --disabled-bg-color: #3B4455;\n",
              "      --disabled-fill-color: #666;\n",
              "  }\n",
              "\n",
              "  .colab-df-quickchart {\n",
              "    background-color: var(--bg-color);\n",
              "    border: none;\n",
              "    border-radius: 50%;\n",
              "    cursor: pointer;\n",
              "    display: none;\n",
              "    fill: var(--fill-color);\n",
              "    height: 32px;\n",
              "    padding: 0;\n",
              "    width: 32px;\n",
              "  }\n",
              "\n",
              "  .colab-df-quickchart:hover {\n",
              "    background-color: var(--hover-bg-color);\n",
              "    box-shadow: 0 1px 2px rgba(60, 64, 67, 0.3), 0 1px 3px 1px rgba(60, 64, 67, 0.15);\n",
              "    fill: var(--button-hover-fill-color);\n",
              "  }\n",
              "\n",
              "  .colab-df-quickchart-complete:disabled,\n",
              "  .colab-df-quickchart-complete:disabled:hover {\n",
              "    background-color: var(--disabled-bg-color);\n",
              "    fill: var(--disabled-fill-color);\n",
              "    box-shadow: none;\n",
              "  }\n",
              "\n",
              "  .colab-df-spinner {\n",
              "    border: 2px solid var(--fill-color);\n",
              "    border-color: transparent;\n",
              "    border-bottom-color: var(--fill-color);\n",
              "    animation:\n",
              "      spin 1s steps(1) infinite;\n",
              "  }\n",
              "\n",
              "  @keyframes spin {\n",
              "    0% {\n",
              "      border-color: transparent;\n",
              "      border-bottom-color: var(--fill-color);\n",
              "      border-left-color: var(--fill-color);\n",
              "    }\n",
              "    20% {\n",
              "      border-color: transparent;\n",
              "      border-left-color: var(--fill-color);\n",
              "      border-top-color: var(--fill-color);\n",
              "    }\n",
              "    30% {\n",
              "      border-color: transparent;\n",
              "      border-left-color: var(--fill-color);\n",
              "      border-top-color: var(--fill-color);\n",
              "      border-right-color: var(--fill-color);\n",
              "    }\n",
              "    40% {\n",
              "      border-color: transparent;\n",
              "      border-right-color: var(--fill-color);\n",
              "      border-top-color: var(--fill-color);\n",
              "    }\n",
              "    60% {\n",
              "      border-color: transparent;\n",
              "      border-right-color: var(--fill-color);\n",
              "    }\n",
              "    80% {\n",
              "      border-color: transparent;\n",
              "      border-right-color: var(--fill-color);\n",
              "      border-bottom-color: var(--fill-color);\n",
              "    }\n",
              "    90% {\n",
              "      border-color: transparent;\n",
              "      border-bottom-color: var(--fill-color);\n",
              "    }\n",
              "  }\n",
              "</style>\n",
              "\n",
              "  <script>\n",
              "    async function quickchart(key) {\n",
              "      const quickchartButtonEl =\n",
              "        document.querySelector('#' + key + ' button');\n",
              "      quickchartButtonEl.disabled = true;  // To prevent multiple clicks.\n",
              "      quickchartButtonEl.classList.add('colab-df-spinner');\n",
              "      try {\n",
              "        const charts = await google.colab.kernel.invokeFunction(\n",
              "            'suggestCharts', [key], {});\n",
              "      } catch (error) {\n",
              "        console.error('Error during call to suggestCharts:', error);\n",
              "      }\n",
              "      quickchartButtonEl.classList.remove('colab-df-spinner');\n",
              "      quickchartButtonEl.classList.add('colab-df-quickchart-complete');\n",
              "    }\n",
              "    (() => {\n",
              "      let quickchartButtonEl =\n",
              "        document.querySelector('#df-777c9b24-8ee0-4500-ac43-c20f6bef283f button');\n",
              "      quickchartButtonEl.style.display =\n",
              "        google.colab.kernel.accessAllowed ? 'block' : 'none';\n",
              "    })();\n",
              "  </script>\n",
              "</div>\n",
              "    </div>\n",
              "  </div>\n"
            ],
            "application/vnd.google.colaboratory.intrinsic+json": {
              "type": "dataframe",
              "variable_name": "data"
            }
          },
          "metadata": {},
          "execution_count": 90
        }
      ]
    },
    {
      "cell_type": "code",
      "source": [
        "data.describe()"
      ],
      "metadata": {
        "colab": {
          "base_uri": "https://localhost:8080/",
          "height": 300
        },
        "id": "22m0apwAdTt0",
        "outputId": "60d5a5f4-e606-458d-d0ac-035d64022cd2"
      },
      "execution_count": null,
      "outputs": [
        {
          "output_type": "execute_result",
          "data": {
            "text/plain": [
              "        is_hospital\n",
              "count  1.091043e+06\n",
              "mean   9.259488e-02\n",
              "std    2.898640e-01\n",
              "min    0.000000e+00\n",
              "25%    0.000000e+00\n",
              "50%    0.000000e+00\n",
              "75%    0.000000e+00\n",
              "max    1.000000e+00"
            ],
            "text/html": [
              "\n",
              "  <div id=\"df-d2a3070f-1bdf-4fea-86ca-2a6fba379a4d\" class=\"colab-df-container\">\n",
              "    <div>\n",
              "<style scoped>\n",
              "    .dataframe tbody tr th:only-of-type {\n",
              "        vertical-align: middle;\n",
              "    }\n",
              "\n",
              "    .dataframe tbody tr th {\n",
              "        vertical-align: top;\n",
              "    }\n",
              "\n",
              "    .dataframe thead th {\n",
              "        text-align: right;\n",
              "    }\n",
              "</style>\n",
              "<table border=\"1\" class=\"dataframe\">\n",
              "  <thead>\n",
              "    <tr style=\"text-align: right;\">\n",
              "      <th></th>\n",
              "      <th>is_hospital</th>\n",
              "    </tr>\n",
              "  </thead>\n",
              "  <tbody>\n",
              "    <tr>\n",
              "      <th>count</th>\n",
              "      <td>1.091043e+06</td>\n",
              "    </tr>\n",
              "    <tr>\n",
              "      <th>mean</th>\n",
              "      <td>9.259488e-02</td>\n",
              "    </tr>\n",
              "    <tr>\n",
              "      <th>std</th>\n",
              "      <td>2.898640e-01</td>\n",
              "    </tr>\n",
              "    <tr>\n",
              "      <th>min</th>\n",
              "      <td>0.000000e+00</td>\n",
              "    </tr>\n",
              "    <tr>\n",
              "      <th>25%</th>\n",
              "      <td>0.000000e+00</td>\n",
              "    </tr>\n",
              "    <tr>\n",
              "      <th>50%</th>\n",
              "      <td>0.000000e+00</td>\n",
              "    </tr>\n",
              "    <tr>\n",
              "      <th>75%</th>\n",
              "      <td>0.000000e+00</td>\n",
              "    </tr>\n",
              "    <tr>\n",
              "      <th>max</th>\n",
              "      <td>1.000000e+00</td>\n",
              "    </tr>\n",
              "  </tbody>\n",
              "</table>\n",
              "</div>\n",
              "    <div class=\"colab-df-buttons\">\n",
              "\n",
              "  <div class=\"colab-df-container\">\n",
              "    <button class=\"colab-df-convert\" onclick=\"convertToInteractive('df-d2a3070f-1bdf-4fea-86ca-2a6fba379a4d')\"\n",
              "            title=\"Convert this dataframe to an interactive table.\"\n",
              "            style=\"display:none;\">\n",
              "\n",
              "  <svg xmlns=\"http://www.w3.org/2000/svg\" height=\"24px\" viewBox=\"0 -960 960 960\">\n",
              "    <path d=\"M120-120v-720h720v720H120Zm60-500h600v-160H180v160Zm220 220h160v-160H400v160Zm0 220h160v-160H400v160ZM180-400h160v-160H180v160Zm440 0h160v-160H620v160ZM180-180h160v-160H180v160Zm440 0h160v-160H620v160Z\"/>\n",
              "  </svg>\n",
              "    </button>\n",
              "\n",
              "  <style>\n",
              "    .colab-df-container {\n",
              "      display:flex;\n",
              "      gap: 12px;\n",
              "    }\n",
              "\n",
              "    .colab-df-convert {\n",
              "      background-color: #E8F0FE;\n",
              "      border: none;\n",
              "      border-radius: 50%;\n",
              "      cursor: pointer;\n",
              "      display: none;\n",
              "      fill: #1967D2;\n",
              "      height: 32px;\n",
              "      padding: 0 0 0 0;\n",
              "      width: 32px;\n",
              "    }\n",
              "\n",
              "    .colab-df-convert:hover {\n",
              "      background-color: #E2EBFA;\n",
              "      box-shadow: 0px 1px 2px rgba(60, 64, 67, 0.3), 0px 1px 3px 1px rgba(60, 64, 67, 0.15);\n",
              "      fill: #174EA6;\n",
              "    }\n",
              "\n",
              "    .colab-df-buttons div {\n",
              "      margin-bottom: 4px;\n",
              "    }\n",
              "\n",
              "    [theme=dark] .colab-df-convert {\n",
              "      background-color: #3B4455;\n",
              "      fill: #D2E3FC;\n",
              "    }\n",
              "\n",
              "    [theme=dark] .colab-df-convert:hover {\n",
              "      background-color: #434B5C;\n",
              "      box-shadow: 0px 1px 3px 1px rgba(0, 0, 0, 0.15);\n",
              "      filter: drop-shadow(0px 1px 2px rgba(0, 0, 0, 0.3));\n",
              "      fill: #FFFFFF;\n",
              "    }\n",
              "  </style>\n",
              "\n",
              "    <script>\n",
              "      const buttonEl =\n",
              "        document.querySelector('#df-d2a3070f-1bdf-4fea-86ca-2a6fba379a4d button.colab-df-convert');\n",
              "      buttonEl.style.display =\n",
              "        google.colab.kernel.accessAllowed ? 'block' : 'none';\n",
              "\n",
              "      async function convertToInteractive(key) {\n",
              "        const element = document.querySelector('#df-d2a3070f-1bdf-4fea-86ca-2a6fba379a4d');\n",
              "        const dataTable =\n",
              "          await google.colab.kernel.invokeFunction('convertToInteractive',\n",
              "                                                    [key], {});\n",
              "        if (!dataTable) return;\n",
              "\n",
              "        const docLinkHtml = 'Like what you see? Visit the ' +\n",
              "          '<a target=\"_blank\" href=https://colab.research.google.com/notebooks/data_table.ipynb>data table notebook</a>'\n",
              "          + ' to learn more about interactive tables.';\n",
              "        element.innerHTML = '';\n",
              "        dataTable['output_type'] = 'display_data';\n",
              "        await google.colab.output.renderOutput(dataTable, element);\n",
              "        const docLink = document.createElement('div');\n",
              "        docLink.innerHTML = docLinkHtml;\n",
              "        element.appendChild(docLink);\n",
              "      }\n",
              "    </script>\n",
              "  </div>\n",
              "\n",
              "\n",
              "<div id=\"df-22327324-006f-4239-8edb-aabbbc941b5a\">\n",
              "  <button class=\"colab-df-quickchart\" onclick=\"quickchart('df-22327324-006f-4239-8edb-aabbbc941b5a')\"\n",
              "            title=\"Suggest charts\"\n",
              "            style=\"display:none;\">\n",
              "\n",
              "<svg xmlns=\"http://www.w3.org/2000/svg\" height=\"24px\"viewBox=\"0 0 24 24\"\n",
              "     width=\"24px\">\n",
              "    <g>\n",
              "        <path d=\"M19 3H5c-1.1 0-2 .9-2 2v14c0 1.1.9 2 2 2h14c1.1 0 2-.9 2-2V5c0-1.1-.9-2-2-2zM9 17H7v-7h2v7zm4 0h-2V7h2v10zm4 0h-2v-4h2v4z\"/>\n",
              "    </g>\n",
              "</svg>\n",
              "  </button>\n",
              "\n",
              "<style>\n",
              "  .colab-df-quickchart {\n",
              "      --bg-color: #E8F0FE;\n",
              "      --fill-color: #1967D2;\n",
              "      --hover-bg-color: #E2EBFA;\n",
              "      --hover-fill-color: #174EA6;\n",
              "      --disabled-fill-color: #AAA;\n",
              "      --disabled-bg-color: #DDD;\n",
              "  }\n",
              "\n",
              "  [theme=dark] .colab-df-quickchart {\n",
              "      --bg-color: #3B4455;\n",
              "      --fill-color: #D2E3FC;\n",
              "      --hover-bg-color: #434B5C;\n",
              "      --hover-fill-color: #FFFFFF;\n",
              "      --disabled-bg-color: #3B4455;\n",
              "      --disabled-fill-color: #666;\n",
              "  }\n",
              "\n",
              "  .colab-df-quickchart {\n",
              "    background-color: var(--bg-color);\n",
              "    border: none;\n",
              "    border-radius: 50%;\n",
              "    cursor: pointer;\n",
              "    display: none;\n",
              "    fill: var(--fill-color);\n",
              "    height: 32px;\n",
              "    padding: 0;\n",
              "    width: 32px;\n",
              "  }\n",
              "\n",
              "  .colab-df-quickchart:hover {\n",
              "    background-color: var(--hover-bg-color);\n",
              "    box-shadow: 0 1px 2px rgba(60, 64, 67, 0.3), 0 1px 3px 1px rgba(60, 64, 67, 0.15);\n",
              "    fill: var(--button-hover-fill-color);\n",
              "  }\n",
              "\n",
              "  .colab-df-quickchart-complete:disabled,\n",
              "  .colab-df-quickchart-complete:disabled:hover {\n",
              "    background-color: var(--disabled-bg-color);\n",
              "    fill: var(--disabled-fill-color);\n",
              "    box-shadow: none;\n",
              "  }\n",
              "\n",
              "  .colab-df-spinner {\n",
              "    border: 2px solid var(--fill-color);\n",
              "    border-color: transparent;\n",
              "    border-bottom-color: var(--fill-color);\n",
              "    animation:\n",
              "      spin 1s steps(1) infinite;\n",
              "  }\n",
              "\n",
              "  @keyframes spin {\n",
              "    0% {\n",
              "      border-color: transparent;\n",
              "      border-bottom-color: var(--fill-color);\n",
              "      border-left-color: var(--fill-color);\n",
              "    }\n",
              "    20% {\n",
              "      border-color: transparent;\n",
              "      border-left-color: var(--fill-color);\n",
              "      border-top-color: var(--fill-color);\n",
              "    }\n",
              "    30% {\n",
              "      border-color: transparent;\n",
              "      border-left-color: var(--fill-color);\n",
              "      border-top-color: var(--fill-color);\n",
              "      border-right-color: var(--fill-color);\n",
              "    }\n",
              "    40% {\n",
              "      border-color: transparent;\n",
              "      border-right-color: var(--fill-color);\n",
              "      border-top-color: var(--fill-color);\n",
              "    }\n",
              "    60% {\n",
              "      border-color: transparent;\n",
              "      border-right-color: var(--fill-color);\n",
              "    }\n",
              "    80% {\n",
              "      border-color: transparent;\n",
              "      border-right-color: var(--fill-color);\n",
              "      border-bottom-color: var(--fill-color);\n",
              "    }\n",
              "    90% {\n",
              "      border-color: transparent;\n",
              "      border-bottom-color: var(--fill-color);\n",
              "    }\n",
              "  }\n",
              "</style>\n",
              "\n",
              "  <script>\n",
              "    async function quickchart(key) {\n",
              "      const quickchartButtonEl =\n",
              "        document.querySelector('#' + key + ' button');\n",
              "      quickchartButtonEl.disabled = true;  // To prevent multiple clicks.\n",
              "      quickchartButtonEl.classList.add('colab-df-spinner');\n",
              "      try {\n",
              "        const charts = await google.colab.kernel.invokeFunction(\n",
              "            'suggestCharts', [key], {});\n",
              "      } catch (error) {\n",
              "        console.error('Error during call to suggestCharts:', error);\n",
              "      }\n",
              "      quickchartButtonEl.classList.remove('colab-df-spinner');\n",
              "      quickchartButtonEl.classList.add('colab-df-quickchart-complete');\n",
              "    }\n",
              "    (() => {\n",
              "      let quickchartButtonEl =\n",
              "        document.querySelector('#df-22327324-006f-4239-8edb-aabbbc941b5a button');\n",
              "      quickchartButtonEl.style.display =\n",
              "        google.colab.kernel.accessAllowed ? 'block' : 'none';\n",
              "    })();\n",
              "  </script>\n",
              "</div>\n",
              "    </div>\n",
              "  </div>\n"
            ],
            "application/vnd.google.colaboratory.intrinsic+json": {
              "type": "dataframe",
              "summary": "{\n  \"name\": \"data\",\n  \"rows\": 8,\n  \"fields\": [\n    {\n      \"column\": \"is_hospital\",\n      \"properties\": {\n        \"dtype\": \"number\",\n        \"std\": 385741.8821084901,\n        \"min\": 0.0,\n        \"max\": 1091043.0,\n        \"num_unique_values\": 5,\n        \"samples\": [\n          0.0925948839779917,\n          1.0,\n          0.2898640171679942\n        ],\n        \"semantic_type\": \"\",\n        \"description\": \"\"\n      }\n    }\n  ]\n}"
            }
          },
          "metadata": {},
          "execution_count": 91
        }
      ]
    },
    {
      "cell_type": "code",
      "source": [
        "data.info()"
      ],
      "metadata": {
        "colab": {
          "base_uri": "https://localhost:8080/"
        },
        "id": "kDV-qjhPdWDV",
        "outputId": "aef59e74-e6c4-4a70-b5b6-8e9cbff4e593"
      },
      "execution_count": null,
      "outputs": [
        {
          "output_type": "stream",
          "name": "stdout",
          "text": [
            "<class 'pandas.core.frame.DataFrame'>\n",
            "RangeIndex: 1091043 entries, 0 to 1091042\n",
            "Data columns (total 8 columns):\n",
            " #   Column               Non-Null Count    Dtype \n",
            "---  ------               --------------    ----- \n",
            " 0   service_document_id  1091043 non-null  object\n",
            " 1   account_document_id  1091043 non-null  object\n",
            " 2   service_date         1091043 non-null  object\n",
            " 3   service_amount_net   1091043 non-null  object\n",
            " 4   patient_id           1091043 non-null  object\n",
            " 5   service_code         1091043 non-null  object\n",
            " 6   service_name         1091043 non-null  object\n",
            " 7   is_hospital          1091043 non-null  int64 \n",
            "dtypes: int64(1), object(7)\n",
            "memory usage: 66.6+ MB\n"
          ]
        }
      ]
    },
    {
      "cell_type": "code",
      "source": [
        "def add_date_time_columns(df, date_column):\n",
        "    \"\"\"\n",
        "    Добавляет новые колонки в DataFrame на основе колонки с датой и временем.\n",
        "\n",
        "    Параметры:\n",
        "        df (pd.DataFrame): Исходный DataFrame.\n",
        "        date_column (str): Название колонки с датой и временем.\n",
        "\n",
        "    Возвращает:\n",
        "        pd.DataFrame: DataFrame с новыми колонками.\n",
        "    \"\"\"\n",
        "    # Преобразуем колонку в datetime, если она еще не в этом формате\n",
        "    df[date_column] = pd.to_datetime(df[date_column])\n",
        "\n",
        "    # Создаем новые колонки\n",
        "    df['year'] = df[date_column].dt.year  # Год\n",
        "    df['month'] = df[date_column].dt.month  # Месяц\n",
        "    df['date'] = df[date_column].dt.date  # Дата (год, месяц, день)\n",
        "    df['time'] = df[date_column].dt.time  # Время (часы, минуты, секунды)\n",
        "\n",
        "    return df"
      ],
      "metadata": {
        "id": "2vSNgl_edYpN"
      },
      "execution_count": null,
      "outputs": []
    },
    {
      "cell_type": "code",
      "source": [
        "data = add_date_time_columns(data, 'service_date')"
      ],
      "metadata": {
        "id": "OB8mxJ_HgA0Y"
      },
      "execution_count": null,
      "outputs": []
    },
    {
      "cell_type": "code",
      "source": [
        "data.head()"
      ],
      "metadata": {
        "colab": {
          "base_uri": "https://localhost:8080/",
          "height": 313
        },
        "id": "tZUyUc_hgSI-",
        "outputId": "e4e2b035-5cbb-4b12-ea2e-2c5c0e495e3b"
      },
      "execution_count": null,
      "outputs": [
        {
          "output_type": "execute_result",
          "data": {
            "text/plain": [
              "                  service_document_id                 account_document_id  \\\n",
              "0  0xE3A4BED668151E271B6680FE5E8772D6  0xFDD38318ED6FC6EC68131DB6671F100C   \n",
              "1  0xD1DD45B19A9195143BE217BD83702901  0x9F7486A2D5FEFFF7453777B1D0592E16   \n",
              "2  0xAB000FD6D4A66E6E1523907DEBFEC85D  0x72CBB210256CBF07F48DCACFDA4A3E4C   \n",
              "3  0x53A548619940E6DF7D910D17905D1CFD  0x34082776539FC71066087BA9EB78986D   \n",
              "4  0x1FDDAF54CB064A6E27519F2B6DF97B0E  0x5809EF65F6969882A139F7A484B8D95C   \n",
              "\n",
              "         service_date service_amount_net                          patient_id  \\\n",
              "0 2022-01-01 12:07:00               1925  0xD2B5A46F0FFF14D5209ED49B6215BDA0   \n",
              "1 2022-01-01 12:17:00               4800  0x0A1FF218569A9829DDA53CBDF9FD12F9   \n",
              "2 2022-01-01 12:30:00               1710  0xECA1B4580DFE64AC35678C0EC46CFB56   \n",
              "3 2022-01-01 12:33:00               2040  0xF3F9B8D552B3F35BD9F4E553E1C84AA8   \n",
              "4 2022-01-01 12:27:00               2200  0xF599395DBD681B9A446C26F2DB9E0BF2   \n",
              "\n",
              "                         service_code                        service_name  \\\n",
              "0  0xCDEA5658E0AD52E1700653CAE2A4928D  0x95758EBA87326C4D5DECC8B51A8B9C61   \n",
              "1  0x1ECB5F528158D6C0BC98B017169D3E5B  0x48137991AF094338080AC09C4A51E050   \n",
              "2  0x727B72BA7EB94341537D4FA18BAF9D7C  0x9F45909133FB97131C44DD00094F781E   \n",
              "3  0x5AF4EDF46C78DFB3049268F4C9708407  0xC311E151328A1118224B8A3F163AD3C0   \n",
              "4  0xE6EEC1C29E25C790C0088B42F82CBA55  0x95758EBA87326C4D5DECC8B51A8B9C61   \n",
              "\n",
              "   is_hospital  year  month        date      time  \n",
              "0            0  2022      1  2022-01-01  12:07:00  \n",
              "1            0  2022      1  2022-01-01  12:17:00  \n",
              "2            0  2022      1  2022-01-01  12:30:00  \n",
              "3            0  2022      1  2022-01-01  12:33:00  \n",
              "4            0  2022      1  2022-01-01  12:27:00  "
            ],
            "text/html": [
              "\n",
              "  <div id=\"df-685632b6-fc0e-499f-8ee8-b2e56df150ab\" class=\"colab-df-container\">\n",
              "    <div>\n",
              "<style scoped>\n",
              "    .dataframe tbody tr th:only-of-type {\n",
              "        vertical-align: middle;\n",
              "    }\n",
              "\n",
              "    .dataframe tbody tr th {\n",
              "        vertical-align: top;\n",
              "    }\n",
              "\n",
              "    .dataframe thead th {\n",
              "        text-align: right;\n",
              "    }\n",
              "</style>\n",
              "<table border=\"1\" class=\"dataframe\">\n",
              "  <thead>\n",
              "    <tr style=\"text-align: right;\">\n",
              "      <th></th>\n",
              "      <th>service_document_id</th>\n",
              "      <th>account_document_id</th>\n",
              "      <th>service_date</th>\n",
              "      <th>service_amount_net</th>\n",
              "      <th>patient_id</th>\n",
              "      <th>service_code</th>\n",
              "      <th>service_name</th>\n",
              "      <th>is_hospital</th>\n",
              "      <th>year</th>\n",
              "      <th>month</th>\n",
              "      <th>date</th>\n",
              "      <th>time</th>\n",
              "    </tr>\n",
              "  </thead>\n",
              "  <tbody>\n",
              "    <tr>\n",
              "      <th>0</th>\n",
              "      <td>0xE3A4BED668151E271B6680FE5E8772D6</td>\n",
              "      <td>0xFDD38318ED6FC6EC68131DB6671F100C</td>\n",
              "      <td>2022-01-01 12:07:00</td>\n",
              "      <td>1925</td>\n",
              "      <td>0xD2B5A46F0FFF14D5209ED49B6215BDA0</td>\n",
              "      <td>0xCDEA5658E0AD52E1700653CAE2A4928D</td>\n",
              "      <td>0x95758EBA87326C4D5DECC8B51A8B9C61</td>\n",
              "      <td>0</td>\n",
              "      <td>2022</td>\n",
              "      <td>1</td>\n",
              "      <td>2022-01-01</td>\n",
              "      <td>12:07:00</td>\n",
              "    </tr>\n",
              "    <tr>\n",
              "      <th>1</th>\n",
              "      <td>0xD1DD45B19A9195143BE217BD83702901</td>\n",
              "      <td>0x9F7486A2D5FEFFF7453777B1D0592E16</td>\n",
              "      <td>2022-01-01 12:17:00</td>\n",
              "      <td>4800</td>\n",
              "      <td>0x0A1FF218569A9829DDA53CBDF9FD12F9</td>\n",
              "      <td>0x1ECB5F528158D6C0BC98B017169D3E5B</td>\n",
              "      <td>0x48137991AF094338080AC09C4A51E050</td>\n",
              "      <td>0</td>\n",
              "      <td>2022</td>\n",
              "      <td>1</td>\n",
              "      <td>2022-01-01</td>\n",
              "      <td>12:17:00</td>\n",
              "    </tr>\n",
              "    <tr>\n",
              "      <th>2</th>\n",
              "      <td>0xAB000FD6D4A66E6E1523907DEBFEC85D</td>\n",
              "      <td>0x72CBB210256CBF07F48DCACFDA4A3E4C</td>\n",
              "      <td>2022-01-01 12:30:00</td>\n",
              "      <td>1710</td>\n",
              "      <td>0xECA1B4580DFE64AC35678C0EC46CFB56</td>\n",
              "      <td>0x727B72BA7EB94341537D4FA18BAF9D7C</td>\n",
              "      <td>0x9F45909133FB97131C44DD00094F781E</td>\n",
              "      <td>0</td>\n",
              "      <td>2022</td>\n",
              "      <td>1</td>\n",
              "      <td>2022-01-01</td>\n",
              "      <td>12:30:00</td>\n",
              "    </tr>\n",
              "    <tr>\n",
              "      <th>3</th>\n",
              "      <td>0x53A548619940E6DF7D910D17905D1CFD</td>\n",
              "      <td>0x34082776539FC71066087BA9EB78986D</td>\n",
              "      <td>2022-01-01 12:33:00</td>\n",
              "      <td>2040</td>\n",
              "      <td>0xF3F9B8D552B3F35BD9F4E553E1C84AA8</td>\n",
              "      <td>0x5AF4EDF46C78DFB3049268F4C9708407</td>\n",
              "      <td>0xC311E151328A1118224B8A3F163AD3C0</td>\n",
              "      <td>0</td>\n",
              "      <td>2022</td>\n",
              "      <td>1</td>\n",
              "      <td>2022-01-01</td>\n",
              "      <td>12:33:00</td>\n",
              "    </tr>\n",
              "    <tr>\n",
              "      <th>4</th>\n",
              "      <td>0x1FDDAF54CB064A6E27519F2B6DF97B0E</td>\n",
              "      <td>0x5809EF65F6969882A139F7A484B8D95C</td>\n",
              "      <td>2022-01-01 12:27:00</td>\n",
              "      <td>2200</td>\n",
              "      <td>0xF599395DBD681B9A446C26F2DB9E0BF2</td>\n",
              "      <td>0xE6EEC1C29E25C790C0088B42F82CBA55</td>\n",
              "      <td>0x95758EBA87326C4D5DECC8B51A8B9C61</td>\n",
              "      <td>0</td>\n",
              "      <td>2022</td>\n",
              "      <td>1</td>\n",
              "      <td>2022-01-01</td>\n",
              "      <td>12:27:00</td>\n",
              "    </tr>\n",
              "  </tbody>\n",
              "</table>\n",
              "</div>\n",
              "    <div class=\"colab-df-buttons\">\n",
              "\n",
              "  <div class=\"colab-df-container\">\n",
              "    <button class=\"colab-df-convert\" onclick=\"convertToInteractive('df-685632b6-fc0e-499f-8ee8-b2e56df150ab')\"\n",
              "            title=\"Convert this dataframe to an interactive table.\"\n",
              "            style=\"display:none;\">\n",
              "\n",
              "  <svg xmlns=\"http://www.w3.org/2000/svg\" height=\"24px\" viewBox=\"0 -960 960 960\">\n",
              "    <path d=\"M120-120v-720h720v720H120Zm60-500h600v-160H180v160Zm220 220h160v-160H400v160Zm0 220h160v-160H400v160ZM180-400h160v-160H180v160Zm440 0h160v-160H620v160ZM180-180h160v-160H180v160Zm440 0h160v-160H620v160Z\"/>\n",
              "  </svg>\n",
              "    </button>\n",
              "\n",
              "  <style>\n",
              "    .colab-df-container {\n",
              "      display:flex;\n",
              "      gap: 12px;\n",
              "    }\n",
              "\n",
              "    .colab-df-convert {\n",
              "      background-color: #E8F0FE;\n",
              "      border: none;\n",
              "      border-radius: 50%;\n",
              "      cursor: pointer;\n",
              "      display: none;\n",
              "      fill: #1967D2;\n",
              "      height: 32px;\n",
              "      padding: 0 0 0 0;\n",
              "      width: 32px;\n",
              "    }\n",
              "\n",
              "    .colab-df-convert:hover {\n",
              "      background-color: #E2EBFA;\n",
              "      box-shadow: 0px 1px 2px rgba(60, 64, 67, 0.3), 0px 1px 3px 1px rgba(60, 64, 67, 0.15);\n",
              "      fill: #174EA6;\n",
              "    }\n",
              "\n",
              "    .colab-df-buttons div {\n",
              "      margin-bottom: 4px;\n",
              "    }\n",
              "\n",
              "    [theme=dark] .colab-df-convert {\n",
              "      background-color: #3B4455;\n",
              "      fill: #D2E3FC;\n",
              "    }\n",
              "\n",
              "    [theme=dark] .colab-df-convert:hover {\n",
              "      background-color: #434B5C;\n",
              "      box-shadow: 0px 1px 3px 1px rgba(0, 0, 0, 0.15);\n",
              "      filter: drop-shadow(0px 1px 2px rgba(0, 0, 0, 0.3));\n",
              "      fill: #FFFFFF;\n",
              "    }\n",
              "  </style>\n",
              "\n",
              "    <script>\n",
              "      const buttonEl =\n",
              "        document.querySelector('#df-685632b6-fc0e-499f-8ee8-b2e56df150ab button.colab-df-convert');\n",
              "      buttonEl.style.display =\n",
              "        google.colab.kernel.accessAllowed ? 'block' : 'none';\n",
              "\n",
              "      async function convertToInteractive(key) {\n",
              "        const element = document.querySelector('#df-685632b6-fc0e-499f-8ee8-b2e56df150ab');\n",
              "        const dataTable =\n",
              "          await google.colab.kernel.invokeFunction('convertToInteractive',\n",
              "                                                    [key], {});\n",
              "        if (!dataTable) return;\n",
              "\n",
              "        const docLinkHtml = 'Like what you see? Visit the ' +\n",
              "          '<a target=\"_blank\" href=https://colab.research.google.com/notebooks/data_table.ipynb>data table notebook</a>'\n",
              "          + ' to learn more about interactive tables.';\n",
              "        element.innerHTML = '';\n",
              "        dataTable['output_type'] = 'display_data';\n",
              "        await google.colab.output.renderOutput(dataTable, element);\n",
              "        const docLink = document.createElement('div');\n",
              "        docLink.innerHTML = docLinkHtml;\n",
              "        element.appendChild(docLink);\n",
              "      }\n",
              "    </script>\n",
              "  </div>\n",
              "\n",
              "\n",
              "<div id=\"df-4e53b958-66f2-4a98-bfaa-0d3687542a50\">\n",
              "  <button class=\"colab-df-quickchart\" onclick=\"quickchart('df-4e53b958-66f2-4a98-bfaa-0d3687542a50')\"\n",
              "            title=\"Suggest charts\"\n",
              "            style=\"display:none;\">\n",
              "\n",
              "<svg xmlns=\"http://www.w3.org/2000/svg\" height=\"24px\"viewBox=\"0 0 24 24\"\n",
              "     width=\"24px\">\n",
              "    <g>\n",
              "        <path d=\"M19 3H5c-1.1 0-2 .9-2 2v14c0 1.1.9 2 2 2h14c1.1 0 2-.9 2-2V5c0-1.1-.9-2-2-2zM9 17H7v-7h2v7zm4 0h-2V7h2v10zm4 0h-2v-4h2v4z\"/>\n",
              "    </g>\n",
              "</svg>\n",
              "  </button>\n",
              "\n",
              "<style>\n",
              "  .colab-df-quickchart {\n",
              "      --bg-color: #E8F0FE;\n",
              "      --fill-color: #1967D2;\n",
              "      --hover-bg-color: #E2EBFA;\n",
              "      --hover-fill-color: #174EA6;\n",
              "      --disabled-fill-color: #AAA;\n",
              "      --disabled-bg-color: #DDD;\n",
              "  }\n",
              "\n",
              "  [theme=dark] .colab-df-quickchart {\n",
              "      --bg-color: #3B4455;\n",
              "      --fill-color: #D2E3FC;\n",
              "      --hover-bg-color: #434B5C;\n",
              "      --hover-fill-color: #FFFFFF;\n",
              "      --disabled-bg-color: #3B4455;\n",
              "      --disabled-fill-color: #666;\n",
              "  }\n",
              "\n",
              "  .colab-df-quickchart {\n",
              "    background-color: var(--bg-color);\n",
              "    border: none;\n",
              "    border-radius: 50%;\n",
              "    cursor: pointer;\n",
              "    display: none;\n",
              "    fill: var(--fill-color);\n",
              "    height: 32px;\n",
              "    padding: 0;\n",
              "    width: 32px;\n",
              "  }\n",
              "\n",
              "  .colab-df-quickchart:hover {\n",
              "    background-color: var(--hover-bg-color);\n",
              "    box-shadow: 0 1px 2px rgba(60, 64, 67, 0.3), 0 1px 3px 1px rgba(60, 64, 67, 0.15);\n",
              "    fill: var(--button-hover-fill-color);\n",
              "  }\n",
              "\n",
              "  .colab-df-quickchart-complete:disabled,\n",
              "  .colab-df-quickchart-complete:disabled:hover {\n",
              "    background-color: var(--disabled-bg-color);\n",
              "    fill: var(--disabled-fill-color);\n",
              "    box-shadow: none;\n",
              "  }\n",
              "\n",
              "  .colab-df-spinner {\n",
              "    border: 2px solid var(--fill-color);\n",
              "    border-color: transparent;\n",
              "    border-bottom-color: var(--fill-color);\n",
              "    animation:\n",
              "      spin 1s steps(1) infinite;\n",
              "  }\n",
              "\n",
              "  @keyframes spin {\n",
              "    0% {\n",
              "      border-color: transparent;\n",
              "      border-bottom-color: var(--fill-color);\n",
              "      border-left-color: var(--fill-color);\n",
              "    }\n",
              "    20% {\n",
              "      border-color: transparent;\n",
              "      border-left-color: var(--fill-color);\n",
              "      border-top-color: var(--fill-color);\n",
              "    }\n",
              "    30% {\n",
              "      border-color: transparent;\n",
              "      border-left-color: var(--fill-color);\n",
              "      border-top-color: var(--fill-color);\n",
              "      border-right-color: var(--fill-color);\n",
              "    }\n",
              "    40% {\n",
              "      border-color: transparent;\n",
              "      border-right-color: var(--fill-color);\n",
              "      border-top-color: var(--fill-color);\n",
              "    }\n",
              "    60% {\n",
              "      border-color: transparent;\n",
              "      border-right-color: var(--fill-color);\n",
              "    }\n",
              "    80% {\n",
              "      border-color: transparent;\n",
              "      border-right-color: var(--fill-color);\n",
              "      border-bottom-color: var(--fill-color);\n",
              "    }\n",
              "    90% {\n",
              "      border-color: transparent;\n",
              "      border-bottom-color: var(--fill-color);\n",
              "    }\n",
              "  }\n",
              "</style>\n",
              "\n",
              "  <script>\n",
              "    async function quickchart(key) {\n",
              "      const quickchartButtonEl =\n",
              "        document.querySelector('#' + key + ' button');\n",
              "      quickchartButtonEl.disabled = true;  // To prevent multiple clicks.\n",
              "      quickchartButtonEl.classList.add('colab-df-spinner');\n",
              "      try {\n",
              "        const charts = await google.colab.kernel.invokeFunction(\n",
              "            'suggestCharts', [key], {});\n",
              "      } catch (error) {\n",
              "        console.error('Error during call to suggestCharts:', error);\n",
              "      }\n",
              "      quickchartButtonEl.classList.remove('colab-df-spinner');\n",
              "      quickchartButtonEl.classList.add('colab-df-quickchart-complete');\n",
              "    }\n",
              "    (() => {\n",
              "      let quickchartButtonEl =\n",
              "        document.querySelector('#df-4e53b958-66f2-4a98-bfaa-0d3687542a50 button');\n",
              "      quickchartButtonEl.style.display =\n",
              "        google.colab.kernel.accessAllowed ? 'block' : 'none';\n",
              "    })();\n",
              "  </script>\n",
              "</div>\n",
              "    </div>\n",
              "  </div>\n"
            ],
            "application/vnd.google.colaboratory.intrinsic+json": {
              "type": "dataframe",
              "variable_name": "data"
            }
          },
          "metadata": {},
          "execution_count": 95
        }
      ]
    },
    {
      "cell_type": "code",
      "execution_count": null,
      "metadata": {
        "id": "ffd2249a-47da-4c33-b4b1-3a7244a77b70",
        "outputId": "8377c39e-9d46-455b-d728-89f8c953cc2b"
      },
      "outputs": [
        {
          "data": {
            "text/html": [
              "<div>\n",
              "<style scoped>\n",
              "    .dataframe tbody tr th:only-of-type {\n",
              "        vertical-align: middle;\n",
              "    }\n",
              "\n",
              "    .dataframe tbody tr th {\n",
              "        vertical-align: top;\n",
              "    }\n",
              "\n",
              "    .dataframe thead th {\n",
              "        text-align: right;\n",
              "    }\n",
              "</style>\n",
              "<table border=\"1\" class=\"dataframe\">\n",
              "  <thead>\n",
              "    <tr style=\"text-align: right;\">\n",
              "      <th></th>\n",
              "      <th>service_document_id</th>\n",
              "      <th>account_document_id</th>\n",
              "      <th>service_date</th>\n",
              "      <th>service_amount_net</th>\n",
              "      <th>patient_id</th>\n",
              "      <th>service_code</th>\n",
              "      <th>service_name</th>\n",
              "      <th>is_hospital</th>\n",
              "      <th>year</th>\n",
              "      <th>month</th>\n",
              "      <th>date</th>\n",
              "      <th>time</th>\n",
              "      <th>weekday_name</th>\n",
              "    </tr>\n",
              "  </thead>\n",
              "  <tbody>\n",
              "    <tr>\n",
              "      <th>0</th>\n",
              "      <td>0xE3A4BED668151E271B6680FE5E8772D6</td>\n",
              "      <td>0xFDD38318ED6FC6EC68131DB6671F100C</td>\n",
              "      <td>2022-01-01 12:07:00</td>\n",
              "      <td>1925</td>\n",
              "      <td>0xD2B5A46F0FFF14D5209ED49B6215BDA0</td>\n",
              "      <td>0xCDEA5658E0AD52E1700653CAE2A4928D</td>\n",
              "      <td>0x95758EBA87326C4D5DECC8B51A8B9C61</td>\n",
              "      <td>0</td>\n",
              "      <td>2022</td>\n",
              "      <td>1</td>\n",
              "      <td>2022-01-01</td>\n",
              "      <td>12:07:00</td>\n",
              "      <td>СБ</td>\n",
              "    </tr>\n",
              "    <tr>\n",
              "      <th>1</th>\n",
              "      <td>0xD1DD45B19A9195143BE217BD83702901</td>\n",
              "      <td>0x9F7486A2D5FEFFF7453777B1D0592E16</td>\n",
              "      <td>2022-01-01 12:17:00</td>\n",
              "      <td>4800</td>\n",
              "      <td>0x0A1FF218569A9829DDA53CBDF9FD12F9</td>\n",
              "      <td>0x1ECB5F528158D6C0BC98B017169D3E5B</td>\n",
              "      <td>0x48137991AF094338080AC09C4A51E050</td>\n",
              "      <td>0</td>\n",
              "      <td>2022</td>\n",
              "      <td>1</td>\n",
              "      <td>2022-01-01</td>\n",
              "      <td>12:17:00</td>\n",
              "      <td>СБ</td>\n",
              "    </tr>\n",
              "    <tr>\n",
              "      <th>2</th>\n",
              "      <td>0xAB000FD6D4A66E6E1523907DEBFEC85D</td>\n",
              "      <td>0x72CBB210256CBF07F48DCACFDA4A3E4C</td>\n",
              "      <td>2022-01-01 12:30:00</td>\n",
              "      <td>1710</td>\n",
              "      <td>0xECA1B4580DFE64AC35678C0EC46CFB56</td>\n",
              "      <td>0x727B72BA7EB94341537D4FA18BAF9D7C</td>\n",
              "      <td>0x9F45909133FB97131C44DD00094F781E</td>\n",
              "      <td>0</td>\n",
              "      <td>2022</td>\n",
              "      <td>1</td>\n",
              "      <td>2022-01-01</td>\n",
              "      <td>12:30:00</td>\n",
              "      <td>СБ</td>\n",
              "    </tr>\n",
              "    <tr>\n",
              "      <th>3</th>\n",
              "      <td>0x53A548619940E6DF7D910D17905D1CFD</td>\n",
              "      <td>0x34082776539FC71066087BA9EB78986D</td>\n",
              "      <td>2022-01-01 12:33:00</td>\n",
              "      <td>2040</td>\n",
              "      <td>0xF3F9B8D552B3F35BD9F4E553E1C84AA8</td>\n",
              "      <td>0x5AF4EDF46C78DFB3049268F4C9708407</td>\n",
              "      <td>0xC311E151328A1118224B8A3F163AD3C0</td>\n",
              "      <td>0</td>\n",
              "      <td>2022</td>\n",
              "      <td>1</td>\n",
              "      <td>2022-01-01</td>\n",
              "      <td>12:33:00</td>\n",
              "      <td>СБ</td>\n",
              "    </tr>\n",
              "    <tr>\n",
              "      <th>4</th>\n",
              "      <td>0x1FDDAF54CB064A6E27519F2B6DF97B0E</td>\n",
              "      <td>0x5809EF65F6969882A139F7A484B8D95C</td>\n",
              "      <td>2022-01-01 12:27:00</td>\n",
              "      <td>2200</td>\n",
              "      <td>0xF599395DBD681B9A446C26F2DB9E0BF2</td>\n",
              "      <td>0xE6EEC1C29E25C790C0088B42F82CBA55</td>\n",
              "      <td>0x95758EBA87326C4D5DECC8B51A8B9C61</td>\n",
              "      <td>0</td>\n",
              "      <td>2022</td>\n",
              "      <td>1</td>\n",
              "      <td>2022-01-01</td>\n",
              "      <td>12:27:00</td>\n",
              "      <td>СБ</td>\n",
              "    </tr>\n",
              "  </tbody>\n",
              "</table>\n",
              "</div>"
            ],
            "text/plain": [
              "                  service_document_id                 account_document_id  \\\n",
              "0  0xE3A4BED668151E271B6680FE5E8772D6  0xFDD38318ED6FC6EC68131DB6671F100C   \n",
              "1  0xD1DD45B19A9195143BE217BD83702901  0x9F7486A2D5FEFFF7453777B1D0592E16   \n",
              "2  0xAB000FD6D4A66E6E1523907DEBFEC85D  0x72CBB210256CBF07F48DCACFDA4A3E4C   \n",
              "3  0x53A548619940E6DF7D910D17905D1CFD  0x34082776539FC71066087BA9EB78986D   \n",
              "4  0x1FDDAF54CB064A6E27519F2B6DF97B0E  0x5809EF65F6969882A139F7A484B8D95C   \n",
              "\n",
              "         service_date service_amount_net                          patient_id  \\\n",
              "0 2022-01-01 12:07:00               1925  0xD2B5A46F0FFF14D5209ED49B6215BDA0   \n",
              "1 2022-01-01 12:17:00               4800  0x0A1FF218569A9829DDA53CBDF9FD12F9   \n",
              "2 2022-01-01 12:30:00               1710  0xECA1B4580DFE64AC35678C0EC46CFB56   \n",
              "3 2022-01-01 12:33:00               2040  0xF3F9B8D552B3F35BD9F4E553E1C84AA8   \n",
              "4 2022-01-01 12:27:00               2200  0xF599395DBD681B9A446C26F2DB9E0BF2   \n",
              "\n",
              "                         service_code                        service_name  \\\n",
              "0  0xCDEA5658E0AD52E1700653CAE2A4928D  0x95758EBA87326C4D5DECC8B51A8B9C61   \n",
              "1  0x1ECB5F528158D6C0BC98B017169D3E5B  0x48137991AF094338080AC09C4A51E050   \n",
              "2  0x727B72BA7EB94341537D4FA18BAF9D7C  0x9F45909133FB97131C44DD00094F781E   \n",
              "3  0x5AF4EDF46C78DFB3049268F4C9708407  0xC311E151328A1118224B8A3F163AD3C0   \n",
              "4  0xE6EEC1C29E25C790C0088B42F82CBA55  0x95758EBA87326C4D5DECC8B51A8B9C61   \n",
              "\n",
              "   is_hospital  year  month        date      time weekday_name  \n",
              "0            0  2022      1  2022-01-01  12:07:00           СБ  \n",
              "1            0  2022      1  2022-01-01  12:17:00           СБ  \n",
              "2            0  2022      1  2022-01-01  12:30:00           СБ  \n",
              "3            0  2022      1  2022-01-01  12:33:00           СБ  \n",
              "4            0  2022      1  2022-01-01  12:27:00           СБ  "
            ]
          },
          "execution_count": 23,
          "metadata": {},
          "output_type": "execute_result"
        }
      ],
      "source": [
        "#день недели\n",
        "from datetime import datetime\n",
        "import numpy as np\n",
        "days_ru = {\n",
        "    0: \"ПН\",\n",
        "    1: \"ВТ\",\n",
        "    2: \"СР\",\n",
        "    3: \"ЧТ\",\n",
        "    4: \"ПТ\",\n",
        "    5: \"СБ\",\n",
        "    6: \"ВС\"\n",
        "}\n",
        "data['weekday_name'] = np.vectorize(lambda x: days_ru[x.weekday()])(data['date'])\n",
        "data.head()"
      ]
    },
    {
      "cell_type": "code",
      "execution_count": null,
      "metadata": {
        "id": "4cc46d33-3ac9-4844-a154-b11cb42944cd",
        "outputId": "5a0e53fc-d5d0-4d51-e6df-4051b9ba36c3"
      },
      "outputs": [
        {
          "data": {
            "text/html": [
              "<div>\n",
              "<style scoped>\n",
              "    .dataframe tbody tr th:only-of-type {\n",
              "        vertical-align: middle;\n",
              "    }\n",
              "\n",
              "    .dataframe tbody tr th {\n",
              "        vertical-align: top;\n",
              "    }\n",
              "\n",
              "    .dataframe thead th {\n",
              "        text-align: right;\n",
              "    }\n",
              "</style>\n",
              "<table border=\"1\" class=\"dataframe\">\n",
              "  <thead>\n",
              "    <tr style=\"text-align: right;\">\n",
              "      <th></th>\n",
              "      <th>service_document_id</th>\n",
              "      <th>account_document_id</th>\n",
              "      <th>service_date</th>\n",
              "      <th>service_amount_net</th>\n",
              "      <th>patient_id</th>\n",
              "      <th>service_code</th>\n",
              "      <th>service_name</th>\n",
              "      <th>is_hospital</th>\n",
              "      <th>year</th>\n",
              "      <th>month</th>\n",
              "      <th>date</th>\n",
              "      <th>time</th>\n",
              "      <th>weekday_name</th>\n",
              "      <th>weekends</th>\n",
              "    </tr>\n",
              "  </thead>\n",
              "  <tbody>\n",
              "    <tr>\n",
              "      <th>0</th>\n",
              "      <td>0xE3A4BED668151E271B6680FE5E8772D6</td>\n",
              "      <td>0xFDD38318ED6FC6EC68131DB6671F100C</td>\n",
              "      <td>2022-01-01 12:07:00</td>\n",
              "      <td>1925</td>\n",
              "      <td>0xD2B5A46F0FFF14D5209ED49B6215BDA0</td>\n",
              "      <td>0xCDEA5658E0AD52E1700653CAE2A4928D</td>\n",
              "      <td>0x95758EBA87326C4D5DECC8B51A8B9C61</td>\n",
              "      <td>0</td>\n",
              "      <td>2022</td>\n",
              "      <td>1</td>\n",
              "      <td>2022-01-01</td>\n",
              "      <td>12:07:00</td>\n",
              "      <td>СБ</td>\n",
              "      <td>1</td>\n",
              "    </tr>\n",
              "    <tr>\n",
              "      <th>1</th>\n",
              "      <td>0xD1DD45B19A9195143BE217BD83702901</td>\n",
              "      <td>0x9F7486A2D5FEFFF7453777B1D0592E16</td>\n",
              "      <td>2022-01-01 12:17:00</td>\n",
              "      <td>4800</td>\n",
              "      <td>0x0A1FF218569A9829DDA53CBDF9FD12F9</td>\n",
              "      <td>0x1ECB5F528158D6C0BC98B017169D3E5B</td>\n",
              "      <td>0x48137991AF094338080AC09C4A51E050</td>\n",
              "      <td>0</td>\n",
              "      <td>2022</td>\n",
              "      <td>1</td>\n",
              "      <td>2022-01-01</td>\n",
              "      <td>12:17:00</td>\n",
              "      <td>СБ</td>\n",
              "      <td>1</td>\n",
              "    </tr>\n",
              "    <tr>\n",
              "      <th>2</th>\n",
              "      <td>0xAB000FD6D4A66E6E1523907DEBFEC85D</td>\n",
              "      <td>0x72CBB210256CBF07F48DCACFDA4A3E4C</td>\n",
              "      <td>2022-01-01 12:30:00</td>\n",
              "      <td>1710</td>\n",
              "      <td>0xECA1B4580DFE64AC35678C0EC46CFB56</td>\n",
              "      <td>0x727B72BA7EB94341537D4FA18BAF9D7C</td>\n",
              "      <td>0x9F45909133FB97131C44DD00094F781E</td>\n",
              "      <td>0</td>\n",
              "      <td>2022</td>\n",
              "      <td>1</td>\n",
              "      <td>2022-01-01</td>\n",
              "      <td>12:30:00</td>\n",
              "      <td>СБ</td>\n",
              "      <td>1</td>\n",
              "    </tr>\n",
              "    <tr>\n",
              "      <th>3</th>\n",
              "      <td>0x53A548619940E6DF7D910D17905D1CFD</td>\n",
              "      <td>0x34082776539FC71066087BA9EB78986D</td>\n",
              "      <td>2022-01-01 12:33:00</td>\n",
              "      <td>2040</td>\n",
              "      <td>0xF3F9B8D552B3F35BD9F4E553E1C84AA8</td>\n",
              "      <td>0x5AF4EDF46C78DFB3049268F4C9708407</td>\n",
              "      <td>0xC311E151328A1118224B8A3F163AD3C0</td>\n",
              "      <td>0</td>\n",
              "      <td>2022</td>\n",
              "      <td>1</td>\n",
              "      <td>2022-01-01</td>\n",
              "      <td>12:33:00</td>\n",
              "      <td>СБ</td>\n",
              "      <td>1</td>\n",
              "    </tr>\n",
              "    <tr>\n",
              "      <th>4</th>\n",
              "      <td>0x1FDDAF54CB064A6E27519F2B6DF97B0E</td>\n",
              "      <td>0x5809EF65F6969882A139F7A484B8D95C</td>\n",
              "      <td>2022-01-01 12:27:00</td>\n",
              "      <td>2200</td>\n",
              "      <td>0xF599395DBD681B9A446C26F2DB9E0BF2</td>\n",
              "      <td>0xE6EEC1C29E25C790C0088B42F82CBA55</td>\n",
              "      <td>0x95758EBA87326C4D5DECC8B51A8B9C61</td>\n",
              "      <td>0</td>\n",
              "      <td>2022</td>\n",
              "      <td>1</td>\n",
              "      <td>2022-01-01</td>\n",
              "      <td>12:27:00</td>\n",
              "      <td>СБ</td>\n",
              "      <td>1</td>\n",
              "    </tr>\n",
              "  </tbody>\n",
              "</table>\n",
              "</div>"
            ],
            "text/plain": [
              "                  service_document_id                 account_document_id  \\\n",
              "0  0xE3A4BED668151E271B6680FE5E8772D6  0xFDD38318ED6FC6EC68131DB6671F100C   \n",
              "1  0xD1DD45B19A9195143BE217BD83702901  0x9F7486A2D5FEFFF7453777B1D0592E16   \n",
              "2  0xAB000FD6D4A66E6E1523907DEBFEC85D  0x72CBB210256CBF07F48DCACFDA4A3E4C   \n",
              "3  0x53A548619940E6DF7D910D17905D1CFD  0x34082776539FC71066087BA9EB78986D   \n",
              "4  0x1FDDAF54CB064A6E27519F2B6DF97B0E  0x5809EF65F6969882A139F7A484B8D95C   \n",
              "\n",
              "         service_date service_amount_net                          patient_id  \\\n",
              "0 2022-01-01 12:07:00               1925  0xD2B5A46F0FFF14D5209ED49B6215BDA0   \n",
              "1 2022-01-01 12:17:00               4800  0x0A1FF218569A9829DDA53CBDF9FD12F9   \n",
              "2 2022-01-01 12:30:00               1710  0xECA1B4580DFE64AC35678C0EC46CFB56   \n",
              "3 2022-01-01 12:33:00               2040  0xF3F9B8D552B3F35BD9F4E553E1C84AA8   \n",
              "4 2022-01-01 12:27:00               2200  0xF599395DBD681B9A446C26F2DB9E0BF2   \n",
              "\n",
              "                         service_code                        service_name  \\\n",
              "0  0xCDEA5658E0AD52E1700653CAE2A4928D  0x95758EBA87326C4D5DECC8B51A8B9C61   \n",
              "1  0x1ECB5F528158D6C0BC98B017169D3E5B  0x48137991AF094338080AC09C4A51E050   \n",
              "2  0x727B72BA7EB94341537D4FA18BAF9D7C  0x9F45909133FB97131C44DD00094F781E   \n",
              "3  0x5AF4EDF46C78DFB3049268F4C9708407  0xC311E151328A1118224B8A3F163AD3C0   \n",
              "4  0xE6EEC1C29E25C790C0088B42F82CBA55  0x95758EBA87326C4D5DECC8B51A8B9C61   \n",
              "\n",
              "   is_hospital  year  month        date      time weekday_name  weekends  \n",
              "0            0  2022      1  2022-01-01  12:07:00           СБ         1  \n",
              "1            0  2022      1  2022-01-01  12:17:00           СБ         1  \n",
              "2            0  2022      1  2022-01-01  12:30:00           СБ         1  \n",
              "3            0  2022      1  2022-01-01  12:33:00           СБ         1  \n",
              "4            0  2022      1  2022-01-01  12:27:00           СБ         1  "
            ]
          },
          "execution_count": 24,
          "metadata": {},
          "output_type": "execute_result"
        }
      ],
      "source": [
        "#выходные\n",
        "#1-выходной, 0-нет\n",
        "\n",
        "def wknd(x):\n",
        "    if x == 'СБ' or x == 'ВС':\n",
        "        return 1\n",
        "    else:\n",
        "        return 0\n",
        "data['weekends'] = np.vectorize(wknd)(data['weekday_name'])\n",
        "data.head()\n"
      ]
    },
    {
      "cell_type": "code",
      "execution_count": null,
      "metadata": {
        "id": "06c5db35-7b1e-4846-93e0-a9a08968f506"
      },
      "outputs": [],
      "source": [
        "#праздники\n",
        "#1-праздник, 0-нет\n",
        "def hld(x):\n",
        "    m = [\n",
        "        '2022-01-01',\n",
        "        '2022-01-02',\n",
        "        '2022-01-03',\n",
        "        '2022-01-04',\n",
        "        '2022-01-05',\n",
        "        '2022-01-06',\n",
        "        '2022-01-07',\n",
        "        '2022-01-08',\n",
        "        '2022-02-23',\n",
        "        '2022-03-08',\n",
        "        '2022-05-01',\n",
        "        '2022-05-09',\n",
        "        '2022-06-12',\n",
        "        '2022-11-04',\n",
        "        '2022-05-03',\n",
        "        '2022-05-10',\n",
        "        '2022-03-07',\n",
        "        '2023-01-01',\n",
        "        '2023-01-02',\n",
        "        '2023-01-03',\n",
        "        '2023-01-04',\n",
        "        '2023-01-05',\n",
        "        '2023-01-06',\n",
        "        '2023-01-07',\n",
        "        '2023-01-08',\n",
        "        '2023-02-23',\n",
        "        '2023-03-08',\n",
        "        '2023-05-01',\n",
        "        '2023-05-09',\n",
        "        '2023-06-12',\n",
        "        '2023-11-04',\n",
        "        '2023-02-24',\n",
        "        '2023-05-08'\n",
        "    ]\n",
        "    if x in m:\n",
        "        return 1\n",
        "    else:\n",
        "        return 0\n",
        "data['holidays'] = np.vectorize(hld)(data['date'].astype(str))"
      ]
    },
    {
      "cell_type": "code",
      "execution_count": null,
      "metadata": {
        "id": "7b02caf6-5439-427f-9db9-b4205f82aaab"
      },
      "outputs": [],
      "source": [
        "dft = pd.DataFrame(columns = ['code', 'mean', 'median', 'std'])\n",
        "for sc in data['service_code'].value_counts().keys().astype(str):\n",
        "    t = data[data['service_code'] == sc]['service_amount_net'].astype(float)\n",
        "    dft.loc[len(dft)] = [sc, t.mean(), np.median(t), t.std()]\n",
        "dft.head()"
      ]
    },
    {
      "cell_type": "code",
      "source": [
        "data['service_name'].value_counts()"
      ],
      "metadata": {
        "colab": {
          "base_uri": "https://localhost:8080/",
          "height": 489
        },
        "id": "3rMtj86qgUTj",
        "outputId": "fb20e281-2e9a-4553-bc13-f4510d255998"
      },
      "execution_count": null,
      "outputs": [
        {
          "output_type": "execute_result",
          "data": {
            "text/plain": [
              "service_name\n",
              "0x95758EBA87326C4D5DECC8B51A8B9C61    235435\n",
              "0x01D029DF0704C6B5891DF7C601181E4D     38576\n",
              "0x5D533C5A2B92E32876D568371E6F4D11     33261\n",
              "0xA7AB68E942204E8F7B65D9BE0FF048F9     19387\n",
              "0x446CFFEA90575A46253EED6E407FCBBA     14471\n",
              "                                       ...  \n",
              "0xD4BC313EB55093DF208B95E8901D6C1B         1\n",
              "0xCAF55A483E11C33D55028B21526FC56D         1\n",
              "0x9DD28D823D328F6F0C3B5BEF03C1E736         1\n",
              "0x67A0EB69735C6C385337D94DD85E83F8         1\n",
              "0xC2105080329EDF5D42B4FD8477AC66BD         1\n",
              "Name: count, Length: 3027, dtype: int64"
            ],
            "text/html": [
              "<div>\n",
              "<style scoped>\n",
              "    .dataframe tbody tr th:only-of-type {\n",
              "        vertical-align: middle;\n",
              "    }\n",
              "\n",
              "    .dataframe tbody tr th {\n",
              "        vertical-align: top;\n",
              "    }\n",
              "\n",
              "    .dataframe thead th {\n",
              "        text-align: right;\n",
              "    }\n",
              "</style>\n",
              "<table border=\"1\" class=\"dataframe\">\n",
              "  <thead>\n",
              "    <tr style=\"text-align: right;\">\n",
              "      <th></th>\n",
              "      <th>count</th>\n",
              "    </tr>\n",
              "    <tr>\n",
              "      <th>service_name</th>\n",
              "      <th></th>\n",
              "    </tr>\n",
              "  </thead>\n",
              "  <tbody>\n",
              "    <tr>\n",
              "      <th>0x95758EBA87326C4D5DECC8B51A8B9C61</th>\n",
              "      <td>235435</td>\n",
              "    </tr>\n",
              "    <tr>\n",
              "      <th>0x01D029DF0704C6B5891DF7C601181E4D</th>\n",
              "      <td>38576</td>\n",
              "    </tr>\n",
              "    <tr>\n",
              "      <th>0x5D533C5A2B92E32876D568371E6F4D11</th>\n",
              "      <td>33261</td>\n",
              "    </tr>\n",
              "    <tr>\n",
              "      <th>0xA7AB68E942204E8F7B65D9BE0FF048F9</th>\n",
              "      <td>19387</td>\n",
              "    </tr>\n",
              "    <tr>\n",
              "      <th>0x446CFFEA90575A46253EED6E407FCBBA</th>\n",
              "      <td>14471</td>\n",
              "    </tr>\n",
              "    <tr>\n",
              "      <th>...</th>\n",
              "      <td>...</td>\n",
              "    </tr>\n",
              "    <tr>\n",
              "      <th>0xD4BC313EB55093DF208B95E8901D6C1B</th>\n",
              "      <td>1</td>\n",
              "    </tr>\n",
              "    <tr>\n",
              "      <th>0xCAF55A483E11C33D55028B21526FC56D</th>\n",
              "      <td>1</td>\n",
              "    </tr>\n",
              "    <tr>\n",
              "      <th>0x9DD28D823D328F6F0C3B5BEF03C1E736</th>\n",
              "      <td>1</td>\n",
              "    </tr>\n",
              "    <tr>\n",
              "      <th>0x67A0EB69735C6C385337D94DD85E83F8</th>\n",
              "      <td>1</td>\n",
              "    </tr>\n",
              "    <tr>\n",
              "      <th>0xC2105080329EDF5D42B4FD8477AC66BD</th>\n",
              "      <td>1</td>\n",
              "    </tr>\n",
              "  </tbody>\n",
              "</table>\n",
              "<p>3027 rows × 1 columns</p>\n",
              "</div><br><label><b>dtype:</b> int64</label>"
            ]
          },
          "metadata": {},
          "execution_count": 96
        }
      ]
    },
    {
      "cell_type": "code",
      "source": [
        "data['service_code'].value_counts()"
      ],
      "metadata": {
        "colab": {
          "base_uri": "https://localhost:8080/",
          "height": 489
        },
        "id": "hNAEGL7SguCa",
        "outputId": "81a802fb-0077-4c8b-db1f-543f3d72e020"
      },
      "execution_count": null,
      "outputs": [
        {
          "output_type": "execute_result",
          "data": {
            "text/plain": [
              "service_code\n",
              "0xBD46A7B2FCD9FC493D8E2EDBE225C9D1    38576\n",
              "0xC348428D50CD9C4624B157715093ACEE    32206\n",
              "0xCDEA5658E0AD52E1700653CAE2A4928D    16780\n",
              "0x332E8D3220A5317B23558A5E79CE00E4    14832\n",
              "0x0C06FE9D8320596C34F48E35DFFC46AF    14318\n",
              "                                      ...  \n",
              "0xB31B0114F8BC8E3DD6484F7C30956FD1        1\n",
              "0x0AAF1B41D10D2758F8F53946DA290C57        1\n",
              "0xE59038C5C5F373F0DDE0FC39CBFB5FB8        1\n",
              "0xC2DDC434FD854157F7611B0164A900F8        1\n",
              "0x6CB9A5F08102747F6A384AA581A22269        1\n",
              "Name: count, Length: 5232, dtype: int64"
            ],
            "text/html": [
              "<div>\n",
              "<style scoped>\n",
              "    .dataframe tbody tr th:only-of-type {\n",
              "        vertical-align: middle;\n",
              "    }\n",
              "\n",
              "    .dataframe tbody tr th {\n",
              "        vertical-align: top;\n",
              "    }\n",
              "\n",
              "    .dataframe thead th {\n",
              "        text-align: right;\n",
              "    }\n",
              "</style>\n",
              "<table border=\"1\" class=\"dataframe\">\n",
              "  <thead>\n",
              "    <tr style=\"text-align: right;\">\n",
              "      <th></th>\n",
              "      <th>count</th>\n",
              "    </tr>\n",
              "    <tr>\n",
              "      <th>service_code</th>\n",
              "      <th></th>\n",
              "    </tr>\n",
              "  </thead>\n",
              "  <tbody>\n",
              "    <tr>\n",
              "      <th>0xBD46A7B2FCD9FC493D8E2EDBE225C9D1</th>\n",
              "      <td>38576</td>\n",
              "    </tr>\n",
              "    <tr>\n",
              "      <th>0xC348428D50CD9C4624B157715093ACEE</th>\n",
              "      <td>32206</td>\n",
              "    </tr>\n",
              "    <tr>\n",
              "      <th>0xCDEA5658E0AD52E1700653CAE2A4928D</th>\n",
              "      <td>16780</td>\n",
              "    </tr>\n",
              "    <tr>\n",
              "      <th>0x332E8D3220A5317B23558A5E79CE00E4</th>\n",
              "      <td>14832</td>\n",
              "    </tr>\n",
              "    <tr>\n",
              "      <th>0x0C06FE9D8320596C34F48E35DFFC46AF</th>\n",
              "      <td>14318</td>\n",
              "    </tr>\n",
              "    <tr>\n",
              "      <th>...</th>\n",
              "      <td>...</td>\n",
              "    </tr>\n",
              "    <tr>\n",
              "      <th>0xB31B0114F8BC8E3DD6484F7C30956FD1</th>\n",
              "      <td>1</td>\n",
              "    </tr>\n",
              "    <tr>\n",
              "      <th>0x0AAF1B41D10D2758F8F53946DA290C57</th>\n",
              "      <td>1</td>\n",
              "    </tr>\n",
              "    <tr>\n",
              "      <th>0xE59038C5C5F373F0DDE0FC39CBFB5FB8</th>\n",
              "      <td>1</td>\n",
              "    </tr>\n",
              "    <tr>\n",
              "      <th>0xC2DDC434FD854157F7611B0164A900F8</th>\n",
              "      <td>1</td>\n",
              "    </tr>\n",
              "    <tr>\n",
              "      <th>0x6CB9A5F08102747F6A384AA581A22269</th>\n",
              "      <td>1</td>\n",
              "    </tr>\n",
              "  </tbody>\n",
              "</table>\n",
              "<p>5232 rows × 1 columns</p>\n",
              "</div><br><label><b>dtype:</b> int64</label>"
            ]
          },
          "metadata": {},
          "execution_count": 97
        }
      ]
    },
    {
      "cell_type": "code",
      "source": [
        "data.loc[data['service_name'] == '0x95758EBA87326C4D5DECC8B51A8B9C61', 'service_code'].value_counts()"
      ],
      "metadata": {
        "id": "dHO-VGG5g4xy",
        "colab": {
          "base_uri": "https://localhost:8080/",
          "height": 489
        },
        "outputId": "ee6515f9-6009-4259-cb90-797a0dce1099"
      },
      "execution_count": null,
      "outputs": [
        {
          "output_type": "execute_result",
          "data": {
            "text/plain": [
              "service_code\n",
              "0xCDEA5658E0AD52E1700653CAE2A4928D    16780\n",
              "0x332E8D3220A5317B23558A5E79CE00E4    14832\n",
              "0x54054703A9278593F2C779D0E128A3A6    11057\n",
              "0x4F8A79924D1B8D817FC07D5B0814052F     9891\n",
              "0xC9178011BA3F7F60E28BFE503478E35B     9400\n",
              "                                      ...  \n",
              "0x0AD9487B715D73FD145612C371D6CB3A        1\n",
              "0x637C99D35156C6F8349D379BC733055C        1\n",
              "0xF85F09B08D9B77B921425A79A88F54F2        1\n",
              "0xE626482D372A399236A7473DCB4FA695        1\n",
              "0x8AC090A0AF01CCCA1A44CD37B18CA907        1\n",
              "Name: count, Length: 381, dtype: int64"
            ],
            "text/html": [
              "<div>\n",
              "<style scoped>\n",
              "    .dataframe tbody tr th:only-of-type {\n",
              "        vertical-align: middle;\n",
              "    }\n",
              "\n",
              "    .dataframe tbody tr th {\n",
              "        vertical-align: top;\n",
              "    }\n",
              "\n",
              "    .dataframe thead th {\n",
              "        text-align: right;\n",
              "    }\n",
              "</style>\n",
              "<table border=\"1\" class=\"dataframe\">\n",
              "  <thead>\n",
              "    <tr style=\"text-align: right;\">\n",
              "      <th></th>\n",
              "      <th>count</th>\n",
              "    </tr>\n",
              "    <tr>\n",
              "      <th>service_code</th>\n",
              "      <th></th>\n",
              "    </tr>\n",
              "  </thead>\n",
              "  <tbody>\n",
              "    <tr>\n",
              "      <th>0xCDEA5658E0AD52E1700653CAE2A4928D</th>\n",
              "      <td>16780</td>\n",
              "    </tr>\n",
              "    <tr>\n",
              "      <th>0x332E8D3220A5317B23558A5E79CE00E4</th>\n",
              "      <td>14832</td>\n",
              "    </tr>\n",
              "    <tr>\n",
              "      <th>0x54054703A9278593F2C779D0E128A3A6</th>\n",
              "      <td>11057</td>\n",
              "    </tr>\n",
              "    <tr>\n",
              "      <th>0x4F8A79924D1B8D817FC07D5B0814052F</th>\n",
              "      <td>9891</td>\n",
              "    </tr>\n",
              "    <tr>\n",
              "      <th>0xC9178011BA3F7F60E28BFE503478E35B</th>\n",
              "      <td>9400</td>\n",
              "    </tr>\n",
              "    <tr>\n",
              "      <th>...</th>\n",
              "      <td>...</td>\n",
              "    </tr>\n",
              "    <tr>\n",
              "      <th>0x0AD9487B715D73FD145612C371D6CB3A</th>\n",
              "      <td>1</td>\n",
              "    </tr>\n",
              "    <tr>\n",
              "      <th>0x637C99D35156C6F8349D379BC733055C</th>\n",
              "      <td>1</td>\n",
              "    </tr>\n",
              "    <tr>\n",
              "      <th>0xF85F09B08D9B77B921425A79A88F54F2</th>\n",
              "      <td>1</td>\n",
              "    </tr>\n",
              "    <tr>\n",
              "      <th>0xE626482D372A399236A7473DCB4FA695</th>\n",
              "      <td>1</td>\n",
              "    </tr>\n",
              "    <tr>\n",
              "      <th>0x8AC090A0AF01CCCA1A44CD37B18CA907</th>\n",
              "      <td>1</td>\n",
              "    </tr>\n",
              "  </tbody>\n",
              "</table>\n",
              "<p>381 rows × 1 columns</p>\n",
              "</div><br><label><b>dtype:</b> int64</label>"
            ]
          },
          "metadata": {},
          "execution_count": 98
        }
      ]
    },
    {
      "cell_type": "code",
      "source": [
        "data.loc[data['service_code'] == '0xCDEA5658E0AD52E1700653CAE2A4928D', 'service_name'].value_counts()"
      ],
      "metadata": {
        "colab": {
          "base_uri": "https://localhost:8080/",
          "height": 147
        },
        "id": "LI-vOQLKwvvh",
        "outputId": "6e2ac32d-aa08-49ea-894b-3e6ce96677e0"
      },
      "execution_count": null,
      "outputs": [
        {
          "output_type": "execute_result",
          "data": {
            "text/plain": [
              "service_name\n",
              "0x95758EBA87326C4D5DECC8B51A8B9C61    16780\n",
              "Name: count, dtype: int64"
            ],
            "text/html": [
              "<div>\n",
              "<style scoped>\n",
              "    .dataframe tbody tr th:only-of-type {\n",
              "        vertical-align: middle;\n",
              "    }\n",
              "\n",
              "    .dataframe tbody tr th {\n",
              "        vertical-align: top;\n",
              "    }\n",
              "\n",
              "    .dataframe thead th {\n",
              "        text-align: right;\n",
              "    }\n",
              "</style>\n",
              "<table border=\"1\" class=\"dataframe\">\n",
              "  <thead>\n",
              "    <tr style=\"text-align: right;\">\n",
              "      <th></th>\n",
              "      <th>count</th>\n",
              "    </tr>\n",
              "    <tr>\n",
              "      <th>service_name</th>\n",
              "      <th></th>\n",
              "    </tr>\n",
              "  </thead>\n",
              "  <tbody>\n",
              "    <tr>\n",
              "      <th>0x95758EBA87326C4D5DECC8B51A8B9C61</th>\n",
              "      <td>16780</td>\n",
              "    </tr>\n",
              "  </tbody>\n",
              "</table>\n",
              "</div><br><label><b>dtype:</b> int64</label>"
            ]
          },
          "metadata": {},
          "execution_count": 99
        }
      ]
    },
    {
      "cell_type": "markdown",
      "source": [
        "Получается, service_name - категории, а service_code - подкатегории в этих категориях"
      ],
      "metadata": {
        "id": "ZbDXXYUxyOE7"
      }
    },
    {
      "cell_type": "code",
      "source": [
        "data['service_document_id'].value_counts()[data['service_document_id'].value_counts() > 1]#.loc[data['service_document_id'].value_counts()['count'] > 1]"
      ],
      "metadata": {
        "colab": {
          "base_uri": "https://localhost:8080/",
          "height": 489
        },
        "id": "W0NuDXsyyaBx",
        "outputId": "404d7722-9426-489a-be41-c441193d14f9"
      },
      "execution_count": null,
      "outputs": [
        {
          "output_type": "execute_result",
          "data": {
            "text/plain": [
              "service_document_id\n",
              "0x15075263622836BE21F6ACB4FA8E4BF3    5\n",
              "0xCFD3AA08E30A6A5579084EC5CEC09A3E    3\n",
              "0xB6C1978D38056A06C10D64A772C3F129    3\n",
              "0x04464966EB0F7A3ED17CE2E94059923C    3\n",
              "0x633F8A146E95A4D3658B22B260C75196    3\n",
              "                                     ..\n",
              "0xFCC9C8A47A43EE5D6E3112ED1FC09BBB    2\n",
              "0xBDC69FBDE379B8E0B6CEC6EBF4F373B6    2\n",
              "0xF30FD54E6017E062EFF4701D064BD4D6    2\n",
              "0x954D60385E90E28D5D34D186D0F436CA    2\n",
              "0x5BAE142FE3322A37BD2A1D206A05E93D    2\n",
              "Name: count, Length: 6503, dtype: int64"
            ],
            "text/html": [
              "<div>\n",
              "<style scoped>\n",
              "    .dataframe tbody tr th:only-of-type {\n",
              "        vertical-align: middle;\n",
              "    }\n",
              "\n",
              "    .dataframe tbody tr th {\n",
              "        vertical-align: top;\n",
              "    }\n",
              "\n",
              "    .dataframe thead th {\n",
              "        text-align: right;\n",
              "    }\n",
              "</style>\n",
              "<table border=\"1\" class=\"dataframe\">\n",
              "  <thead>\n",
              "    <tr style=\"text-align: right;\">\n",
              "      <th></th>\n",
              "      <th>count</th>\n",
              "    </tr>\n",
              "    <tr>\n",
              "      <th>service_document_id</th>\n",
              "      <th></th>\n",
              "    </tr>\n",
              "  </thead>\n",
              "  <tbody>\n",
              "    <tr>\n",
              "      <th>0x15075263622836BE21F6ACB4FA8E4BF3</th>\n",
              "      <td>5</td>\n",
              "    </tr>\n",
              "    <tr>\n",
              "      <th>0xCFD3AA08E30A6A5579084EC5CEC09A3E</th>\n",
              "      <td>3</td>\n",
              "    </tr>\n",
              "    <tr>\n",
              "      <th>0xB6C1978D38056A06C10D64A772C3F129</th>\n",
              "      <td>3</td>\n",
              "    </tr>\n",
              "    <tr>\n",
              "      <th>0x04464966EB0F7A3ED17CE2E94059923C</th>\n",
              "      <td>3</td>\n",
              "    </tr>\n",
              "    <tr>\n",
              "      <th>0x633F8A146E95A4D3658B22B260C75196</th>\n",
              "      <td>3</td>\n",
              "    </tr>\n",
              "    <tr>\n",
              "      <th>...</th>\n",
              "      <td>...</td>\n",
              "    </tr>\n",
              "    <tr>\n",
              "      <th>0xFCC9C8A47A43EE5D6E3112ED1FC09BBB</th>\n",
              "      <td>2</td>\n",
              "    </tr>\n",
              "    <tr>\n",
              "      <th>0xBDC69FBDE379B8E0B6CEC6EBF4F373B6</th>\n",
              "      <td>2</td>\n",
              "    </tr>\n",
              "    <tr>\n",
              "      <th>0xF30FD54E6017E062EFF4701D064BD4D6</th>\n",
              "      <td>2</td>\n",
              "    </tr>\n",
              "    <tr>\n",
              "      <th>0x954D60385E90E28D5D34D186D0F436CA</th>\n",
              "      <td>2</td>\n",
              "    </tr>\n",
              "    <tr>\n",
              "      <th>0x5BAE142FE3322A37BD2A1D206A05E93D</th>\n",
              "      <td>2</td>\n",
              "    </tr>\n",
              "  </tbody>\n",
              "</table>\n",
              "<p>6503 rows × 1 columns</p>\n",
              "</div><br><label><b>dtype:</b> int64</label>"
            ]
          },
          "metadata": {},
          "execution_count": 100
        }
      ]
    },
    {
      "cell_type": "code",
      "source": [
        "data.loc[data['service_document_id'] == '0x15075263622836BE21F6ACB4FA8E4BF3']"
      ],
      "metadata": {
        "colab": {
          "base_uri": "https://localhost:8080/",
          "height": 313
        },
        "id": "-d76ZURD32mm",
        "outputId": "0cbc62a9-7d00-4da3-cabe-249beb2df19d"
      },
      "execution_count": null,
      "outputs": [
        {
          "output_type": "execute_result",
          "data": {
            "text/plain": [
              "                       service_document_id  \\\n",
              "298369  0x15075263622836BE21F6ACB4FA8E4BF3   \n",
              "394920  0x15075263622836BE21F6ACB4FA8E4BF3   \n",
              "394921  0x15075263622836BE21F6ACB4FA8E4BF3   \n",
              "394922  0x15075263622836BE21F6ACB4FA8E4BF3   \n",
              "394923  0x15075263622836BE21F6ACB4FA8E4BF3   \n",
              "\n",
              "                       account_document_id        service_date  \\\n",
              "298369  0xE3AD0B25AAB74181C30E1895104D2C04 2022-07-31 18:07:00   \n",
              "394920  0x025EEF6559D288810B72E30DA01C72BC 2022-10-06 15:57:31   \n",
              "394921  0xC957FFB34F7C95C41DA082B6ECB21592 2022-10-06 15:57:31   \n",
              "394922  0x5220BB151561EBCC97CE43EAFC084896 2022-10-06 15:57:57   \n",
              "394923  0x6B0CF840E51EF9A9B86E19CB514FB490 2022-10-06 15:57:57   \n",
              "\n",
              "       service_amount_net                          patient_id  \\\n",
              "298369               2876  0xE51A49378A097CAC5BD7706574AD0403   \n",
              "394920              -2876  0xE51A49378A097CAC5BD7706574AD0403   \n",
              "394921               2876  0xE51A49378A097CAC5BD7706574AD0403   \n",
              "394922              -2876  0xE51A49378A097CAC5BD7706574AD0403   \n",
              "394923               2876  0xE51A49378A097CAC5BD7706574AD0403   \n",
              "\n",
              "                              service_code  \\\n",
              "298369  0x01C391120DAD94DA39642E91A3B96CFD   \n",
              "394920  0x01C391120DAD94DA39642E91A3B96CFD   \n",
              "394921  0x01C391120DAD94DA39642E91A3B96CFD   \n",
              "394922  0x01C391120DAD94DA39642E91A3B96CFD   \n",
              "394923  0x01C391120DAD94DA39642E91A3B96CFD   \n",
              "\n",
              "                              service_name  is_hospital  year  month  \\\n",
              "298369  0x9411B36A65F5B2170700E0DD35DF206C            0  2022      7   \n",
              "394920  0x9411B36A65F5B2170700E0DD35DF206C            0  2022     10   \n",
              "394921  0x9411B36A65F5B2170700E0DD35DF206C            0  2022     10   \n",
              "394922  0x9411B36A65F5B2170700E0DD35DF206C            0  2022     10   \n",
              "394923  0x9411B36A65F5B2170700E0DD35DF206C            0  2022     10   \n",
              "\n",
              "              date      time  \n",
              "298369  2022-07-31  18:07:00  \n",
              "394920  2022-10-06  15:57:31  \n",
              "394921  2022-10-06  15:57:31  \n",
              "394922  2022-10-06  15:57:57  \n",
              "394923  2022-10-06  15:57:57  "
            ],
            "text/html": [
              "\n",
              "  <div id=\"df-3d42318e-b57e-4cc2-96e7-c43b15ea0519\" class=\"colab-df-container\">\n",
              "    <div>\n",
              "<style scoped>\n",
              "    .dataframe tbody tr th:only-of-type {\n",
              "        vertical-align: middle;\n",
              "    }\n",
              "\n",
              "    .dataframe tbody tr th {\n",
              "        vertical-align: top;\n",
              "    }\n",
              "\n",
              "    .dataframe thead th {\n",
              "        text-align: right;\n",
              "    }\n",
              "</style>\n",
              "<table border=\"1\" class=\"dataframe\">\n",
              "  <thead>\n",
              "    <tr style=\"text-align: right;\">\n",
              "      <th></th>\n",
              "      <th>service_document_id</th>\n",
              "      <th>account_document_id</th>\n",
              "      <th>service_date</th>\n",
              "      <th>service_amount_net</th>\n",
              "      <th>patient_id</th>\n",
              "      <th>service_code</th>\n",
              "      <th>service_name</th>\n",
              "      <th>is_hospital</th>\n",
              "      <th>year</th>\n",
              "      <th>month</th>\n",
              "      <th>date</th>\n",
              "      <th>time</th>\n",
              "    </tr>\n",
              "  </thead>\n",
              "  <tbody>\n",
              "    <tr>\n",
              "      <th>298369</th>\n",
              "      <td>0x15075263622836BE21F6ACB4FA8E4BF3</td>\n",
              "      <td>0xE3AD0B25AAB74181C30E1895104D2C04</td>\n",
              "      <td>2022-07-31 18:07:00</td>\n",
              "      <td>2876</td>\n",
              "      <td>0xE51A49378A097CAC5BD7706574AD0403</td>\n",
              "      <td>0x01C391120DAD94DA39642E91A3B96CFD</td>\n",
              "      <td>0x9411B36A65F5B2170700E0DD35DF206C</td>\n",
              "      <td>0</td>\n",
              "      <td>2022</td>\n",
              "      <td>7</td>\n",
              "      <td>2022-07-31</td>\n",
              "      <td>18:07:00</td>\n",
              "    </tr>\n",
              "    <tr>\n",
              "      <th>394920</th>\n",
              "      <td>0x15075263622836BE21F6ACB4FA8E4BF3</td>\n",
              "      <td>0x025EEF6559D288810B72E30DA01C72BC</td>\n",
              "      <td>2022-10-06 15:57:31</td>\n",
              "      <td>-2876</td>\n",
              "      <td>0xE51A49378A097CAC5BD7706574AD0403</td>\n",
              "      <td>0x01C391120DAD94DA39642E91A3B96CFD</td>\n",
              "      <td>0x9411B36A65F5B2170700E0DD35DF206C</td>\n",
              "      <td>0</td>\n",
              "      <td>2022</td>\n",
              "      <td>10</td>\n",
              "      <td>2022-10-06</td>\n",
              "      <td>15:57:31</td>\n",
              "    </tr>\n",
              "    <tr>\n",
              "      <th>394921</th>\n",
              "      <td>0x15075263622836BE21F6ACB4FA8E4BF3</td>\n",
              "      <td>0xC957FFB34F7C95C41DA082B6ECB21592</td>\n",
              "      <td>2022-10-06 15:57:31</td>\n",
              "      <td>2876</td>\n",
              "      <td>0xE51A49378A097CAC5BD7706574AD0403</td>\n",
              "      <td>0x01C391120DAD94DA39642E91A3B96CFD</td>\n",
              "      <td>0x9411B36A65F5B2170700E0DD35DF206C</td>\n",
              "      <td>0</td>\n",
              "      <td>2022</td>\n",
              "      <td>10</td>\n",
              "      <td>2022-10-06</td>\n",
              "      <td>15:57:31</td>\n",
              "    </tr>\n",
              "    <tr>\n",
              "      <th>394922</th>\n",
              "      <td>0x15075263622836BE21F6ACB4FA8E4BF3</td>\n",
              "      <td>0x5220BB151561EBCC97CE43EAFC084896</td>\n",
              "      <td>2022-10-06 15:57:57</td>\n",
              "      <td>-2876</td>\n",
              "      <td>0xE51A49378A097CAC5BD7706574AD0403</td>\n",
              "      <td>0x01C391120DAD94DA39642E91A3B96CFD</td>\n",
              "      <td>0x9411B36A65F5B2170700E0DD35DF206C</td>\n",
              "      <td>0</td>\n",
              "      <td>2022</td>\n",
              "      <td>10</td>\n",
              "      <td>2022-10-06</td>\n",
              "      <td>15:57:57</td>\n",
              "    </tr>\n",
              "    <tr>\n",
              "      <th>394923</th>\n",
              "      <td>0x15075263622836BE21F6ACB4FA8E4BF3</td>\n",
              "      <td>0x6B0CF840E51EF9A9B86E19CB514FB490</td>\n",
              "      <td>2022-10-06 15:57:57</td>\n",
              "      <td>2876</td>\n",
              "      <td>0xE51A49378A097CAC5BD7706574AD0403</td>\n",
              "      <td>0x01C391120DAD94DA39642E91A3B96CFD</td>\n",
              "      <td>0x9411B36A65F5B2170700E0DD35DF206C</td>\n",
              "      <td>0</td>\n",
              "      <td>2022</td>\n",
              "      <td>10</td>\n",
              "      <td>2022-10-06</td>\n",
              "      <td>15:57:57</td>\n",
              "    </tr>\n",
              "  </tbody>\n",
              "</table>\n",
              "</div>\n",
              "    <div class=\"colab-df-buttons\">\n",
              "\n",
              "  <div class=\"colab-df-container\">\n",
              "    <button class=\"colab-df-convert\" onclick=\"convertToInteractive('df-3d42318e-b57e-4cc2-96e7-c43b15ea0519')\"\n",
              "            title=\"Convert this dataframe to an interactive table.\"\n",
              "            style=\"display:none;\">\n",
              "\n",
              "  <svg xmlns=\"http://www.w3.org/2000/svg\" height=\"24px\" viewBox=\"0 -960 960 960\">\n",
              "    <path d=\"M120-120v-720h720v720H120Zm60-500h600v-160H180v160Zm220 220h160v-160H400v160Zm0 220h160v-160H400v160ZM180-400h160v-160H180v160Zm440 0h160v-160H620v160ZM180-180h160v-160H180v160Zm440 0h160v-160H620v160Z\"/>\n",
              "  </svg>\n",
              "    </button>\n",
              "\n",
              "  <style>\n",
              "    .colab-df-container {\n",
              "      display:flex;\n",
              "      gap: 12px;\n",
              "    }\n",
              "\n",
              "    .colab-df-convert {\n",
              "      background-color: #E8F0FE;\n",
              "      border: none;\n",
              "      border-radius: 50%;\n",
              "      cursor: pointer;\n",
              "      display: none;\n",
              "      fill: #1967D2;\n",
              "      height: 32px;\n",
              "      padding: 0 0 0 0;\n",
              "      width: 32px;\n",
              "    }\n",
              "\n",
              "    .colab-df-convert:hover {\n",
              "      background-color: #E2EBFA;\n",
              "      box-shadow: 0px 1px 2px rgba(60, 64, 67, 0.3), 0px 1px 3px 1px rgba(60, 64, 67, 0.15);\n",
              "      fill: #174EA6;\n",
              "    }\n",
              "\n",
              "    .colab-df-buttons div {\n",
              "      margin-bottom: 4px;\n",
              "    }\n",
              "\n",
              "    [theme=dark] .colab-df-convert {\n",
              "      background-color: #3B4455;\n",
              "      fill: #D2E3FC;\n",
              "    }\n",
              "\n",
              "    [theme=dark] .colab-df-convert:hover {\n",
              "      background-color: #434B5C;\n",
              "      box-shadow: 0px 1px 3px 1px rgba(0, 0, 0, 0.15);\n",
              "      filter: drop-shadow(0px 1px 2px rgba(0, 0, 0, 0.3));\n",
              "      fill: #FFFFFF;\n",
              "    }\n",
              "  </style>\n",
              "\n",
              "    <script>\n",
              "      const buttonEl =\n",
              "        document.querySelector('#df-3d42318e-b57e-4cc2-96e7-c43b15ea0519 button.colab-df-convert');\n",
              "      buttonEl.style.display =\n",
              "        google.colab.kernel.accessAllowed ? 'block' : 'none';\n",
              "\n",
              "      async function convertToInteractive(key) {\n",
              "        const element = document.querySelector('#df-3d42318e-b57e-4cc2-96e7-c43b15ea0519');\n",
              "        const dataTable =\n",
              "          await google.colab.kernel.invokeFunction('convertToInteractive',\n",
              "                                                    [key], {});\n",
              "        if (!dataTable) return;\n",
              "\n",
              "        const docLinkHtml = 'Like what you see? Visit the ' +\n",
              "          '<a target=\"_blank\" href=https://colab.research.google.com/notebooks/data_table.ipynb>data table notebook</a>'\n",
              "          + ' to learn more about interactive tables.';\n",
              "        element.innerHTML = '';\n",
              "        dataTable['output_type'] = 'display_data';\n",
              "        await google.colab.output.renderOutput(dataTable, element);\n",
              "        const docLink = document.createElement('div');\n",
              "        docLink.innerHTML = docLinkHtml;\n",
              "        element.appendChild(docLink);\n",
              "      }\n",
              "    </script>\n",
              "  </div>\n",
              "\n",
              "\n",
              "<div id=\"df-2c4d4713-d8a3-4e67-b6b9-b2a0e73385d5\">\n",
              "  <button class=\"colab-df-quickchart\" onclick=\"quickchart('df-2c4d4713-d8a3-4e67-b6b9-b2a0e73385d5')\"\n",
              "            title=\"Suggest charts\"\n",
              "            style=\"display:none;\">\n",
              "\n",
              "<svg xmlns=\"http://www.w3.org/2000/svg\" height=\"24px\"viewBox=\"0 0 24 24\"\n",
              "     width=\"24px\">\n",
              "    <g>\n",
              "        <path d=\"M19 3H5c-1.1 0-2 .9-2 2v14c0 1.1.9 2 2 2h14c1.1 0 2-.9 2-2V5c0-1.1-.9-2-2-2zM9 17H7v-7h2v7zm4 0h-2V7h2v10zm4 0h-2v-4h2v4z\"/>\n",
              "    </g>\n",
              "</svg>\n",
              "  </button>\n",
              "\n",
              "<style>\n",
              "  .colab-df-quickchart {\n",
              "      --bg-color: #E8F0FE;\n",
              "      --fill-color: #1967D2;\n",
              "      --hover-bg-color: #E2EBFA;\n",
              "      --hover-fill-color: #174EA6;\n",
              "      --disabled-fill-color: #AAA;\n",
              "      --disabled-bg-color: #DDD;\n",
              "  }\n",
              "\n",
              "  [theme=dark] .colab-df-quickchart {\n",
              "      --bg-color: #3B4455;\n",
              "      --fill-color: #D2E3FC;\n",
              "      --hover-bg-color: #434B5C;\n",
              "      --hover-fill-color: #FFFFFF;\n",
              "      --disabled-bg-color: #3B4455;\n",
              "      --disabled-fill-color: #666;\n",
              "  }\n",
              "\n",
              "  .colab-df-quickchart {\n",
              "    background-color: var(--bg-color);\n",
              "    border: none;\n",
              "    border-radius: 50%;\n",
              "    cursor: pointer;\n",
              "    display: none;\n",
              "    fill: var(--fill-color);\n",
              "    height: 32px;\n",
              "    padding: 0;\n",
              "    width: 32px;\n",
              "  }\n",
              "\n",
              "  .colab-df-quickchart:hover {\n",
              "    background-color: var(--hover-bg-color);\n",
              "    box-shadow: 0 1px 2px rgba(60, 64, 67, 0.3), 0 1px 3px 1px rgba(60, 64, 67, 0.15);\n",
              "    fill: var(--button-hover-fill-color);\n",
              "  }\n",
              "\n",
              "  .colab-df-quickchart-complete:disabled,\n",
              "  .colab-df-quickchart-complete:disabled:hover {\n",
              "    background-color: var(--disabled-bg-color);\n",
              "    fill: var(--disabled-fill-color);\n",
              "    box-shadow: none;\n",
              "  }\n",
              "\n",
              "  .colab-df-spinner {\n",
              "    border: 2px solid var(--fill-color);\n",
              "    border-color: transparent;\n",
              "    border-bottom-color: var(--fill-color);\n",
              "    animation:\n",
              "      spin 1s steps(1) infinite;\n",
              "  }\n",
              "\n",
              "  @keyframes spin {\n",
              "    0% {\n",
              "      border-color: transparent;\n",
              "      border-bottom-color: var(--fill-color);\n",
              "      border-left-color: var(--fill-color);\n",
              "    }\n",
              "    20% {\n",
              "      border-color: transparent;\n",
              "      border-left-color: var(--fill-color);\n",
              "      border-top-color: var(--fill-color);\n",
              "    }\n",
              "    30% {\n",
              "      border-color: transparent;\n",
              "      border-left-color: var(--fill-color);\n",
              "      border-top-color: var(--fill-color);\n",
              "      border-right-color: var(--fill-color);\n",
              "    }\n",
              "    40% {\n",
              "      border-color: transparent;\n",
              "      border-right-color: var(--fill-color);\n",
              "      border-top-color: var(--fill-color);\n",
              "    }\n",
              "    60% {\n",
              "      border-color: transparent;\n",
              "      border-right-color: var(--fill-color);\n",
              "    }\n",
              "    80% {\n",
              "      border-color: transparent;\n",
              "      border-right-color: var(--fill-color);\n",
              "      border-bottom-color: var(--fill-color);\n",
              "    }\n",
              "    90% {\n",
              "      border-color: transparent;\n",
              "      border-bottom-color: var(--fill-color);\n",
              "    }\n",
              "  }\n",
              "</style>\n",
              "\n",
              "  <script>\n",
              "    async function quickchart(key) {\n",
              "      const quickchartButtonEl =\n",
              "        document.querySelector('#' + key + ' button');\n",
              "      quickchartButtonEl.disabled = true;  // To prevent multiple clicks.\n",
              "      quickchartButtonEl.classList.add('colab-df-spinner');\n",
              "      try {\n",
              "        const charts = await google.colab.kernel.invokeFunction(\n",
              "            'suggestCharts', [key], {});\n",
              "      } catch (error) {\n",
              "        console.error('Error during call to suggestCharts:', error);\n",
              "      }\n",
              "      quickchartButtonEl.classList.remove('colab-df-spinner');\n",
              "      quickchartButtonEl.classList.add('colab-df-quickchart-complete');\n",
              "    }\n",
              "    (() => {\n",
              "      let quickchartButtonEl =\n",
              "        document.querySelector('#df-2c4d4713-d8a3-4e67-b6b9-b2a0e73385d5 button');\n",
              "      quickchartButtonEl.style.display =\n",
              "        google.colab.kernel.accessAllowed ? 'block' : 'none';\n",
              "    })();\n",
              "  </script>\n",
              "</div>\n",
              "    </div>\n",
              "  </div>\n"
            ],
            "application/vnd.google.colaboratory.intrinsic+json": {
              "type": "dataframe",
              "repr_error": "0"
            }
          },
          "metadata": {},
          "execution_count": 101
        }
      ]
    },
    {
      "cell_type": "code",
      "source": [
        "data['service_amount_net'] = data['service_amount_net'].str.replace(',', '.', regex=False)"
      ],
      "metadata": {
        "id": "PZxydbkr5UBK"
      },
      "execution_count": null,
      "outputs": []
    },
    {
      "cell_type": "code",
      "source": [
        "data.loc[data['service_amount_net'] == '2120,8']"
      ],
      "metadata": {
        "colab": {
          "base_uri": "https://localhost:8080/",
          "height": 73
        },
        "id": "P-JKi7gy53vZ",
        "outputId": "858d8aac-6860-4167-fadf-9cf892859010"
      },
      "execution_count": null,
      "outputs": [
        {
          "output_type": "execute_result",
          "data": {
            "text/plain": [
              "Empty DataFrame\n",
              "Columns: [service_document_id, account_document_id, service_date, service_amount_net, patient_id, service_code, service_name, is_hospital, year, month, date, time]\n",
              "Index: []"
            ],
            "text/html": [
              "\n",
              "  <div id=\"df-6ae5995e-c7ca-4343-9c1c-9a6ed4e31ea2\" class=\"colab-df-container\">\n",
              "    <div>\n",
              "<style scoped>\n",
              "    .dataframe tbody tr th:only-of-type {\n",
              "        vertical-align: middle;\n",
              "    }\n",
              "\n",
              "    .dataframe tbody tr th {\n",
              "        vertical-align: top;\n",
              "    }\n",
              "\n",
              "    .dataframe thead th {\n",
              "        text-align: right;\n",
              "    }\n",
              "</style>\n",
              "<table border=\"1\" class=\"dataframe\">\n",
              "  <thead>\n",
              "    <tr style=\"text-align: right;\">\n",
              "      <th></th>\n",
              "      <th>service_document_id</th>\n",
              "      <th>account_document_id</th>\n",
              "      <th>service_date</th>\n",
              "      <th>service_amount_net</th>\n",
              "      <th>patient_id</th>\n",
              "      <th>service_code</th>\n",
              "      <th>service_name</th>\n",
              "      <th>is_hospital</th>\n",
              "      <th>year</th>\n",
              "      <th>month</th>\n",
              "      <th>date</th>\n",
              "      <th>time</th>\n",
              "    </tr>\n",
              "  </thead>\n",
              "  <tbody>\n",
              "  </tbody>\n",
              "</table>\n",
              "</div>\n",
              "    <div class=\"colab-df-buttons\">\n",
              "\n",
              "  <div class=\"colab-df-container\">\n",
              "    <button class=\"colab-df-convert\" onclick=\"convertToInteractive('df-6ae5995e-c7ca-4343-9c1c-9a6ed4e31ea2')\"\n",
              "            title=\"Convert this dataframe to an interactive table.\"\n",
              "            style=\"display:none;\">\n",
              "\n",
              "  <svg xmlns=\"http://www.w3.org/2000/svg\" height=\"24px\" viewBox=\"0 -960 960 960\">\n",
              "    <path d=\"M120-120v-720h720v720H120Zm60-500h600v-160H180v160Zm220 220h160v-160H400v160Zm0 220h160v-160H400v160ZM180-400h160v-160H180v160Zm440 0h160v-160H620v160ZM180-180h160v-160H180v160Zm440 0h160v-160H620v160Z\"/>\n",
              "  </svg>\n",
              "    </button>\n",
              "\n",
              "  <style>\n",
              "    .colab-df-container {\n",
              "      display:flex;\n",
              "      gap: 12px;\n",
              "    }\n",
              "\n",
              "    .colab-df-convert {\n",
              "      background-color: #E8F0FE;\n",
              "      border: none;\n",
              "      border-radius: 50%;\n",
              "      cursor: pointer;\n",
              "      display: none;\n",
              "      fill: #1967D2;\n",
              "      height: 32px;\n",
              "      padding: 0 0 0 0;\n",
              "      width: 32px;\n",
              "    }\n",
              "\n",
              "    .colab-df-convert:hover {\n",
              "      background-color: #E2EBFA;\n",
              "      box-shadow: 0px 1px 2px rgba(60, 64, 67, 0.3), 0px 1px 3px 1px rgba(60, 64, 67, 0.15);\n",
              "      fill: #174EA6;\n",
              "    }\n",
              "\n",
              "    .colab-df-buttons div {\n",
              "      margin-bottom: 4px;\n",
              "    }\n",
              "\n",
              "    [theme=dark] .colab-df-convert {\n",
              "      background-color: #3B4455;\n",
              "      fill: #D2E3FC;\n",
              "    }\n",
              "\n",
              "    [theme=dark] .colab-df-convert:hover {\n",
              "      background-color: #434B5C;\n",
              "      box-shadow: 0px 1px 3px 1px rgba(0, 0, 0, 0.15);\n",
              "      filter: drop-shadow(0px 1px 2px rgba(0, 0, 0, 0.3));\n",
              "      fill: #FFFFFF;\n",
              "    }\n",
              "  </style>\n",
              "\n",
              "    <script>\n",
              "      const buttonEl =\n",
              "        document.querySelector('#df-6ae5995e-c7ca-4343-9c1c-9a6ed4e31ea2 button.colab-df-convert');\n",
              "      buttonEl.style.display =\n",
              "        google.colab.kernel.accessAllowed ? 'block' : 'none';\n",
              "\n",
              "      async function convertToInteractive(key) {\n",
              "        const element = document.querySelector('#df-6ae5995e-c7ca-4343-9c1c-9a6ed4e31ea2');\n",
              "        const dataTable =\n",
              "          await google.colab.kernel.invokeFunction('convertToInteractive',\n",
              "                                                    [key], {});\n",
              "        if (!dataTable) return;\n",
              "\n",
              "        const docLinkHtml = 'Like what you see? Visit the ' +\n",
              "          '<a target=\"_blank\" href=https://colab.research.google.com/notebooks/data_table.ipynb>data table notebook</a>'\n",
              "          + ' to learn more about interactive tables.';\n",
              "        element.innerHTML = '';\n",
              "        dataTable['output_type'] = 'display_data';\n",
              "        await google.colab.output.renderOutput(dataTable, element);\n",
              "        const docLink = document.createElement('div');\n",
              "        docLink.innerHTML = docLinkHtml;\n",
              "        element.appendChild(docLink);\n",
              "      }\n",
              "    </script>\n",
              "  </div>\n",
              "\n",
              "    </div>\n",
              "  </div>\n"
            ],
            "application/vnd.google.colaboratory.intrinsic+json": {
              "type": "dataframe",
              "repr_error": "Out of range float values are not JSON compliant: nan"
            }
          },
          "metadata": {},
          "execution_count": 121
        }
      ]
    },
    {
      "cell_type": "code",
      "source": [
        "data['service_amount_net'] = data['service_amount_net'].astype(float)"
      ],
      "metadata": {
        "id": "3zB7PdX25w6W"
      },
      "execution_count": null,
      "outputs": []
    },
    {
      "cell_type": "code",
      "source": [
        "data.loc[data['service_amount_net'] < 0]"
      ],
      "metadata": {
        "colab": {
          "base_uri": "https://localhost:8080/",
          "height": 617
        },
        "id": "TeYJHqDe4eGm",
        "outputId": "dcd7ced8-f9de-40c7-e8a0-5a9536293b46"
      },
      "execution_count": null,
      "outputs": [
        {
          "output_type": "execute_result",
          "data": {
            "text/plain": [
              "                        service_document_id  \\\n",
              "8979     0xB407F4E7307937016418FB70C2D7861E   \n",
              "8980     0xA049F908C65F532848BF82167464A96D   \n",
              "9611     0x1EC5FC27360990822D30A30A55A325B2   \n",
              "9612     0xE144DB6D04D8CDFA8AB7C0833462BCF2   \n",
              "9613     0x2D009B5FD732B98B1CA49B5300AA360D   \n",
              "...                                     ...   \n",
              "1024481  0x7BA3E55975398686EF73DD5DD7E009CC   \n",
              "1024483  0x3B6758E438A23950C61273F54A37BF69   \n",
              "1024485  0x511789CD7CA93AEE3FD39A7C52B60AE2   \n",
              "1024487  0x01D95B001432CAD321110E5ACE1FAD03   \n",
              "1024489  0xD5D478DE2F34903976E5097EE703A956   \n",
              "\n",
              "                        account_document_id        service_date  \\\n",
              "8979     0xD77158B658DBB63C03BD9B3F4B28B1BE 2022-01-09 10:38:00   \n",
              "8980     0x13A8A87093D4014DAACA1F03C3A8DEA4 2022-01-12 17:49:00   \n",
              "9611     0x51AE657DA227BA4FDBB3969C1302D1CA 2022-01-14 10:22:03   \n",
              "9612     0x940C76DA709BDAECF05408448593864D 2022-01-14 10:22:03   \n",
              "9613     0xA0043F0209AE07086F2D43AA8DDB9905 2022-01-14 10:22:03   \n",
              "...                                     ...                 ...   \n",
              "1024481  0xD050C2091F0DEBE6DC2320D605488CC2 2023-11-21 14:13:11   \n",
              "1024483  0x93D517BBEE2397D71E4E22314AC2340E 2023-11-21 14:13:11   \n",
              "1024485  0x3D58DB61266F99107C290561E7F30475 2023-11-21 14:13:11   \n",
              "1024487  0x0D9719302D472E7B68E1112A9F7DD152 2023-11-21 14:13:11   \n",
              "1024489  0xF90F756220FEC5E3E23E4F418BCA1C6C 2023-11-21 14:13:11   \n",
              "\n",
              "         service_amount_net                          patient_id  \\\n",
              "8979                -322.50  0x54D712F99EF01D505AD63C1BDCD7F741   \n",
              "8980                -322.50  0x54D712F99EF01D505AD63C1BDCD7F741   \n",
              "9611               -2900.00  0x3105DF064BC58BAF05C8F92CE25CE057   \n",
              "9612              -15500.00  0x3105DF064BC58BAF05C8F92CE25CE057   \n",
              "9613                -500.00  0x3105DF064BC58BAF05C8F92CE25CE057   \n",
              "...                     ...                                 ...   \n",
              "1024481              -72.84  0x2F2203903C1ECA97E7D248EEE3DDE3B5   \n",
              "1024483              -30.45  0x2F2203903C1ECA97E7D248EEE3DDE3B5   \n",
              "1024485           -15696.72  0x2F2203903C1ECA97E7D248EEE3DDE3B5   \n",
              "1024487           -10828.00  0x2F2203903C1ECA97E7D248EEE3DDE3B5   \n",
              "1024489            -2065.00  0x2F2203903C1ECA97E7D248EEE3DDE3B5   \n",
              "\n",
              "                               service_code  \\\n",
              "8979     0x88279E546FF3469C6DE326908DDC010C   \n",
              "8980     0x88279E546FF3469C6DE326908DDC010C   \n",
              "9611     0xE2179527DB3BF4A9A59C13B3F74E62FD   \n",
              "9612     0xF4D7FBBBF68CEB8F65C01EB76F2E6B13   \n",
              "9613     0x71143E6174CD8D0EE7B4221DAF83296C   \n",
              "...                                     ...   \n",
              "1024481  0x66CD7A731D670D9F5F319D6C37F180EC   \n",
              "1024483  0xFCC0E796C5625B9C7715C6B9849978B0   \n",
              "1024485  0x140374C5D9E80FFA4A61583114476AB8   \n",
              "1024487  0x14376EB228783AAA18F9A9E5F2E25AEA   \n",
              "1024489  0x9091802BDD17D12642A36D0C321BD9C0   \n",
              "\n",
              "                               service_name  is_hospital  year  month  \\\n",
              "8979     0x8B079834541542B443EDB050A3F6ABD6            0  2022      1   \n",
              "8980     0x8B079834541542B443EDB050A3F6ABD6            0  2022      1   \n",
              "9611     0x856F00A72FB646B8731AB8765F059F35            1  2022      1   \n",
              "9612     0xDFAFEBF8AD1710D46E478BCA1CEC78B3            1  2022      1   \n",
              "9613     0x1E90B234BD341DF3F99EF3E2331CB3AB            1  2022      1   \n",
              "...                                     ...          ...   ...    ...   \n",
              "1024481  0x495A685BBC1C169D2F6D2651B466DD71            1  2023     11   \n",
              "1024483  0xD874741C49B7FA8082864ABF4E02197E            1  2023     11   \n",
              "1024485  0xFDF04541A2447EA2B8DF8FD1143D4174            1  2023     11   \n",
              "1024487  0xAF9B46BF5896AE49C9C769659B54C44C            1  2023     11   \n",
              "1024489  0x982A2BC2CEB8B72A8E1F4E3B40508923            1  2023     11   \n",
              "\n",
              "               date      time  \n",
              "8979     2022-01-09  10:38:00  \n",
              "8980     2022-01-12  17:49:00  \n",
              "9611     2022-01-14  10:22:03  \n",
              "9612     2022-01-14  10:22:03  \n",
              "9613     2022-01-14  10:22:03  \n",
              "...             ...       ...  \n",
              "1024481  2023-11-21  14:13:11  \n",
              "1024483  2023-11-21  14:13:11  \n",
              "1024485  2023-11-21  14:13:11  \n",
              "1024487  2023-11-21  14:13:11  \n",
              "1024489  2023-11-21  14:13:11  \n",
              "\n",
              "[7412 rows x 12 columns]"
            ],
            "text/html": [
              "\n",
              "  <div id=\"df-f6fc8d0c-dd48-4966-b575-e298245fe369\" class=\"colab-df-container\">\n",
              "    <div>\n",
              "<style scoped>\n",
              "    .dataframe tbody tr th:only-of-type {\n",
              "        vertical-align: middle;\n",
              "    }\n",
              "\n",
              "    .dataframe tbody tr th {\n",
              "        vertical-align: top;\n",
              "    }\n",
              "\n",
              "    .dataframe thead th {\n",
              "        text-align: right;\n",
              "    }\n",
              "</style>\n",
              "<table border=\"1\" class=\"dataframe\">\n",
              "  <thead>\n",
              "    <tr style=\"text-align: right;\">\n",
              "      <th></th>\n",
              "      <th>service_document_id</th>\n",
              "      <th>account_document_id</th>\n",
              "      <th>service_date</th>\n",
              "      <th>service_amount_net</th>\n",
              "      <th>patient_id</th>\n",
              "      <th>service_code</th>\n",
              "      <th>service_name</th>\n",
              "      <th>is_hospital</th>\n",
              "      <th>year</th>\n",
              "      <th>month</th>\n",
              "      <th>date</th>\n",
              "      <th>time</th>\n",
              "    </tr>\n",
              "  </thead>\n",
              "  <tbody>\n",
              "    <tr>\n",
              "      <th>8979</th>\n",
              "      <td>0xB407F4E7307937016418FB70C2D7861E</td>\n",
              "      <td>0xD77158B658DBB63C03BD9B3F4B28B1BE</td>\n",
              "      <td>2022-01-09 10:38:00</td>\n",
              "      <td>-322.50</td>\n",
              "      <td>0x54D712F99EF01D505AD63C1BDCD7F741</td>\n",
              "      <td>0x88279E546FF3469C6DE326908DDC010C</td>\n",
              "      <td>0x8B079834541542B443EDB050A3F6ABD6</td>\n",
              "      <td>0</td>\n",
              "      <td>2022</td>\n",
              "      <td>1</td>\n",
              "      <td>2022-01-09</td>\n",
              "      <td>10:38:00</td>\n",
              "    </tr>\n",
              "    <tr>\n",
              "      <th>8980</th>\n",
              "      <td>0xA049F908C65F532848BF82167464A96D</td>\n",
              "      <td>0x13A8A87093D4014DAACA1F03C3A8DEA4</td>\n",
              "      <td>2022-01-12 17:49:00</td>\n",
              "      <td>-322.50</td>\n",
              "      <td>0x54D712F99EF01D505AD63C1BDCD7F741</td>\n",
              "      <td>0x88279E546FF3469C6DE326908DDC010C</td>\n",
              "      <td>0x8B079834541542B443EDB050A3F6ABD6</td>\n",
              "      <td>0</td>\n",
              "      <td>2022</td>\n",
              "      <td>1</td>\n",
              "      <td>2022-01-12</td>\n",
              "      <td>17:49:00</td>\n",
              "    </tr>\n",
              "    <tr>\n",
              "      <th>9611</th>\n",
              "      <td>0x1EC5FC27360990822D30A30A55A325B2</td>\n",
              "      <td>0x51AE657DA227BA4FDBB3969C1302D1CA</td>\n",
              "      <td>2022-01-14 10:22:03</td>\n",
              "      <td>-2900.00</td>\n",
              "      <td>0x3105DF064BC58BAF05C8F92CE25CE057</td>\n",
              "      <td>0xE2179527DB3BF4A9A59C13B3F74E62FD</td>\n",
              "      <td>0x856F00A72FB646B8731AB8765F059F35</td>\n",
              "      <td>1</td>\n",
              "      <td>2022</td>\n",
              "      <td>1</td>\n",
              "      <td>2022-01-14</td>\n",
              "      <td>10:22:03</td>\n",
              "    </tr>\n",
              "    <tr>\n",
              "      <th>9612</th>\n",
              "      <td>0xE144DB6D04D8CDFA8AB7C0833462BCF2</td>\n",
              "      <td>0x940C76DA709BDAECF05408448593864D</td>\n",
              "      <td>2022-01-14 10:22:03</td>\n",
              "      <td>-15500.00</td>\n",
              "      <td>0x3105DF064BC58BAF05C8F92CE25CE057</td>\n",
              "      <td>0xF4D7FBBBF68CEB8F65C01EB76F2E6B13</td>\n",
              "      <td>0xDFAFEBF8AD1710D46E478BCA1CEC78B3</td>\n",
              "      <td>1</td>\n",
              "      <td>2022</td>\n",
              "      <td>1</td>\n",
              "      <td>2022-01-14</td>\n",
              "      <td>10:22:03</td>\n",
              "    </tr>\n",
              "    <tr>\n",
              "      <th>9613</th>\n",
              "      <td>0x2D009B5FD732B98B1CA49B5300AA360D</td>\n",
              "      <td>0xA0043F0209AE07086F2D43AA8DDB9905</td>\n",
              "      <td>2022-01-14 10:22:03</td>\n",
              "      <td>-500.00</td>\n",
              "      <td>0x3105DF064BC58BAF05C8F92CE25CE057</td>\n",
              "      <td>0x71143E6174CD8D0EE7B4221DAF83296C</td>\n",
              "      <td>0x1E90B234BD341DF3F99EF3E2331CB3AB</td>\n",
              "      <td>1</td>\n",
              "      <td>2022</td>\n",
              "      <td>1</td>\n",
              "      <td>2022-01-14</td>\n",
              "      <td>10:22:03</td>\n",
              "    </tr>\n",
              "    <tr>\n",
              "      <th>...</th>\n",
              "      <td>...</td>\n",
              "      <td>...</td>\n",
              "      <td>...</td>\n",
              "      <td>...</td>\n",
              "      <td>...</td>\n",
              "      <td>...</td>\n",
              "      <td>...</td>\n",
              "      <td>...</td>\n",
              "      <td>...</td>\n",
              "      <td>...</td>\n",
              "      <td>...</td>\n",
              "      <td>...</td>\n",
              "    </tr>\n",
              "    <tr>\n",
              "      <th>1024481</th>\n",
              "      <td>0x7BA3E55975398686EF73DD5DD7E009CC</td>\n",
              "      <td>0xD050C2091F0DEBE6DC2320D605488CC2</td>\n",
              "      <td>2023-11-21 14:13:11</td>\n",
              "      <td>-72.84</td>\n",
              "      <td>0x2F2203903C1ECA97E7D248EEE3DDE3B5</td>\n",
              "      <td>0x66CD7A731D670D9F5F319D6C37F180EC</td>\n",
              "      <td>0x495A685BBC1C169D2F6D2651B466DD71</td>\n",
              "      <td>1</td>\n",
              "      <td>2023</td>\n",
              "      <td>11</td>\n",
              "      <td>2023-11-21</td>\n",
              "      <td>14:13:11</td>\n",
              "    </tr>\n",
              "    <tr>\n",
              "      <th>1024483</th>\n",
              "      <td>0x3B6758E438A23950C61273F54A37BF69</td>\n",
              "      <td>0x93D517BBEE2397D71E4E22314AC2340E</td>\n",
              "      <td>2023-11-21 14:13:11</td>\n",
              "      <td>-30.45</td>\n",
              "      <td>0x2F2203903C1ECA97E7D248EEE3DDE3B5</td>\n",
              "      <td>0xFCC0E796C5625B9C7715C6B9849978B0</td>\n",
              "      <td>0xD874741C49B7FA8082864ABF4E02197E</td>\n",
              "      <td>1</td>\n",
              "      <td>2023</td>\n",
              "      <td>11</td>\n",
              "      <td>2023-11-21</td>\n",
              "      <td>14:13:11</td>\n",
              "    </tr>\n",
              "    <tr>\n",
              "      <th>1024485</th>\n",
              "      <td>0x511789CD7CA93AEE3FD39A7C52B60AE2</td>\n",
              "      <td>0x3D58DB61266F99107C290561E7F30475</td>\n",
              "      <td>2023-11-21 14:13:11</td>\n",
              "      <td>-15696.72</td>\n",
              "      <td>0x2F2203903C1ECA97E7D248EEE3DDE3B5</td>\n",
              "      <td>0x140374C5D9E80FFA4A61583114476AB8</td>\n",
              "      <td>0xFDF04541A2447EA2B8DF8FD1143D4174</td>\n",
              "      <td>1</td>\n",
              "      <td>2023</td>\n",
              "      <td>11</td>\n",
              "      <td>2023-11-21</td>\n",
              "      <td>14:13:11</td>\n",
              "    </tr>\n",
              "    <tr>\n",
              "      <th>1024487</th>\n",
              "      <td>0x01D95B001432CAD321110E5ACE1FAD03</td>\n",
              "      <td>0x0D9719302D472E7B68E1112A9F7DD152</td>\n",
              "      <td>2023-11-21 14:13:11</td>\n",
              "      <td>-10828.00</td>\n",
              "      <td>0x2F2203903C1ECA97E7D248EEE3DDE3B5</td>\n",
              "      <td>0x14376EB228783AAA18F9A9E5F2E25AEA</td>\n",
              "      <td>0xAF9B46BF5896AE49C9C769659B54C44C</td>\n",
              "      <td>1</td>\n",
              "      <td>2023</td>\n",
              "      <td>11</td>\n",
              "      <td>2023-11-21</td>\n",
              "      <td>14:13:11</td>\n",
              "    </tr>\n",
              "    <tr>\n",
              "      <th>1024489</th>\n",
              "      <td>0xD5D478DE2F34903976E5097EE703A956</td>\n",
              "      <td>0xF90F756220FEC5E3E23E4F418BCA1C6C</td>\n",
              "      <td>2023-11-21 14:13:11</td>\n",
              "      <td>-2065.00</td>\n",
              "      <td>0x2F2203903C1ECA97E7D248EEE3DDE3B5</td>\n",
              "      <td>0x9091802BDD17D12642A36D0C321BD9C0</td>\n",
              "      <td>0x982A2BC2CEB8B72A8E1F4E3B40508923</td>\n",
              "      <td>1</td>\n",
              "      <td>2023</td>\n",
              "      <td>11</td>\n",
              "      <td>2023-11-21</td>\n",
              "      <td>14:13:11</td>\n",
              "    </tr>\n",
              "  </tbody>\n",
              "</table>\n",
              "<p>7412 rows × 12 columns</p>\n",
              "</div>\n",
              "    <div class=\"colab-df-buttons\">\n",
              "\n",
              "  <div class=\"colab-df-container\">\n",
              "    <button class=\"colab-df-convert\" onclick=\"convertToInteractive('df-f6fc8d0c-dd48-4966-b575-e298245fe369')\"\n",
              "            title=\"Convert this dataframe to an interactive table.\"\n",
              "            style=\"display:none;\">\n",
              "\n",
              "  <svg xmlns=\"http://www.w3.org/2000/svg\" height=\"24px\" viewBox=\"0 -960 960 960\">\n",
              "    <path d=\"M120-120v-720h720v720H120Zm60-500h600v-160H180v160Zm220 220h160v-160H400v160Zm0 220h160v-160H400v160ZM180-400h160v-160H180v160Zm440 0h160v-160H620v160ZM180-180h160v-160H180v160Zm440 0h160v-160H620v160Z\"/>\n",
              "  </svg>\n",
              "    </button>\n",
              "\n",
              "  <style>\n",
              "    .colab-df-container {\n",
              "      display:flex;\n",
              "      gap: 12px;\n",
              "    }\n",
              "\n",
              "    .colab-df-convert {\n",
              "      background-color: #E8F0FE;\n",
              "      border: none;\n",
              "      border-radius: 50%;\n",
              "      cursor: pointer;\n",
              "      display: none;\n",
              "      fill: #1967D2;\n",
              "      height: 32px;\n",
              "      padding: 0 0 0 0;\n",
              "      width: 32px;\n",
              "    }\n",
              "\n",
              "    .colab-df-convert:hover {\n",
              "      background-color: #E2EBFA;\n",
              "      box-shadow: 0px 1px 2px rgba(60, 64, 67, 0.3), 0px 1px 3px 1px rgba(60, 64, 67, 0.15);\n",
              "      fill: #174EA6;\n",
              "    }\n",
              "\n",
              "    .colab-df-buttons div {\n",
              "      margin-bottom: 4px;\n",
              "    }\n",
              "\n",
              "    [theme=dark] .colab-df-convert {\n",
              "      background-color: #3B4455;\n",
              "      fill: #D2E3FC;\n",
              "    }\n",
              "\n",
              "    [theme=dark] .colab-df-convert:hover {\n",
              "      background-color: #434B5C;\n",
              "      box-shadow: 0px 1px 3px 1px rgba(0, 0, 0, 0.15);\n",
              "      filter: drop-shadow(0px 1px 2px rgba(0, 0, 0, 0.3));\n",
              "      fill: #FFFFFF;\n",
              "    }\n",
              "  </style>\n",
              "\n",
              "    <script>\n",
              "      const buttonEl =\n",
              "        document.querySelector('#df-f6fc8d0c-dd48-4966-b575-e298245fe369 button.colab-df-convert');\n",
              "      buttonEl.style.display =\n",
              "        google.colab.kernel.accessAllowed ? 'block' : 'none';\n",
              "\n",
              "      async function convertToInteractive(key) {\n",
              "        const element = document.querySelector('#df-f6fc8d0c-dd48-4966-b575-e298245fe369');\n",
              "        const dataTable =\n",
              "          await google.colab.kernel.invokeFunction('convertToInteractive',\n",
              "                                                    [key], {});\n",
              "        if (!dataTable) return;\n",
              "\n",
              "        const docLinkHtml = 'Like what you see? Visit the ' +\n",
              "          '<a target=\"_blank\" href=https://colab.research.google.com/notebooks/data_table.ipynb>data table notebook</a>'\n",
              "          + ' to learn more about interactive tables.';\n",
              "        element.innerHTML = '';\n",
              "        dataTable['output_type'] = 'display_data';\n",
              "        await google.colab.output.renderOutput(dataTable, element);\n",
              "        const docLink = document.createElement('div');\n",
              "        docLink.innerHTML = docLinkHtml;\n",
              "        element.appendChild(docLink);\n",
              "      }\n",
              "    </script>\n",
              "  </div>\n",
              "\n",
              "\n",
              "<div id=\"df-40ce415e-089c-4bbb-86b6-a0b50f3f6ee8\">\n",
              "  <button class=\"colab-df-quickchart\" onclick=\"quickchart('df-40ce415e-089c-4bbb-86b6-a0b50f3f6ee8')\"\n",
              "            title=\"Suggest charts\"\n",
              "            style=\"display:none;\">\n",
              "\n",
              "<svg xmlns=\"http://www.w3.org/2000/svg\" height=\"24px\"viewBox=\"0 0 24 24\"\n",
              "     width=\"24px\">\n",
              "    <g>\n",
              "        <path d=\"M19 3H5c-1.1 0-2 .9-2 2v14c0 1.1.9 2 2 2h14c1.1 0 2-.9 2-2V5c0-1.1-.9-2-2-2zM9 17H7v-7h2v7zm4 0h-2V7h2v10zm4 0h-2v-4h2v4z\"/>\n",
              "    </g>\n",
              "</svg>\n",
              "  </button>\n",
              "\n",
              "<style>\n",
              "  .colab-df-quickchart {\n",
              "      --bg-color: #E8F0FE;\n",
              "      --fill-color: #1967D2;\n",
              "      --hover-bg-color: #E2EBFA;\n",
              "      --hover-fill-color: #174EA6;\n",
              "      --disabled-fill-color: #AAA;\n",
              "      --disabled-bg-color: #DDD;\n",
              "  }\n",
              "\n",
              "  [theme=dark] .colab-df-quickchart {\n",
              "      --bg-color: #3B4455;\n",
              "      --fill-color: #D2E3FC;\n",
              "      --hover-bg-color: #434B5C;\n",
              "      --hover-fill-color: #FFFFFF;\n",
              "      --disabled-bg-color: #3B4455;\n",
              "      --disabled-fill-color: #666;\n",
              "  }\n",
              "\n",
              "  .colab-df-quickchart {\n",
              "    background-color: var(--bg-color);\n",
              "    border: none;\n",
              "    border-radius: 50%;\n",
              "    cursor: pointer;\n",
              "    display: none;\n",
              "    fill: var(--fill-color);\n",
              "    height: 32px;\n",
              "    padding: 0;\n",
              "    width: 32px;\n",
              "  }\n",
              "\n",
              "  .colab-df-quickchart:hover {\n",
              "    background-color: var(--hover-bg-color);\n",
              "    box-shadow: 0 1px 2px rgba(60, 64, 67, 0.3), 0 1px 3px 1px rgba(60, 64, 67, 0.15);\n",
              "    fill: var(--button-hover-fill-color);\n",
              "  }\n",
              "\n",
              "  .colab-df-quickchart-complete:disabled,\n",
              "  .colab-df-quickchart-complete:disabled:hover {\n",
              "    background-color: var(--disabled-bg-color);\n",
              "    fill: var(--disabled-fill-color);\n",
              "    box-shadow: none;\n",
              "  }\n",
              "\n",
              "  .colab-df-spinner {\n",
              "    border: 2px solid var(--fill-color);\n",
              "    border-color: transparent;\n",
              "    border-bottom-color: var(--fill-color);\n",
              "    animation:\n",
              "      spin 1s steps(1) infinite;\n",
              "  }\n",
              "\n",
              "  @keyframes spin {\n",
              "    0% {\n",
              "      border-color: transparent;\n",
              "      border-bottom-color: var(--fill-color);\n",
              "      border-left-color: var(--fill-color);\n",
              "    }\n",
              "    20% {\n",
              "      border-color: transparent;\n",
              "      border-left-color: var(--fill-color);\n",
              "      border-top-color: var(--fill-color);\n",
              "    }\n",
              "    30% {\n",
              "      border-color: transparent;\n",
              "      border-left-color: var(--fill-color);\n",
              "      border-top-color: var(--fill-color);\n",
              "      border-right-color: var(--fill-color);\n",
              "    }\n",
              "    40% {\n",
              "      border-color: transparent;\n",
              "      border-right-color: var(--fill-color);\n",
              "      border-top-color: var(--fill-color);\n",
              "    }\n",
              "    60% {\n",
              "      border-color: transparent;\n",
              "      border-right-color: var(--fill-color);\n",
              "    }\n",
              "    80% {\n",
              "      border-color: transparent;\n",
              "      border-right-color: var(--fill-color);\n",
              "      border-bottom-color: var(--fill-color);\n",
              "    }\n",
              "    90% {\n",
              "      border-color: transparent;\n",
              "      border-bottom-color: var(--fill-color);\n",
              "    }\n",
              "  }\n",
              "</style>\n",
              "\n",
              "  <script>\n",
              "    async function quickchart(key) {\n",
              "      const quickchartButtonEl =\n",
              "        document.querySelector('#' + key + ' button');\n",
              "      quickchartButtonEl.disabled = true;  // To prevent multiple clicks.\n",
              "      quickchartButtonEl.classList.add('colab-df-spinner');\n",
              "      try {\n",
              "        const charts = await google.colab.kernel.invokeFunction(\n",
              "            'suggestCharts', [key], {});\n",
              "      } catch (error) {\n",
              "        console.error('Error during call to suggestCharts:', error);\n",
              "      }\n",
              "      quickchartButtonEl.classList.remove('colab-df-spinner');\n",
              "      quickchartButtonEl.classList.add('colab-df-quickchart-complete');\n",
              "    }\n",
              "    (() => {\n",
              "      let quickchartButtonEl =\n",
              "        document.querySelector('#df-40ce415e-089c-4bbb-86b6-a0b50f3f6ee8 button');\n",
              "      quickchartButtonEl.style.display =\n",
              "        google.colab.kernel.accessAllowed ? 'block' : 'none';\n",
              "    })();\n",
              "  </script>\n",
              "</div>\n",
              "    </div>\n",
              "  </div>\n"
            ],
            "application/vnd.google.colaboratory.intrinsic+json": {
              "type": "dataframe",
              "repr_error": "0"
            }
          },
          "metadata": {},
          "execution_count": 105
        }
      ]
    },
    {
      "cell_type": "code",
      "source": [
        "data['account_document_id'].value_counts()"
      ],
      "metadata": {
        "colab": {
          "base_uri": "https://localhost:8080/",
          "height": 489
        },
        "id": "kRyuk0bfzEeR",
        "outputId": "024704fc-7d9e-4c97-c456-14f1c65ea614"
      },
      "execution_count": null,
      "outputs": [
        {
          "output_type": "execute_result",
          "data": {
            "text/plain": [
              "account_document_id\n",
              "0xF611B2F346D82DBC26676192407A6CE2    1\n",
              "0xFDD38318ED6FC6EC68131DB6671F100C    1\n",
              "0x9F7486A2D5FEFFF7453777B1D0592E16    1\n",
              "0x83374A620812B848E878F705CAE63F82    1\n",
              "0xE3BC57D8B3DB9EF897550648896D57CC    1\n",
              "                                     ..\n",
              "0x04848F8B05C6935CCECC26FB024BDC6E    1\n",
              "0xC97D0DF950D35FA4AF2655D749259B36    1\n",
              "0xE02E4412BB1F637FC4CDAFC793C4F7A4    1\n",
              "0x5809EF65F6969882A139F7A484B8D95C    1\n",
              "0x34082776539FC71066087BA9EB78986D    1\n",
              "Name: count, Length: 1091043, dtype: int64"
            ],
            "text/html": [
              "<div>\n",
              "<style scoped>\n",
              "    .dataframe tbody tr th:only-of-type {\n",
              "        vertical-align: middle;\n",
              "    }\n",
              "\n",
              "    .dataframe tbody tr th {\n",
              "        vertical-align: top;\n",
              "    }\n",
              "\n",
              "    .dataframe thead th {\n",
              "        text-align: right;\n",
              "    }\n",
              "</style>\n",
              "<table border=\"1\" class=\"dataframe\">\n",
              "  <thead>\n",
              "    <tr style=\"text-align: right;\">\n",
              "      <th></th>\n",
              "      <th>count</th>\n",
              "    </tr>\n",
              "    <tr>\n",
              "      <th>account_document_id</th>\n",
              "      <th></th>\n",
              "    </tr>\n",
              "  </thead>\n",
              "  <tbody>\n",
              "    <tr>\n",
              "      <th>0xF611B2F346D82DBC26676192407A6CE2</th>\n",
              "      <td>1</td>\n",
              "    </tr>\n",
              "    <tr>\n",
              "      <th>0xFDD38318ED6FC6EC68131DB6671F100C</th>\n",
              "      <td>1</td>\n",
              "    </tr>\n",
              "    <tr>\n",
              "      <th>0x9F7486A2D5FEFFF7453777B1D0592E16</th>\n",
              "      <td>1</td>\n",
              "    </tr>\n",
              "    <tr>\n",
              "      <th>0x83374A620812B848E878F705CAE63F82</th>\n",
              "      <td>1</td>\n",
              "    </tr>\n",
              "    <tr>\n",
              "      <th>0xE3BC57D8B3DB9EF897550648896D57CC</th>\n",
              "      <td>1</td>\n",
              "    </tr>\n",
              "    <tr>\n",
              "      <th>...</th>\n",
              "      <td>...</td>\n",
              "    </tr>\n",
              "    <tr>\n",
              "      <th>0x04848F8B05C6935CCECC26FB024BDC6E</th>\n",
              "      <td>1</td>\n",
              "    </tr>\n",
              "    <tr>\n",
              "      <th>0xC97D0DF950D35FA4AF2655D749259B36</th>\n",
              "      <td>1</td>\n",
              "    </tr>\n",
              "    <tr>\n",
              "      <th>0xE02E4412BB1F637FC4CDAFC793C4F7A4</th>\n",
              "      <td>1</td>\n",
              "    </tr>\n",
              "    <tr>\n",
              "      <th>0x5809EF65F6969882A139F7A484B8D95C</th>\n",
              "      <td>1</td>\n",
              "    </tr>\n",
              "    <tr>\n",
              "      <th>0x34082776539FC71066087BA9EB78986D</th>\n",
              "      <td>1</td>\n",
              "    </tr>\n",
              "  </tbody>\n",
              "</table>\n",
              "<p>1091043 rows × 1 columns</p>\n",
              "</div><br><label><b>dtype:</b> int64</label>"
            ]
          },
          "metadata": {},
          "execution_count": 106
        }
      ]
    },
    {
      "cell_type": "code",
      "source": [
        "data['patient_id'].value_counts()"
      ],
      "metadata": {
        "colab": {
          "base_uri": "https://localhost:8080/",
          "height": 489
        },
        "id": "zGPAWYf4zQx5",
        "outputId": "81e5d7f5-5483-4de4-cc90-761f2365c17f"
      },
      "execution_count": null,
      "outputs": [
        {
          "output_type": "execute_result",
          "data": {
            "text/plain": [
              "patient_id\n",
              "0x037AB9CF4BAF80A173679FB9761A113D    4121\n",
              "0xAECAFBEC992080A28B6351DC1E1551C2    2165\n",
              "0x274B520D2D54E1604C6E69410A728CE0    1959\n",
              "0xEA73B2A80C0D9647C3ABFA65195CFCBE    1951\n",
              "0x53A2C720806E07E267EE2E32C7EEB8DF    1324\n",
              "                                      ... \n",
              "0xD1DFCC0E52753F953BEF98BC629E916B       1\n",
              "0x1FAE39ACE7A65D71654A89B62643861F       1\n",
              "0x028EDAC6500596FC82AF669C3CC0E973       1\n",
              "0x82BC73071E4470A071926A91D6FE5D21       1\n",
              "0xB04C6F743C7FC9B2B154A355CC270BDE       1\n",
              "Name: count, Length: 29701, dtype: int64"
            ],
            "text/html": [
              "<div>\n",
              "<style scoped>\n",
              "    .dataframe tbody tr th:only-of-type {\n",
              "        vertical-align: middle;\n",
              "    }\n",
              "\n",
              "    .dataframe tbody tr th {\n",
              "        vertical-align: top;\n",
              "    }\n",
              "\n",
              "    .dataframe thead th {\n",
              "        text-align: right;\n",
              "    }\n",
              "</style>\n",
              "<table border=\"1\" class=\"dataframe\">\n",
              "  <thead>\n",
              "    <tr style=\"text-align: right;\">\n",
              "      <th></th>\n",
              "      <th>count</th>\n",
              "    </tr>\n",
              "    <tr>\n",
              "      <th>patient_id</th>\n",
              "      <th></th>\n",
              "    </tr>\n",
              "  </thead>\n",
              "  <tbody>\n",
              "    <tr>\n",
              "      <th>0x037AB9CF4BAF80A173679FB9761A113D</th>\n",
              "      <td>4121</td>\n",
              "    </tr>\n",
              "    <tr>\n",
              "      <th>0xAECAFBEC992080A28B6351DC1E1551C2</th>\n",
              "      <td>2165</td>\n",
              "    </tr>\n",
              "    <tr>\n",
              "      <th>0x274B520D2D54E1604C6E69410A728CE0</th>\n",
              "      <td>1959</td>\n",
              "    </tr>\n",
              "    <tr>\n",
              "      <th>0xEA73B2A80C0D9647C3ABFA65195CFCBE</th>\n",
              "      <td>1951</td>\n",
              "    </tr>\n",
              "    <tr>\n",
              "      <th>0x53A2C720806E07E267EE2E32C7EEB8DF</th>\n",
              "      <td>1324</td>\n",
              "    </tr>\n",
              "    <tr>\n",
              "      <th>...</th>\n",
              "      <td>...</td>\n",
              "    </tr>\n",
              "    <tr>\n",
              "      <th>0xD1DFCC0E52753F953BEF98BC629E916B</th>\n",
              "      <td>1</td>\n",
              "    </tr>\n",
              "    <tr>\n",
              "      <th>0x1FAE39ACE7A65D71654A89B62643861F</th>\n",
              "      <td>1</td>\n",
              "    </tr>\n",
              "    <tr>\n",
              "      <th>0x028EDAC6500596FC82AF669C3CC0E973</th>\n",
              "      <td>1</td>\n",
              "    </tr>\n",
              "    <tr>\n",
              "      <th>0x82BC73071E4470A071926A91D6FE5D21</th>\n",
              "      <td>1</td>\n",
              "    </tr>\n",
              "    <tr>\n",
              "      <th>0xB04C6F743C7FC9B2B154A355CC270BDE</th>\n",
              "      <td>1</td>\n",
              "    </tr>\n",
              "  </tbody>\n",
              "</table>\n",
              "<p>29701 rows × 1 columns</p>\n",
              "</div><br><label><b>dtype:</b> int64</label>"
            ]
          },
          "metadata": {},
          "execution_count": 107
        }
      ]
    },
    {
      "cell_type": "code",
      "source": [
        "def add_rpss2022(date):\n",
        "    return 1 if pd.Timestamp(\"2022-11-28\") <= date <= pd.Timestamp(\"2023-01-31\") else 0\n",
        "\n",
        "def add_save25(date):\n",
        "    return 1 if pd.Timestamp(\"2022-02-04\") <= date <= pd.Timestamp(\"2022-02-20\") else 0\n",
        "\n",
        "def add_dedmraz(date):\n",
        "    return 1 if pd.Timestamp(\"2022-01-01\") <= date <= pd.Timestamp(\"2022-01-20\") else 0\n",
        "\n",
        "def add_greenday(date):\n",
        "    return 1 if pd.Timestamp(\"2023-11-09\") <= date <= pd.Timestamp(\"2023-11-12\") else 0\n",
        "\n",
        "def add_skidkanastrovku(date):\n",
        "    return 1 if pd.Timestamp(\"2023-10-10\") <= date <= pd.Timestamp(\"2023-11-08\") else 0\n",
        "\n",
        "def add_rpss2023(date):\n",
        "    return 1 if pd.Timestamp(\"2023-06-13\") <= date <= pd.Timestamp(\"2023-08-31\") else 0\n",
        "\n",
        "def add_sberagifinancy(date):\n",
        "    return 1 if pd.Timestamp(\"2023-05-29\") <= date <= pd.Timestamp(\"2023-07-09\") else 0"
      ],
      "metadata": {
        "id": "DjrVVyi5EcdB"
      },
      "execution_count": null,
      "outputs": []
    },
    {
      "cell_type": "code",
      "source": [
        "data[\"RPSS2022\"] = data[\"service_date\"].apply(add_rpss2022)\n",
        "data[\"SAVE25\"] = data[\"service_date\"].apply(add_save25)\n",
        "data[\"DEDMRAZ\"] = data[\"service_date\"].apply(add_dedmraz)\n",
        "data[\"GREENDAY\"] = data[\"service_date\"].apply(add_greenday)\n",
        "data[\"SKIDKANASTRAHOVKU\"] = data[\"service_date\"].apply(add_skidkanastrovku)\n",
        "data[\"RPSS2023\"] = data[\"service_date\"].apply(add_rpss2023)\n",
        "data[\"SBEREGIFINANCY\"] = data[\"service_date\"].apply(add_sberagifinancy)"
      ],
      "metadata": {
        "id": "I0j3SroREi6U"
      },
      "execution_count": null,
      "outputs": []
    },
    {
      "cell_type": "code",
      "source": [
        "import matplotlib.pyplot as plt\n",
        "import seaborn as sns"
      ],
      "metadata": {
        "id": "ZkXVVCHQ7N7e"
      },
      "execution_count": null,
      "outputs": []
    },
    {
      "cell_type": "code",
      "source": [
        "num_cols = ['service_amount_net', \"RPSS2022\", \"SAVE25\", \"DEDMRAZ\", \"GREENDAY\", \"SKIDKANASTRAHOVKU\", \"RPSS2023\", \"SBEREGIFINANCY\"]"
      ],
      "metadata": {
        "id": "_CK0-SMRGAmR"
      },
      "execution_count": null,
      "outputs": []
    },
    {
      "cell_type": "code",
      "source": [
        "corr = data[num_cols].corr()\n",
        "sns.heatmap(corr)"
      ],
      "metadata": {
        "colab": {
          "base_uri": "https://localhost:8080/",
          "height": 594
        },
        "id": "IwJMDIq1FD_-",
        "outputId": "3bb07ff7-d38b-41ea-af3f-32593ad2c1e5"
      },
      "execution_count": null,
      "outputs": [
        {
          "output_type": "execute_result",
          "data": {
            "text/plain": [
              "<Axes: >"
            ]
          },
          "metadata": {},
          "execution_count": 112
        },
        {
          "output_type": "display_data",
          "data": {
            "text/plain": [
              "<Figure size 640x480 with 2 Axes>"
            ],
            "image/png": "[encoded data removed]"
          },
          "metadata": {}
        }
      ]
    },
    {
      "cell_type": "code",
      "source": [
        "df = data.groupby('service_document_id')['service_amount_net'].agg('sum')\n",
        "df"
      ],
      "metadata": {
        "colab": {
          "base_uri": "https://localhost:8080/",
          "height": 489
        },
        "id": "xJCPyRVGMATj",
        "outputId": "394dd5f9-6e3f-4979-fa85-d6b210a698fc"
      },
      "execution_count": null,
      "outputs": [
        {
          "output_type": "execute_result",
          "data": {
            "text/plain": [
              "service_document_id\n",
              "0x000016C54759E322AB2DF3CB8F8E40B2     2337.5\n",
              "0x00001FB9CEC8ABEEA189D32E6048EAA6      296.0\n",
              "0x0000240CBF0440CB1BB75046E75111BF     2833.6\n",
              "0x0000707B2C632D6BE33F5800FB4B341D     1118.4\n",
              "0x000070D8EC8503CB41D2164FC694F541      400.0\n",
              "                                       ...   \n",
              "0xFFFF9423AC1C6AEC3323F2E9E0D4606B     3152.0\n",
              "0xFFFF9C67B7D4143E69AB051B6BCC65D1     1997.6\n",
              "0xFFFFB3CE7B8823BA5F2DAD4842C00A17     2150.0\n",
              "0xFFFFCDC1B7068FEA00351309E3B7DDFC      309.6\n",
              "0xFFFFD38A936CB44AE0EF38291CF277B6    24088.8\n",
              "Name: service_amount_net, Length: 1084033, dtype: float64"
            ],
            "text/html": [
              "<div>\n",
              "<style scoped>\n",
              "    .dataframe tbody tr th:only-of-type {\n",
              "        vertical-align: middle;\n",
              "    }\n",
              "\n",
              "    .dataframe tbody tr th {\n",
              "        vertical-align: top;\n",
              "    }\n",
              "\n",
              "    .dataframe thead th {\n",
              "        text-align: right;\n",
              "    }\n",
              "</style>\n",
              "<table border=\"1\" class=\"dataframe\">\n",
              "  <thead>\n",
              "    <tr style=\"text-align: right;\">\n",
              "      <th></th>\n",
              "      <th>service_amount_net</th>\n",
              "    </tr>\n",
              "    <tr>\n",
              "      <th>service_document_id</th>\n",
              "      <th></th>\n",
              "    </tr>\n",
              "  </thead>\n",
              "  <tbody>\n",
              "    <tr>\n",
              "      <th>0x000016C54759E322AB2DF3CB8F8E40B2</th>\n",
              "      <td>2337.5</td>\n",
              "    </tr>\n",
              "    <tr>\n",
              "      <th>0x00001FB9CEC8ABEEA189D32E6048EAA6</th>\n",
              "      <td>296.0</td>\n",
              "    </tr>\n",
              "    <tr>\n",
              "      <th>0x0000240CBF0440CB1BB75046E75111BF</th>\n",
              "      <td>2833.6</td>\n",
              "    </tr>\n",
              "    <tr>\n",
              "      <th>0x0000707B2C632D6BE33F5800FB4B341D</th>\n",
              "      <td>1118.4</td>\n",
              "    </tr>\n",
              "    <tr>\n",
              "      <th>0x000070D8EC8503CB41D2164FC694F541</th>\n",
              "      <td>400.0</td>\n",
              "    </tr>\n",
              "    <tr>\n",
              "      <th>...</th>\n",
              "      <td>...</td>\n",
              "    </tr>\n",
              "    <tr>\n",
              "      <th>0xFFFF9423AC1C6AEC3323F2E9E0D4606B</th>\n",
              "      <td>3152.0</td>\n",
              "    </tr>\n",
              "    <tr>\n",
              "      <th>0xFFFF9C67B7D4143E69AB051B6BCC65D1</th>\n",
              "      <td>1997.6</td>\n",
              "    </tr>\n",
              "    <tr>\n",
              "      <th>0xFFFFB3CE7B8823BA5F2DAD4842C00A17</th>\n",
              "      <td>2150.0</td>\n",
              "    </tr>\n",
              "    <tr>\n",
              "      <th>0xFFFFCDC1B7068FEA00351309E3B7DDFC</th>\n",
              "      <td>309.6</td>\n",
              "    </tr>\n",
              "    <tr>\n",
              "      <th>0xFFFFD38A936CB44AE0EF38291CF277B6</th>\n",
              "      <td>24088.8</td>\n",
              "    </tr>\n",
              "  </tbody>\n",
              "</table>\n",
              "<p>1084033 rows × 1 columns</p>\n",
              "</div><br><label><b>dtype:</b> float64</label>"
            ]
          },
          "metadata": {},
          "execution_count": 127
        }
      ]
    },
    {
      "cell_type": "code",
      "source": [
        "data.merge(df, how='left', on='service_document_id')\n",
        "data.info()"
      ],
      "metadata": {
        "colab": {
          "base_uri": "https://localhost:8080/"
        },
        "id": "eF4O-td2POyM",
        "outputId": "c5629bc4-8c06-407e-e2ba-d96dc16df99a"
      },
      "execution_count": null,
      "outputs": [
        {
          "output_type": "stream",
          "name": "stdout",
          "text": [
            "<class 'pandas.core.frame.DataFrame'>\n",
            "RangeIndex: 1091043 entries, 0 to 1091042\n",
            "Data columns (total 19 columns):\n",
            " #   Column               Non-Null Count    Dtype         \n",
            "---  ------               --------------    -----         \n",
            " 0   service_document_id  1091043 non-null  object        \n",
            " 1   account_document_id  1091043 non-null  object        \n",
            " 2   service_date         1091043 non-null  datetime64[ns]\n",
            " 3   service_amount_net   1091043 non-null  float64       \n",
            " 4   patient_id           1091043 non-null  object        \n",
            " 5   service_code         1091043 non-null  object        \n",
            " 6   service_name         1091043 non-null  object        \n",
            " 7   is_hospital          1091043 non-null  int64         \n",
            " 8   year                 1091043 non-null  int32         \n",
            " 9   month                1091043 non-null  int32         \n",
            " 10  date                 1091043 non-null  object        \n",
            " 11  time                 1091043 non-null  object        \n",
            " 12  RPSS2022             1091043 non-null  int64         \n",
            " 13  SAVE25               1091043 non-null  int64         \n",
            " 14  DEDMRAZ              1091043 non-null  int64         \n",
            " 15  GREENDAY             1091043 non-null  int64         \n",
            " 16  SKIDKANASTRAHOVKU    1091043 non-null  int64         \n",
            " 17  RPSS2023             1091043 non-null  int64         \n",
            " 18  SBEREGIFINANCY       1091043 non-null  int64         \n",
            "dtypes: datetime64[ns](1), float64(1), int32(2), int64(8), object(7)\n",
            "memory usage: 149.8+ MB\n"
          ]
        }
      ]
    },
    {
      "cell_type": "code",
      "source": [
        "data.isna().sum()"
      ],
      "metadata": {
        "colab": {
          "base_uri": "https://localhost:8080/",
          "height": 680
        },
        "id": "IJadBFDGb31f",
        "outputId": "179e8562-8052-4efb-ad80-d94f6b144fdd"
      },
      "execution_count": null,
      "outputs": [
        {
          "output_type": "execute_result",
          "data": {
            "text/plain": [
              "service_document_id    0\n",
              "account_document_id    0\n",
              "service_date           0\n",
              "service_amount_net     0\n",
              "patient_id             0\n",
              "service_code           0\n",
              "service_name           0\n",
              "is_hospital            0\n",
              "year                   0\n",
              "month                  0\n",
              "date                   0\n",
              "time                   0\n",
              "RPSS2022               0\n",
              "SAVE25                 0\n",
              "DEDMRAZ                0\n",
              "GREENDAY               0\n",
              "SKIDKANASTRAHOVKU      0\n",
              "RPSS2023               0\n",
              "SBEREGIFINANCY         0\n",
              "dtype: int64"
            ],
            "text/html": [
              "<div>\n",
              "<style scoped>\n",
              "    .dataframe tbody tr th:only-of-type {\n",
              "        vertical-align: middle;\n",
              "    }\n",
              "\n",
              "    .dataframe tbody tr th {\n",
              "        vertical-align: top;\n",
              "    }\n",
              "\n",
              "    .dataframe thead th {\n",
              "        text-align: right;\n",
              "    }\n",
              "</style>\n",
              "<table border=\"1\" class=\"dataframe\">\n",
              "  <thead>\n",
              "    <tr style=\"text-align: right;\">\n",
              "      <th></th>\n",
              "      <th>0</th>\n",
              "    </tr>\n",
              "  </thead>\n",
              "  <tbody>\n",
              "    <tr>\n",
              "      <th>service_document_id</th>\n",
              "      <td>0</td>\n",
              "    </tr>\n",
              "    <tr>\n",
              "      <th>account_document_id</th>\n",
              "      <td>0</td>\n",
              "    </tr>\n",
              "    <tr>\n",
              "      <th>service_date</th>\n",
              "      <td>0</td>\n",
              "    </tr>\n",
              "    <tr>\n",
              "      <th>service_amount_net</th>\n",
              "      <td>0</td>\n",
              "    </tr>\n",
              "    <tr>\n",
              "      <th>patient_id</th>\n",
              "      <td>0</td>\n",
              "    </tr>\n",
              "    <tr>\n",
              "      <th>service_code</th>\n",
              "      <td>0</td>\n",
              "    </tr>\n",
              "    <tr>\n",
              "      <th>service_name</th>\n",
              "      <td>0</td>\n",
              "    </tr>\n",
              "    <tr>\n",
              "      <th>is_hospital</th>\n",
              "      <td>0</td>\n",
              "    </tr>\n",
              "    <tr>\n",
              "      <th>year</th>\n",
              "      <td>0</td>\n",
              "    </tr>\n",
              "    <tr>\n",
              "      <th>month</th>\n",
              "      <td>0</td>\n",
              "    </tr>\n",
              "    <tr>\n",
              "      <th>date</th>\n",
              "      <td>0</td>\n",
              "    </tr>\n",
              "    <tr>\n",
              "      <th>time</th>\n",
              "      <td>0</td>\n",
              "    </tr>\n",
              "    <tr>\n",
              "      <th>RPSS2022</th>\n",
              "      <td>0</td>\n",
              "    </tr>\n",
              "    <tr>\n",
              "      <th>SAVE25</th>\n",
              "      <td>0</td>\n",
              "    </tr>\n",
              "    <tr>\n",
              "      <th>DEDMRAZ</th>\n",
              "      <td>0</td>\n",
              "    </tr>\n",
              "    <tr>\n",
              "      <th>GREENDAY</th>\n",
              "      <td>0</td>\n",
              "    </tr>\n",
              "    <tr>\n",
              "      <th>SKIDKANASTRAHOVKU</th>\n",
              "      <td>0</td>\n",
              "    </tr>\n",
              "    <tr>\n",
              "      <th>RPSS2023</th>\n",
              "      <td>0</td>\n",
              "    </tr>\n",
              "    <tr>\n",
              "      <th>SBEREGIFINANCY</th>\n",
              "      <td>0</td>\n",
              "    </tr>\n",
              "  </tbody>\n",
              "</table>\n",
              "</div><br><label><b>dtype:</b> int64</label>"
            ]
          },
          "metadata": {},
          "execution_count": 172
        }
      ]
    },
    {
      "cell_type": "code",
      "source": [
        "fig, axes = plt.subplots(7, 1, figsize=(5, 20))\n",
        "akcii = [\"RPSS2022\", \"SAVE25\", \"DEDMRAZ\", \"GREENDAY\", \"SKIDKANASTRAHOVKU\", \"RPSS2023\", \"SBEREGIFINANCY\"]\n",
        "for i in range(1, 8):\n",
        "    axes[i-1].scatter(data[akcii[i-1]], data['service_amount_net'])\n",
        "    axes[i-1].set_title(akcii[i-1])\n",
        "plt.show()"
      ],
      "metadata": {
        "colab": {
          "base_uri": "https://localhost:8080/",
          "height": 1000
        },
        "id": "Vz8OOr8sJBvz",
        "outputId": "5d12f5a6-0a9d-4773-cf4f-06fe11f3891a"
      },
      "execution_count": null,
      "outputs": [
        {
          "output_type": "display_data",
          "data": {
            "text/plain": [
              "<Figure size 500x2000 with 7 Axes>"
            ],
            "image/png": "[encoded data removed]"
          },
          "metadata": {}
        }
      ]
    },
    {
      "cell_type": "code",
      "source": [
        "import numpy as np"
      ],
      "metadata": {
        "id": "JfEUogTQTjGB"
      },
      "execution_count": null,
      "outputs": []
    },
    {
      "cell_type": "code",
      "source": [
        "sns.scatterplot(x=data[akcii[1]], y=data['service_amount_net'].apply(np.log))"
      ],
      "metadata": {
        "colab": {
          "base_uri": "https://localhost:8080/",
          "height": 471
        },
        "id": "mckNMEUdS1Za",
        "outputId": "0c931142-50b3-4ae9-99cd-dc8fc12d24a1"
      },
      "execution_count": null,
      "outputs": [
        {
          "output_type": "execute_result",
          "data": {
            "text/plain": [
              "<Axes: xlabel='SAVE25', ylabel='service_amount_net'>"
            ]
          },
          "metadata": {},
          "execution_count": 139
        },
        {
          "output_type": "display_data",
          "data": {
            "text/plain": [
              "<Figure size 640x480 with 1 Axes>"
            ],
            "image/png": "[encoded data removed]"
          },
          "metadata": {}
        }
      ]
    },
    {
      "cell_type": "code",
      "source": [
        "data['service_amount_net'].values.reshape( 1091043)"
      ],
      "metadata": {
        "colab": {
          "base_uri": "https://localhost:8080/"
        },
        "id": "uJ5YuHxYUg9K",
        "outputId": "cdcc3c8c-743e-429f-844f-e1d442331f2e"
      },
      "execution_count": null,
      "outputs": [
        {
          "output_type": "execute_result",
          "data": {
            "text/plain": [
              "array([ 1925.  ,  4800.  ,  1710.  , ...,  9726.  ,  1764.  , 13212.37])"
            ]
          },
          "metadata": {},
          "execution_count": 154
        }
      ]
    },
    {
      "cell_type": "code",
      "source": [
        "data['SAVE25']"
      ],
      "metadata": {
        "colab": {
          "base_uri": "https://localhost:8080/",
          "height": 458
        },
        "id": "O50MwkRsWLoQ",
        "outputId": "58daf651-1c16-4c3c-9743-b2f42f7987ca"
      },
      "execution_count": null,
      "outputs": [
        {
          "output_type": "execute_result",
          "data": {
            "text/plain": [
              "0          0\n",
              "1          0\n",
              "2          0\n",
              "3          0\n",
              "4          0\n",
              "          ..\n",
              "1091038    0\n",
              "1091039    0\n",
              "1091040    0\n",
              "1091041    0\n",
              "1091042    0\n",
              "Name: SAVE25, Length: 1091043, dtype: int64"
            ],
            "text/html": [
              "<div>\n",
              "<style scoped>\n",
              "    .dataframe tbody tr th:only-of-type {\n",
              "        vertical-align: middle;\n",
              "    }\n",
              "\n",
              "    .dataframe tbody tr th {\n",
              "        vertical-align: top;\n",
              "    }\n",
              "\n",
              "    .dataframe thead th {\n",
              "        text-align: right;\n",
              "    }\n",
              "</style>\n",
              "<table border=\"1\" class=\"dataframe\">\n",
              "  <thead>\n",
              "    <tr style=\"text-align: right;\">\n",
              "      <th></th>\n",
              "      <th>SAVE25</th>\n",
              "    </tr>\n",
              "  </thead>\n",
              "  <tbody>\n",
              "    <tr>\n",
              "      <th>0</th>\n",
              "      <td>0</td>\n",
              "    </tr>\n",
              "    <tr>\n",
              "      <th>1</th>\n",
              "      <td>0</td>\n",
              "    </tr>\n",
              "    <tr>\n",
              "      <th>2</th>\n",
              "      <td>0</td>\n",
              "    </tr>\n",
              "    <tr>\n",
              "      <th>3</th>\n",
              "      <td>0</td>\n",
              "    </tr>\n",
              "    <tr>\n",
              "      <th>4</th>\n",
              "      <td>0</td>\n",
              "    </tr>\n",
              "    <tr>\n",
              "      <th>...</th>\n",
              "      <td>...</td>\n",
              "    </tr>\n",
              "    <tr>\n",
              "      <th>1091038</th>\n",
              "      <td>0</td>\n",
              "    </tr>\n",
              "    <tr>\n",
              "      <th>1091039</th>\n",
              "      <td>0</td>\n",
              "    </tr>\n",
              "    <tr>\n",
              "      <th>1091040</th>\n",
              "      <td>0</td>\n",
              "    </tr>\n",
              "    <tr>\n",
              "      <th>1091041</th>\n",
              "      <td>0</td>\n",
              "    </tr>\n",
              "    <tr>\n",
              "      <th>1091042</th>\n",
              "      <td>0</td>\n",
              "    </tr>\n",
              "  </tbody>\n",
              "</table>\n",
              "<p>1091043 rows × 1 columns</p>\n",
              "</div><br><label><b>dtype:</b> int64</label>"
            ]
          },
          "metadata": {},
          "execution_count": 162
        }
      ]
    },
    {
      "cell_type": "code",
      "source": [
        "data.to_csv('/content/drive/MyDrive/data_akcii.csv')"
      ],
      "metadata": {
        "id": "H5LLKldQYxOA"
      },
      "execution_count": null,
      "outputs": []
    },
    {
      "cell_type": "code",
      "source": [
        "import statsmodels.api as sm"
      ],
      "metadata": {
        "id": "ExbcVkUqbLvz"
      },
      "execution_count": null,
      "outputs": []
    },
    {
      "cell_type": "code",
      "source": [
        "X = sm.add_constant(data[['service_amount_net']])\n",
        "for i in range(len(akcii)):\n",
        "    y = data[akcii[i]]\n",
        "\n",
        "    logit_model = sm.Logit(y, X)\n",
        "    result = logit_model.fit()\n",
        "\n",
        "    # Выводим результаты\n",
        "    #print(result.summary())\n",
        "\n",
        "    # Псевдо-R^2 (например, McFadden's R^2)\n",
        "    pseudo_r2 = result.prsquared\n",
        "    print(f'\\n{akcii[i]}: \\n')\n",
        "    print(f\"Pseudo R-squared: {pseudo_r2}\")\n",
        "\n",
        "    # Проверка статистической значимости модели\n",
        "    # Likelihood Ratio Test (LR-test)\n",
        "    llr_pvalue = result.llr_pvalue\n",
        "    print(f\"p-value for Likelihood Ratio Test: {llr_pvalue} \\n\")"
      ],
      "metadata": {
        "colab": {
          "base_uri": "https://localhost:8080/"
        },
        "id": "CwOQJMl8bNAK",
        "outputId": "d95ab44d-1507-47db-a3d9-5354d724e412"
      },
      "execution_count": null,
      "outputs": [
        {
          "output_type": "stream",
          "name": "stdout",
          "text": [
            "Optimization terminated successfully.\n",
            "         Current function value: 0.284132\n",
            "         Iterations 6\n",
            "\n",
            "RPSS2022: \n",
            "\n",
            "Pseudo R-squared: 9.495413614279968e-07\n",
            "p-value for Likelihood Ratio Test: 0.442915528815946 \n",
            "\n",
            "Optimization terminated successfully.\n",
            "         Current function value: 0.100813\n",
            "         Iterations 8\n",
            "\n",
            "SAVE25: \n",
            "\n",
            "Pseudo R-squared: 0.00013740934818640138\n",
            "p-value for Likelihood Ratio Test: 3.8337614495753936e-08 \n",
            "\n",
            "Optimization terminated successfully.\n",
            "         Current function value: 0.081109\n",
            "         Iterations 8\n",
            "\n",
            "DEDMRAZ: \n",
            "\n",
            "Pseudo R-squared: 8.271009884153191e-05\n",
            "p-value for Likelihood Ratio Test: 0.00013013070340856268 \n",
            "\n",
            "Optimization terminated successfully.\n",
            "         Current function value: 0.032651\n",
            "         Iterations 9\n",
            "\n",
            "GREENDAY: \n",
            "\n",
            "Pseudo R-squared: 2.752545251694105e-05\n",
            "p-value for Likelihood Ratio Test: 0.16138745529000997 \n",
            "\n",
            "Optimization terminated successfully.\n",
            "         Current function value: 0.174162\n",
            "         Iterations 7\n",
            "\n",
            "SKIDKANASTRAHOVKU: \n",
            "\n",
            "Pseudo R-squared: 5.8104947064929746e-05\n",
            "p-value for Likelihood Ratio Test: 2.6107320556309067e-06 \n",
            "\n",
            "Optimization terminated successfully.\n",
            "         Current function value: 0.339593\n",
            "         Iterations 6\n",
            "\n",
            "RPSS2023: \n",
            "\n",
            "Pseudo R-squared: 7.794109742642608e-05\n",
            "p-value for Likelihood Ratio Test: 2.960521530349347e-14 \n",
            "\n",
            "Optimization terminated successfully.\n",
            "         Current function value: 0.214031\n",
            "         Iterations 7\n",
            "\n",
            "SBEREGIFINANCY: \n",
            "\n",
            "Pseudo R-squared: 3.444560735010871e-05\n",
            "p-value for Likelihood Ratio Test: 6.047201419636159e-05 \n",
            "\n"
          ]
        }
      ]
    },
    {
      "cell_type": "code",
      "source": [
        "from sklearn.linear_model import LogisticRegression\n",
        "from sklearn.model_selection import train_test_split\n",
        "\n",
        "X_train, X_test, y_train, y_test = train_test_split(data[['service_amount_net']], data['SAVE25'], test_size=0.000000001)\n",
        "\n",
        "lor = LogisticRegression()\n",
        "lor.fit(X_train, y_train)\n",
        "lor.coef_"
      ],
      "metadata": {
        "colab": {
          "base_uri": "https://localhost:8080/"
        },
        "id": "NWRshZUZTvA-",
        "outputId": "57a99fca-2b03-473e-d73f-947af7a501b9"
      },
      "execution_count": null,
      "outputs": [
        {
          "output_type": "execute_result",
          "data": {
            "text/plain": [
              "array([[-7.88312799e-06]])"
            ]
          },
          "metadata": {},
          "execution_count": 167
        }
      ]
    },
    {
      "cell_type": "code",
      "source": [
        "plt.hist(data['service_amount_net'], bins=500)"
      ],
      "metadata": {
        "colab": {
          "base_uri": "https://localhost:8080/",
          "height": 1000
        },
        "id": "y6cP7F7X7TUz",
        "outputId": "915b31c8-29d1-48ff-8dce-45aa9dad9274"
      },
      "execution_count": null,
      "outputs": [
        {
          "output_type": "execute_result",
          "data": {
            "text/plain": [
              "(array([1.00000e+00, 0.00000e+00, 0.00000e+00, 0.00000e+00, 0.00000e+00,\n",
              "        0.00000e+00, 0.00000e+00, 0.00000e+00, 0.00000e+00, 0.00000e+00,\n",
              "        0.00000e+00, 0.00000e+00, 0.00000e+00, 0.00000e+00, 0.00000e+00,\n",
              "        0.00000e+00, 0.00000e+00, 0.00000e+00, 0.00000e+00, 0.00000e+00,\n",
              "        0.00000e+00, 0.00000e+00, 0.00000e+00, 0.00000e+00, 0.00000e+00,\n",
              "        0.00000e+00, 0.00000e+00, 0.00000e+00, 0.00000e+00, 0.00000e+00,\n",
              "        1.00000e+00, 0.00000e+00, 0.00000e+00, 0.00000e+00, 0.00000e+00,\n",
              "        0.00000e+00, 0.00000e+00, 0.00000e+00, 0.00000e+00, 0.00000e+00,\n",
              "        0.00000e+00, 0.00000e+00, 0.00000e+00, 0.00000e+00, 0.00000e+00,\n",
              "        0.00000e+00, 0.00000e+00, 1.00000e+00, 0.00000e+00, 0.00000e+00,\n",
              "        0.00000e+00, 0.00000e+00, 1.00000e+00, 0.00000e+00, 1.00000e+00,\n",
              "        0.00000e+00, 0.00000e+00, 0.00000e+00, 1.00000e+00, 0.00000e+00,\n",
              "        1.00000e+00, 0.00000e+00, 0.00000e+00, 3.00000e+00, 0.00000e+00,\n",
              "        0.00000e+00, 4.00000e+00, 1.00000e+00, 0.00000e+00, 1.00000e+00,\n",
              "        2.00000e+00, 3.00000e+00, 4.00000e+00, 5.00000e+00, 2.50000e+01,\n",
              "        1.80000e+01, 4.20000e+01, 2.02000e+02, 4.16000e+02, 2.72905e+05,\n",
              "        6.49065e+05, 1.00576e+05, 4.00860e+04, 1.10900e+04, 4.91700e+03,\n",
              "        3.13300e+03, 1.67900e+03, 1.28200e+03, 1.00900e+03, 4.83000e+02,\n",
              "        5.91000e+02, 3.23000e+02, 2.25000e+02, 3.36000e+02, 1.86000e+02,\n",
              "        1.40000e+02, 2.99000e+02, 1.17000e+02, 1.26000e+02, 9.10000e+01,\n",
              "        1.34000e+02, 8.70000e+01, 1.02000e+02, 1.20000e+02, 7.00000e+01,\n",
              "        1.13000e+02, 6.60000e+01, 5.70000e+01, 4.90000e+01, 3.90000e+01,\n",
              "        5.80000e+01, 3.60000e+01, 3.50000e+01, 3.60000e+01, 2.70000e+01,\n",
              "        3.70000e+01, 2.40000e+01, 3.80000e+01, 2.40000e+01, 2.60000e+01,\n",
              "        1.60000e+01, 2.00000e+01, 3.00000e+01, 8.00000e+00, 2.50000e+01,\n",
              "        4.00000e+01, 1.10000e+01, 1.70000e+01, 1.00000e+01, 3.30000e+01,\n",
              "        2.20000e+01, 9.00000e+00, 1.70000e+01, 1.80000e+01, 4.00000e+00,\n",
              "        9.00000e+00, 1.70000e+01, 4.00000e+00, 7.00000e+00, 8.00000e+00,\n",
              "        1.70000e+01, 6.00000e+00, 1.40000e+01, 5.00000e+00, 3.00000e+00,\n",
              "        3.00000e+00, 8.00000e+00, 8.00000e+00, 1.00000e+00, 0.00000e+00,\n",
              "        7.00000e+00, 2.00000e+00, 2.00000e+00, 7.00000e+00, 2.00000e+00,\n",
              "        7.00000e+00, 2.00000e+00, 5.00000e+00, 0.00000e+00, 1.00000e+00,\n",
              "        4.00000e+00, 1.00000e+00, 0.00000e+00, 2.00000e+00, 0.00000e+00,\n",
              "        1.00000e+00, 1.00000e+00, 2.00000e+00, 5.00000e+00, 0.00000e+00,\n",
              "        1.00000e+00, 1.00000e+00, 0.00000e+00, 0.00000e+00, 2.00000e+00,\n",
              "        2.00000e+00, 1.00000e+00, 0.00000e+00, 0.00000e+00, 0.00000e+00,\n",
              "        0.00000e+00, 0.00000e+00, 1.00000e+00, 1.00000e+00, 0.00000e+00,\n",
              "        1.00000e+00, 0.00000e+00, 5.00000e+00, 0.00000e+00, 0.00000e+00,\n",
              "        0.00000e+00, 0.00000e+00, 0.00000e+00, 2.00000e+00, 0.00000e+00,\n",
              "        0.00000e+00, 0.00000e+00, 0.00000e+00, 0.00000e+00, 0.00000e+00,\n",
              "        0.00000e+00, 0.00000e+00, 0.00000e+00, 1.00000e+00, 0.00000e+00,\n",
              "        1.00000e+00, 0.00000e+00, 0.00000e+00, 0.00000e+00, 0.00000e+00,\n",
              "        1.00000e+00, 0.00000e+00, 1.00000e+00, 0.00000e+00, 0.00000e+00,\n",
              "        0.00000e+00, 0.00000e+00, 0.00000e+00, 1.00000e+00, 0.00000e+00,\n",
              "        0.00000e+00, 0.00000e+00, 0.00000e+00, 0.00000e+00, 0.00000e+00,\n",
              "        1.00000e+00, 0.00000e+00, 0.00000e+00, 0.00000e+00, 0.00000e+00,\n",
              "        0.00000e+00, 0.00000e+00, 0.00000e+00, 0.00000e+00, 0.00000e+00,\n",
              "        0.00000e+00, 0.00000e+00, 0.00000e+00, 0.00000e+00, 0.00000e+00,\n",
              "        0.00000e+00, 0.00000e+00, 1.00000e+00, 0.00000e+00, 1.00000e+00,\n",
              "        0.00000e+00, 0.00000e+00, 0.00000e+00, 0.00000e+00, 0.00000e+00,\n",
              "        0.00000e+00, 0.00000e+00, 0.00000e+00, 0.00000e+00, 0.00000e+00,\n",
              "        1.00000e+00, 0.00000e+00, 0.00000e+00, 0.00000e+00, 0.00000e+00,\n",
              "        0.00000e+00, 0.00000e+00, 0.00000e+00, 0.00000e+00, 0.00000e+00,\n",
              "        0.00000e+00, 0.00000e+00, 0.00000e+00, 0.00000e+00, 0.00000e+00,\n",
              "        0.00000e+00, 0.00000e+00, 0.00000e+00, 0.00000e+00, 0.00000e+00,\n",
              "        0.00000e+00, 0.00000e+00, 0.00000e+00, 0.00000e+00, 0.00000e+00,\n",
              "        0.00000e+00, 0.00000e+00, 0.00000e+00, 0.00000e+00, 0.00000e+00,\n",
              "        0.00000e+00, 0.00000e+00, 0.00000e+00, 0.00000e+00, 0.00000e+00,\n",
              "        1.00000e+00, 0.00000e+00, 0.00000e+00, 0.00000e+00, 0.00000e+00,\n",
              "        0.00000e+00, 0.00000e+00, 0.00000e+00, 0.00000e+00, 0.00000e+00,\n",
              "        0.00000e+00, 0.00000e+00, 0.00000e+00, 0.00000e+00, 0.00000e+00,\n",
              "        1.00000e+00, 0.00000e+00, 0.00000e+00, 0.00000e+00, 0.00000e+00,\n",
              "        0.00000e+00, 0.00000e+00, 0.00000e+00, 0.00000e+00, 0.00000e+00,\n",
              "        0.00000e+00, 0.00000e+00, 0.00000e+00, 0.00000e+00, 0.00000e+00,\n",
              "        0.00000e+00, 0.00000e+00, 0.00000e+00, 0.00000e+00, 0.00000e+00,\n",
              "        0.00000e+00, 0.00000e+00, 0.00000e+00, 0.00000e+00, 0.00000e+00,\n",
              "        0.00000e+00, 0.00000e+00, 0.00000e+00, 0.00000e+00, 0.00000e+00,\n",
              "        0.00000e+00, 0.00000e+00, 0.00000e+00, 0.00000e+00, 0.00000e+00,\n",
              "        0.00000e+00, 0.00000e+00, 0.00000e+00, 0.00000e+00, 0.00000e+00,\n",
              "        0.00000e+00, 0.00000e+00, 0.00000e+00, 0.00000e+00, 0.00000e+00,\n",
              "        0.00000e+00, 0.00000e+00, 0.00000e+00, 0.00000e+00, 0.00000e+00,\n",
              "        0.00000e+00, 0.00000e+00, 0.00000e+00, 0.00000e+00, 0.00000e+00,\n",
              "        0.00000e+00, 0.00000e+00, 0.00000e+00, 0.00000e+00, 0.00000e+00,\n",
              "        0.00000e+00, 0.00000e+00, 0.00000e+00, 0.00000e+00, 0.00000e+00,\n",
              "        0.00000e+00, 0.00000e+00, 0.00000e+00, 0.00000e+00, 0.00000e+00,\n",
              "        0.00000e+00, 0.00000e+00, 0.00000e+00, 0.00000e+00, 0.00000e+00,\n",
              "        0.00000e+00, 0.00000e+00, 0.00000e+00, 0.00000e+00, 0.00000e+00,\n",
              "        0.00000e+00, 0.00000e+00, 0.00000e+00, 0.00000e+00, 0.00000e+00,\n",
              "        0.00000e+00, 0.00000e+00, 0.00000e+00, 0.00000e+00, 0.00000e+00,\n",
              "        0.00000e+00, 0.00000e+00, 0.00000e+00, 0.00000e+00, 0.00000e+00,\n",
              "        0.00000e+00, 0.00000e+00, 0.00000e+00, 0.00000e+00, 0.00000e+00,\n",
              "        0.00000e+00, 0.00000e+00, 0.00000e+00, 0.00000e+00, 0.00000e+00,\n",
              "        0.00000e+00, 0.00000e+00, 0.00000e+00, 0.00000e+00, 0.00000e+00,\n",
              "        0.00000e+00, 1.00000e+00, 0.00000e+00, 0.00000e+00, 0.00000e+00,\n",
              "        0.00000e+00, 0.00000e+00, 0.00000e+00, 0.00000e+00, 0.00000e+00,\n",
              "        0.00000e+00, 0.00000e+00, 0.00000e+00, 0.00000e+00, 0.00000e+00,\n",
              "        0.00000e+00, 0.00000e+00, 0.00000e+00, 0.00000e+00, 0.00000e+00,\n",
              "        0.00000e+00, 0.00000e+00, 0.00000e+00, 0.00000e+00, 0.00000e+00,\n",
              "        0.00000e+00, 0.00000e+00, 0.00000e+00, 0.00000e+00, 0.00000e+00,\n",
              "        0.00000e+00, 0.00000e+00, 0.00000e+00, 0.00000e+00, 0.00000e+00,\n",
              "        0.00000e+00, 0.00000e+00, 0.00000e+00, 0.00000e+00, 0.00000e+00,\n",
              "        0.00000e+00, 0.00000e+00, 0.00000e+00, 0.00000e+00, 0.00000e+00,\n",
              "        0.00000e+00, 0.00000e+00, 0.00000e+00, 0.00000e+00, 0.00000e+00,\n",
              "        0.00000e+00, 0.00000e+00, 0.00000e+00, 0.00000e+00, 0.00000e+00,\n",
              "        0.00000e+00, 0.00000e+00, 0.00000e+00, 0.00000e+00, 0.00000e+00,\n",
              "        0.00000e+00, 0.00000e+00, 0.00000e+00, 0.00000e+00, 0.00000e+00,\n",
              "        0.00000e+00, 0.00000e+00, 0.00000e+00, 0.00000e+00, 0.00000e+00,\n",
              "        0.00000e+00, 0.00000e+00, 0.00000e+00, 0.00000e+00, 0.00000e+00,\n",
              "        0.00000e+00, 0.00000e+00, 0.00000e+00, 0.00000e+00, 0.00000e+00,\n",
              "        0.00000e+00, 0.00000e+00, 0.00000e+00, 0.00000e+00, 3.00000e+00]),\n",
              " array([-2.52560000e+05, -2.49397708e+05, -2.46235416e+05, -2.43073124e+05,\n",
              "        -2.39910832e+05, -2.36748540e+05, -2.33586248e+05, -2.30423956e+05,\n",
              "        -2.27261664e+05, -2.24099372e+05, -2.20937080e+05, -2.17774788e+05,\n",
              "        -2.14612496e+05, -2.11450204e+05, -2.08287912e+05, -2.05125620e+05,\n",
              "        -2.01963328e+05, -1.98801036e+05, -1.95638744e+05, -1.92476452e+05,\n",
              "        -1.89314160e+05, -1.86151868e+05, -1.82989576e+05, -1.79827284e+05,\n",
              "        -1.76664992e+05, -1.73502700e+05, -1.70340408e+05, -1.67178116e+05,\n",
              "        -1.64015824e+05, -1.60853532e+05, -1.57691240e+05, -1.54528948e+05,\n",
              "        -1.51366656e+05, -1.48204364e+05, -1.45042072e+05, -1.41879780e+05,\n",
              "        -1.38717488e+05, -1.35555196e+05, -1.32392904e+05, -1.29230612e+05,\n",
              "        -1.26068320e+05, -1.22906028e+05, -1.19743736e+05, -1.16581444e+05,\n",
              "        -1.13419152e+05, -1.10256860e+05, -1.07094568e+05, -1.03932276e+05,\n",
              "        -1.00769984e+05, -9.76076920e+04, -9.44454000e+04, -9.12831080e+04,\n",
              "        -8.81208160e+04, -8.49585240e+04, -8.17962320e+04, -7.86339400e+04,\n",
              "        -7.54716480e+04, -7.23093560e+04, -6.91470640e+04, -6.59847720e+04,\n",
              "        -6.28224800e+04, -5.96601880e+04, -5.64978960e+04, -5.33356040e+04,\n",
              "        -5.01733120e+04, -4.70110200e+04, -4.38487280e+04, -4.06864360e+04,\n",
              "        -3.75241440e+04, -3.43618520e+04, -3.11995600e+04, -2.80372680e+04,\n",
              "        -2.48749760e+04, -2.17126840e+04, -1.85503920e+04, -1.53881000e+04,\n",
              "        -1.22258080e+04, -9.06351600e+03, -5.90122400e+03, -2.73893200e+03,\n",
              "         4.23360000e+02,  3.58565200e+03,  6.74794400e+03,  9.91023600e+03,\n",
              "         1.30725280e+04,  1.62348200e+04,  1.93971120e+04,  2.25594040e+04,\n",
              "         2.57216960e+04,  2.88839880e+04,  3.20462800e+04,  3.52085720e+04,\n",
              "         3.83708640e+04,  4.15331560e+04,  4.46954480e+04,  4.78577400e+04,\n",
              "         5.10200320e+04,  5.41823240e+04,  5.73446160e+04,  6.05069080e+04,\n",
              "         6.36692000e+04,  6.68314920e+04,  6.99937840e+04,  7.31560760e+04,\n",
              "         7.63183680e+04,  7.94806600e+04,  8.26429520e+04,  8.58052440e+04,\n",
              "         8.89675360e+04,  9.21298280e+04,  9.52921200e+04,  9.84544120e+04,\n",
              "         1.01616704e+05,  1.04778996e+05,  1.07941288e+05,  1.11103580e+05,\n",
              "         1.14265872e+05,  1.17428164e+05,  1.20590456e+05,  1.23752748e+05,\n",
              "         1.26915040e+05,  1.30077332e+05,  1.33239624e+05,  1.36401916e+05,\n",
              "         1.39564208e+05,  1.42726500e+05,  1.45888792e+05,  1.49051084e+05,\n",
              "         1.52213376e+05,  1.55375668e+05,  1.58537960e+05,  1.61700252e+05,\n",
              "         1.64862544e+05,  1.68024836e+05,  1.71187128e+05,  1.74349420e+05,\n",
              "         1.77511712e+05,  1.80674004e+05,  1.83836296e+05,  1.86998588e+05,\n",
              "         1.90160880e+05,  1.93323172e+05,  1.96485464e+05,  1.99647756e+05,\n",
              "         2.02810048e+05,  2.05972340e+05,  2.09134632e+05,  2.12296924e+05,\n",
              "         2.15459216e+05,  2.18621508e+05,  2.21783800e+05,  2.24946092e+05,\n",
              "         2.28108384e+05,  2.31270676e+05,  2.34432968e+05,  2.37595260e+05,\n",
              "         2.40757552e+05,  2.43919844e+05,  2.47082136e+05,  2.50244428e+05,\n",
              "         2.53406720e+05,  2.56569012e+05,  2.59731304e+05,  2.62893596e+05,\n",
              "         2.66055888e+05,  2.69218180e+05,  2.72380472e+05,  2.75542764e+05,\n",
              "         2.78705056e+05,  2.81867348e+05,  2.85029640e+05,  2.88191932e+05,\n",
              "         2.91354224e+05,  2.94516516e+05,  2.97678808e+05,  3.00841100e+05,\n",
              "         3.04003392e+05,  3.07165684e+05,  3.10327976e+05,  3.13490268e+05,\n",
              "         3.16652560e+05,  3.19814852e+05,  3.22977144e+05,  3.26139436e+05,\n",
              "         3.29301728e+05,  3.32464020e+05,  3.35626312e+05,  3.38788604e+05,\n",
              "         3.41950896e+05,  3.45113188e+05,  3.48275480e+05,  3.51437772e+05,\n",
              "         3.54600064e+05,  3.57762356e+05,  3.60924648e+05,  3.64086940e+05,\n",
              "         3.67249232e+05,  3.70411524e+05,  3.73573816e+05,  3.76736108e+05,\n",
              "         3.79898400e+05,  3.83060692e+05,  3.86222984e+05,  3.89385276e+05,\n",
              "         3.92547568e+05,  3.95709860e+05,  3.98872152e+05,  4.02034444e+05,\n",
              "         4.05196736e+05,  4.08359028e+05,  4.11521320e+05,  4.14683612e+05,\n",
              "         4.17845904e+05,  4.21008196e+05,  4.24170488e+05,  4.27332780e+05,\n",
              "         4.30495072e+05,  4.33657364e+05,  4.36819656e+05,  4.39981948e+05,\n",
              "         4.43144240e+05,  4.46306532e+05,  4.49468824e+05,  4.52631116e+05,\n",
              "         4.55793408e+05,  4.58955700e+05,  4.62117992e+05,  4.65280284e+05,\n",
              "         4.68442576e+05,  4.71604868e+05,  4.74767160e+05,  4.77929452e+05,\n",
              "         4.81091744e+05,  4.84254036e+05,  4.87416328e+05,  4.90578620e+05,\n",
              "         4.93740912e+05,  4.96903204e+05,  5.00065496e+05,  5.03227788e+05,\n",
              "         5.06390080e+05,  5.09552372e+05,  5.12714664e+05,  5.15876956e+05,\n",
              "         5.19039248e+05,  5.22201540e+05,  5.25363832e+05,  5.28526124e+05,\n",
              "         5.31688416e+05,  5.34850708e+05,  5.38013000e+05,  5.41175292e+05,\n",
              "         5.44337584e+05,  5.47499876e+05,  5.50662168e+05,  5.53824460e+05,\n",
              "         5.56986752e+05,  5.60149044e+05,  5.63311336e+05,  5.66473628e+05,\n",
              "         5.69635920e+05,  5.72798212e+05,  5.75960504e+05,  5.79122796e+05,\n",
              "         5.82285088e+05,  5.85447380e+05,  5.88609672e+05,  5.91771964e+05,\n",
              "         5.94934256e+05,  5.98096548e+05,  6.01258840e+05,  6.04421132e+05,\n",
              "         6.07583424e+05,  6.10745716e+05,  6.13908008e+05,  6.17070300e+05,\n",
              "         6.20232592e+05,  6.23394884e+05,  6.26557176e+05,  6.29719468e+05,\n",
              "         6.32881760e+05,  6.36044052e+05,  6.39206344e+05,  6.42368636e+05,\n",
              "         6.45530928e+05,  6.48693220e+05,  6.51855512e+05,  6.55017804e+05,\n",
              "         6.58180096e+05,  6.61342388e+05,  6.64504680e+05,  6.67666972e+05,\n",
              "         6.70829264e+05,  6.73991556e+05,  6.77153848e+05,  6.80316140e+05,\n",
              "         6.83478432e+05,  6.86640724e+05,  6.89803016e+05,  6.92965308e+05,\n",
              "         6.96127600e+05,  6.99289892e+05,  7.02452184e+05,  7.05614476e+05,\n",
              "         7.08776768e+05,  7.11939060e+05,  7.15101352e+05,  7.18263644e+05,\n",
              "         7.21425936e+05,  7.24588228e+05,  7.27750520e+05,  7.30912812e+05,\n",
              "         7.34075104e+05,  7.37237396e+05,  7.40399688e+05,  7.43561980e+05,\n",
              "         7.46724272e+05,  7.49886564e+05,  7.53048856e+05,  7.56211148e+05,\n",
              "         7.59373440e+05,  7.62535732e+05,  7.65698024e+05,  7.68860316e+05,\n",
              "         7.72022608e+05,  7.75184900e+05,  7.78347192e+05,  7.81509484e+05,\n",
              "         7.84671776e+05,  7.87834068e+05,  7.90996360e+05,  7.94158652e+05,\n",
              "         7.97320944e+05,  8.00483236e+05,  8.03645528e+05,  8.06807820e+05,\n",
              "         8.09970112e+05,  8.13132404e+05,  8.16294696e+05,  8.19456988e+05,\n",
              "         8.22619280e+05,  8.25781572e+05,  8.28943864e+05,  8.32106156e+05,\n",
              "         8.35268448e+05,  8.38430740e+05,  8.41593032e+05,  8.44755324e+05,\n",
              "         8.47917616e+05,  8.51079908e+05,  8.54242200e+05,  8.57404492e+05,\n",
              "         8.60566784e+05,  8.63729076e+05,  8.66891368e+05,  8.70053660e+05,\n",
              "         8.73215952e+05,  8.76378244e+05,  8.79540536e+05,  8.82702828e+05,\n",
              "         8.85865120e+05,  8.89027412e+05,  8.92189704e+05,  8.95351996e+05,\n",
              "         8.98514288e+05,  9.01676580e+05,  9.04838872e+05,  9.08001164e+05,\n",
              "         9.11163456e+05,  9.14325748e+05,  9.17488040e+05,  9.20650332e+05,\n",
              "         9.23812624e+05,  9.26974916e+05,  9.30137208e+05,  9.33299500e+05,\n",
              "         9.36461792e+05,  9.39624084e+05,  9.42786376e+05,  9.45948668e+05,\n",
              "         9.49110960e+05,  9.52273252e+05,  9.55435544e+05,  9.58597836e+05,\n",
              "         9.61760128e+05,  9.64922420e+05,  9.68084712e+05,  9.71247004e+05,\n",
              "         9.74409296e+05,  9.77571588e+05,  9.80733880e+05,  9.83896172e+05,\n",
              "         9.87058464e+05,  9.90220756e+05,  9.93383048e+05,  9.96545340e+05,\n",
              "         9.99707632e+05,  1.00286992e+06,  1.00603222e+06,  1.00919451e+06,\n",
              "         1.01235680e+06,  1.01551909e+06,  1.01868138e+06,  1.02184368e+06,\n",
              "         1.02500597e+06,  1.02816826e+06,  1.03133055e+06,  1.03449284e+06,\n",
              "         1.03765514e+06,  1.04081743e+06,  1.04397972e+06,  1.04714201e+06,\n",
              "         1.05030430e+06,  1.05346660e+06,  1.05662889e+06,  1.05979118e+06,\n",
              "         1.06295347e+06,  1.06611576e+06,  1.06927806e+06,  1.07244035e+06,\n",
              "         1.07560264e+06,  1.07876493e+06,  1.08192722e+06,  1.08508952e+06,\n",
              "         1.08825181e+06,  1.09141410e+06,  1.09457639e+06,  1.09773868e+06,\n",
              "         1.10090098e+06,  1.10406327e+06,  1.10722556e+06,  1.11038785e+06,\n",
              "         1.11355014e+06,  1.11671244e+06,  1.11987473e+06,  1.12303702e+06,\n",
              "         1.12619931e+06,  1.12936160e+06,  1.13252390e+06,  1.13568619e+06,\n",
              "         1.13884848e+06,  1.14201077e+06,  1.14517306e+06,  1.14833536e+06,\n",
              "         1.15149765e+06,  1.15465994e+06,  1.15782223e+06,  1.16098452e+06,\n",
              "         1.16414682e+06,  1.16730911e+06,  1.17047140e+06,  1.17363369e+06,\n",
              "         1.17679598e+06,  1.17995828e+06,  1.18312057e+06,  1.18628286e+06,\n",
              "         1.18944515e+06,  1.19260744e+06,  1.19576974e+06,  1.19893203e+06,\n",
              "         1.20209432e+06,  1.20525661e+06,  1.20841890e+06,  1.21158120e+06,\n",
              "         1.21474349e+06,  1.21790578e+06,  1.22106807e+06,  1.22423036e+06,\n",
              "         1.22739266e+06,  1.23055495e+06,  1.23371724e+06,  1.23687953e+06,\n",
              "         1.24004182e+06,  1.24320412e+06,  1.24636641e+06,  1.24952870e+06,\n",
              "         1.25269099e+06,  1.25585328e+06,  1.25901558e+06,  1.26217787e+06,\n",
              "         1.26534016e+06,  1.26850245e+06,  1.27166474e+06,  1.27482704e+06,\n",
              "         1.27798933e+06,  1.28115162e+06,  1.28431391e+06,  1.28747620e+06,\n",
              "         1.29063850e+06,  1.29380079e+06,  1.29696308e+06,  1.30012537e+06,\n",
              "         1.30328766e+06,  1.30644996e+06,  1.30961225e+06,  1.31277454e+06,\n",
              "         1.31593683e+06,  1.31909912e+06,  1.32226142e+06,  1.32542371e+06,\n",
              "         1.32858600e+06]),\n",
              " <BarContainer object of 500 artists>)"
            ]
          },
          "metadata": {},
          "execution_count": 58
        },
        {
          "output_type": "display_data",
          "data": {
            "text/plain": [
              "<Figure size 640x480 with 1 Axes>"
            ],
            "image/png": "[encoded data removed]"
          },
          "metadata": {}
        }
      ]
    },
    {
      "cell_type": "code",
      "source": [
        "data['service_amount_net'].describe()"
      ],
      "metadata": {
        "colab": {
          "base_uri": "https://localhost:8080/",
          "height": 335
        },
        "id": "oWSY_qZ89cP6",
        "outputId": "c52e4ee5-89ee-4e45-e037-940e8762bfe9"
      },
      "execution_count": null,
      "outputs": [
        {
          "output_type": "execute_result",
          "data": {
            "text/plain": [
              "count    1.091043e+06\n",
              "mean     2.335262e+03\n",
              "std      6.482097e+03\n",
              "min     -2.525600e+05\n",
              "25%      4.200000e+02\n",
              "50%      1.304000e+03\n",
              "75%      2.480000e+03\n",
              "max      1.328586e+06\n",
              "Name: service_amount_net, dtype: float64"
            ],
            "text/html": [
              "<div>\n",
              "<style scoped>\n",
              "    .dataframe tbody tr th:only-of-type {\n",
              "        vertical-align: middle;\n",
              "    }\n",
              "\n",
              "    .dataframe tbody tr th {\n",
              "        vertical-align: top;\n",
              "    }\n",
              "\n",
              "    .dataframe thead th {\n",
              "        text-align: right;\n",
              "    }\n",
              "</style>\n",
              "<table border=\"1\" class=\"dataframe\">\n",
              "  <thead>\n",
              "    <tr style=\"text-align: right;\">\n",
              "      <th></th>\n",
              "      <th>service_amount_net</th>\n",
              "    </tr>\n",
              "  </thead>\n",
              "  <tbody>\n",
              "    <tr>\n",
              "      <th>count</th>\n",
              "      <td>1.091043e+06</td>\n",
              "    </tr>\n",
              "    <tr>\n",
              "      <th>mean</th>\n",
              "      <td>2.335262e+03</td>\n",
              "    </tr>\n",
              "    <tr>\n",
              "      <th>std</th>\n",
              "      <td>6.482097e+03</td>\n",
              "    </tr>\n",
              "    <tr>\n",
              "      <th>min</th>\n",
              "      <td>-2.525600e+05</td>\n",
              "    </tr>\n",
              "    <tr>\n",
              "      <th>25%</th>\n",
              "      <td>4.200000e+02</td>\n",
              "    </tr>\n",
              "    <tr>\n",
              "      <th>50%</th>\n",
              "      <td>1.304000e+03</td>\n",
              "    </tr>\n",
              "    <tr>\n",
              "      <th>75%</th>\n",
              "      <td>2.480000e+03</td>\n",
              "    </tr>\n",
              "    <tr>\n",
              "      <th>max</th>\n",
              "      <td>1.328586e+06</td>\n",
              "    </tr>\n",
              "  </tbody>\n",
              "</table>\n",
              "</div><br><label><b>dtype:</b> float64</label>"
            ]
          },
          "metadata": {},
          "execution_count": 59
        }
      ]
    },
    {
      "cell_type": "code",
      "source": [
        "def get_season(month):\n",
        "    if month in [12, 1, 2]:\n",
        "        return 'winter'\n",
        "    elif month in [3, 4, 5]:\n",
        "        return 'spring'\n",
        "    elif month in [6, 7, 8]:\n",
        "        return 'summer'\n",
        "    else:\n",
        "        return 'autumn'"
      ],
      "metadata": {
        "id": "NlmqjFqNSioJ"
      },
      "execution_count": null,
      "outputs": []
    },
    {
      "cell_type": "code",
      "source": [
        "data['season'] = data['month'].apply(get_season)"
      ],
      "metadata": {
        "id": "lnRzqxqKR0Tc"
      },
      "execution_count": null,
      "outputs": []
    },
    {
      "cell_type": "code",
      "source": [
        "fig, axes = plt.subplots(12, 1, figsize=(10, 30))\n",
        "for i in range(1, 13):\n",
        "    data_month = data.loc[(data['month'] == i) &\n",
        "                         (data['service_amount_net'] > -10000000) &\n",
        "                         (data['service_amount_net'] < 10000000)]\n",
        "    axes[i-1].hist(data_month['service_amount_net'], bins=300)\n",
        "    axes[i-1].set_title(f'Month {i}')\n",
        "    axes[i-1].set_xlabel('Service Amount Net')\n",
        "    axes[i-1].set_ylabel('Frequency')\n",
        "plt.tight_layout()\n",
        "plt.show()"
      ],
      "metadata": {
        "colab": {
          "base_uri": "https://localhost:8080/",
          "height": 1000
        },
        "id": "NaMU5NhDQLk9",
        "outputId": "9f784759-eb55-428d-a3b5-127803eca46a"
      },
      "execution_count": null,
      "outputs": [
        {
          "output_type": "display_data",
          "data": {
            "text/plain": [
              "<Figure size 1000x3000 with 12 Axes>"
            ],
            "image/png": "[encoded data removed]"
          },
          "metadata": {}
        }
      ]
    },
    {
      "cell_type": "code",
      "source": [
        "fig, axes = plt.subplots(7, 4, figsize=(10, 30))\n",
        "seasons = ['winter', 'spring', 'summer', 'autumn']\n",
        "for j in range(4):\n",
        "    data_season = data.loc[data['season'] == seasons[j]]\n",
        "    for i in range(7):\n",
        "        data_month = data.loc[(data['month'] == i) &\n",
        "                            (data['service_amount_net'] > -10000000) &\n",
        "                            (data['service_amount_net'] < 10000000)]\n",
        "        axes[i-1].hist(data_month['service_amount_net'], bins=300)\n",
        "        axes[i-1].set_title(f'Month {i}')\n",
        "        axes[i-1].set_xlabel('Service Amount Net')\n",
        "        axes[i-1].set_ylabel('Frequency')\n",
        "plt.tight_layout()\n",
        "plt.show()"
      ],
      "metadata": {
        "id": "PFNy2QOATMor"
      },
      "execution_count": null,
      "outputs": []
    },
    {
      "cell_type": "markdown",
      "source": [
        "###Исследование целевой переменной на фулл данных"
      ],
      "metadata": {
        "id": "mHnL5SGLJhRA"
      }
    },
    {
      "cell_type": "code",
      "source": [
        "data['service_amount_net'].describe()"
      ],
      "metadata": {
        "colab": {
          "base_uri": "https://localhost:8080/",
          "height": 335
        },
        "id": "ThWzzwjUHaTF",
        "outputId": "1eb6744e-14b4-4564-b159-2a5b6c860bc3"
      },
      "execution_count": null,
      "outputs": [
        {
          "output_type": "execute_result",
          "data": {
            "text/plain": [
              "count    1.091043e+06\n",
              "mean     2.335262e+03\n",
              "std      6.482097e+03\n",
              "min     -2.525600e+05\n",
              "25%      4.200000e+02\n",
              "50%      1.304000e+03\n",
              "75%      2.480000e+03\n",
              "max      1.328586e+06\n",
              "Name: service_amount_net, dtype: float64"
            ],
            "text/html": [
              "<div>\n",
              "<style scoped>\n",
              "    .dataframe tbody tr th:only-of-type {\n",
              "        vertical-align: middle;\n",
              "    }\n",
              "\n",
              "    .dataframe tbody tr th {\n",
              "        vertical-align: top;\n",
              "    }\n",
              "\n",
              "    .dataframe thead th {\n",
              "        text-align: right;\n",
              "    }\n",
              "</style>\n",
              "<table border=\"1\" class=\"dataframe\">\n",
              "  <thead>\n",
              "    <tr style=\"text-align: right;\">\n",
              "      <th></th>\n",
              "      <th>service_amount_net</th>\n",
              "    </tr>\n",
              "  </thead>\n",
              "  <tbody>\n",
              "    <tr>\n",
              "      <th>count</th>\n",
              "      <td>1.091043e+06</td>\n",
              "    </tr>\n",
              "    <tr>\n",
              "      <th>mean</th>\n",
              "      <td>2.335262e+03</td>\n",
              "    </tr>\n",
              "    <tr>\n",
              "      <th>std</th>\n",
              "      <td>6.482097e+03</td>\n",
              "    </tr>\n",
              "    <tr>\n",
              "      <th>min</th>\n",
              "      <td>-2.525600e+05</td>\n",
              "    </tr>\n",
              "    <tr>\n",
              "      <th>25%</th>\n",
              "      <td>4.200000e+02</td>\n",
              "    </tr>\n",
              "    <tr>\n",
              "      <th>50%</th>\n",
              "      <td>1.304000e+03</td>\n",
              "    </tr>\n",
              "    <tr>\n",
              "      <th>75%</th>\n",
              "      <td>2.480000e+03</td>\n",
              "    </tr>\n",
              "    <tr>\n",
              "      <th>max</th>\n",
              "      <td>1.328586e+06</td>\n",
              "    </tr>\n",
              "  </tbody>\n",
              "</table>\n",
              "</div><br><label><b>dtype:</b> float64</label>"
            ]
          },
          "metadata": {},
          "execution_count": 83
        }
      ]
    },
    {
      "cell_type": "code",
      "source": [
        "plt.hist(data.loc[(data['service_amount_net'] > 0) & (data['service_amount_net'] < 10000), 'service_amount_net'], bins=30)"
      ],
      "metadata": {
        "colab": {
          "base_uri": "https://localhost:8080/",
          "height": 677
        },
        "id": "XUbYDyKy7eVL",
        "outputId": "0891490a-e7a1-45d8-bab7-3c8544534155"
      },
      "execution_count": null,
      "outputs": [
        {
          "output_type": "execute_result",
          "data": {
            "text/plain": [
              "(array([183308., 238804.,  62312.,  53793.,  77623.,  75014.,  89118.,\n",
              "         50180.,  37501.,  25249.,  24470.,  15304.,  14933.,  12338.,\n",
              "          9727.,   7829.,   8220.,   7636.,  10237.,   6680.,   6891.,\n",
              "          6270.,   5167.,   3598.,   6083.,   3960.,   3385.,   1832.,\n",
              "          2729.,   2140.]),\n",
              " array([1.00000000e-02, 3.33289667e+02, 6.66569333e+02, 9.99849000e+02,\n",
              "        1.33312867e+03, 1.66640833e+03, 1.99968800e+03, 2.33296767e+03,\n",
              "        2.66624733e+03, 2.99952700e+03, 3.33280667e+03, 3.66608633e+03,\n",
              "        3.99936600e+03, 4.33264567e+03, 4.66592533e+03, 4.99920500e+03,\n",
              "        5.33248467e+03, 5.66576433e+03, 5.99904400e+03, 6.33232367e+03,\n",
              "        6.66560333e+03, 6.99888300e+03, 7.33216267e+03, 7.66544233e+03,\n",
              "        7.99872200e+03, 8.33200167e+03, 8.66528133e+03, 8.99856100e+03,\n",
              "        9.33184067e+03, 9.66512033e+03, 9.99840000e+03]),\n",
              " <BarContainer object of 30 artists>)"
            ]
          },
          "metadata": {},
          "execution_count": 67
        },
        {
          "output_type": "display_data",
          "data": {
            "text/plain": [
              "<Figure size 640x480 with 1 Axes>"
            ],
            "image/png": "[encoded data removed]"
          },
          "metadata": {}
        }
      ]
    },
    {
      "cell_type": "code",
      "source": [
        "plt.hist(data.loc[(data['service_amount_net'] < 0) & (data['service_amount_net'] > -15000), 'service_amount_net'], bins=30)"
      ],
      "metadata": {
        "colab": {
          "base_uri": "https://localhost:8080/",
          "height": 673
        },
        "id": "GcJnwitBHl3l",
        "outputId": "1361ae6e-0b94-482a-af7b-bbfacdbdf04f"
      },
      "execution_count": null,
      "outputs": [
        {
          "output_type": "execute_result",
          "data": {
            "text/plain": [
              "(array([1.000e+00, 1.000e+00, 6.000e+00, 2.000e+00, 8.000e+00, 3.000e+00,\n",
              "        3.000e+00, 6.000e+00, 3.000e+00, 1.400e+01, 1.300e+01, 8.000e+00,\n",
              "        2.000e+01, 3.900e+01, 1.900e+01, 3.700e+01, 4.400e+01, 4.700e+01,\n",
              "        3.900e+01, 7.000e+01, 4.200e+01, 3.400e+01, 4.800e+01, 1.230e+02,\n",
              "        1.650e+02, 1.460e+02, 1.650e+02, 1.290e+02, 5.250e+02, 5.597e+03]),\n",
              " array([-1.44780800e+04, -1.39955533e+04, -1.35130267e+04, -1.30305000e+04,\n",
              "        -1.25479733e+04, -1.20654467e+04, -1.15829200e+04, -1.11003933e+04,\n",
              "        -1.06178667e+04, -1.01353400e+04, -9.65281333e+03, -9.17028667e+03,\n",
              "        -8.68776000e+03, -8.20523333e+03, -7.72270667e+03, -7.24018000e+03,\n",
              "        -6.75765333e+03, -6.27512667e+03, -5.79260000e+03, -5.31007333e+03,\n",
              "        -4.82754667e+03, -4.34502000e+03, -3.86249333e+03, -3.37996667e+03,\n",
              "        -2.89744000e+03, -2.41491333e+03, -1.93238667e+03, -1.44986000e+03,\n",
              "        -9.67333333e+02, -4.84806667e+02, -2.28000000e+00]),\n",
              " <BarContainer object of 30 artists>)"
            ]
          },
          "metadata": {},
          "execution_count": 93
        },
        {
          "output_type": "display_data",
          "data": {
            "text/plain": [
              "<Figure size 640x480 with 1 Axes>"
            ],
            "image/png": "[encoded data removed]"
          },
          "metadata": {}
        }
      ]
    },
    {
      "cell_type": "code",
      "source": [
        "plt.hist(data.loc[(data['service_amount_net'] < -15000), 'service_amount_net'], bins=30)"
      ],
      "metadata": {
        "colab": {
          "base_uri": "https://localhost:8080/",
          "height": 604
        },
        "id": "hx0lBVH-IAXY",
        "outputId": "a74affc3-de0e-47bd-a412-26e10fe3026a"
      },
      "execution_count": null,
      "outputs": [
        {
          "output_type": "execute_result",
          "data": {
            "text/plain": [
              "(array([ 1.,  0.,  0.,  0.,  0.,  0.,  0.,  0.,  0.,  0.,  0.,  0.,  1.,\n",
              "         0.,  0.,  0.,  0.,  0.,  0.,  1.,  1.,  1.,  0.,  1.,  1.,  3.,\n",
              "         5.,  1.,  6., 33.]),\n",
              " array([-252560., -244658., -236756., -228854., -220952., -213050.,\n",
              "        -205148., -197246., -189344., -181442., -173540., -165638.,\n",
              "        -157736., -149834., -141932., -134030., -126128., -118226.,\n",
              "        -110324., -102422.,  -94520.,  -86618.,  -78716.,  -70814.,\n",
              "         -62912.,  -55010.,  -47108.,  -39206.,  -31304.,  -23402.,\n",
              "         -15500.]),\n",
              " <BarContainer object of 30 artists>)"
            ]
          },
          "metadata": {},
          "execution_count": 92
        },
        {
          "output_type": "display_data",
          "data": {
            "text/plain": [
              "<Figure size 640x480 with 1 Axes>"
            ],
            "image/png": "[encoded data removed]"
          },
          "metadata": {}
        }
      ]
    },
    {
      "cell_type": "code",
      "source": [
        "plt.hist(data.loc[(data['service_amount_net'] > 10000) & (data['service_amount_net'] < 50000), 'service_amount_net'], bins=30)"
      ],
      "metadata": {
        "colab": {
          "base_uri": "https://localhost:8080/",
          "height": 656
        },
        "id": "jwhAEncQIRDN",
        "outputId": "0bde7691-58e7-4137-d58d-efd95448ca56"
      },
      "execution_count": null,
      "outputs": [
        {
          "output_type": "execute_result",
          "data": {
            "text/plain": [
              "(array([5817., 3429., 2832., 1918., 1446., 1650., 1146.,  790.,  638.,\n",
              "         559.,  614.,  554.,  516.,  267.,  231.,  194.,  204.,  203.,\n",
              "         281.,   97.,  203.,   98.,  105.,   75.,  185.,  117.,   83.,\n",
              "          81.,   69.,   43.]),\n",
              " array([10002.57      , 11333.89766667, 12665.22533333, 13996.553     ,\n",
              "        15327.88066667, 16659.20833333, 17990.536     , 19321.86366667,\n",
              "        20653.19133333, 21984.519     , 23315.84666667, 24647.17433333,\n",
              "        25978.502     , 27309.82966667, 28641.15733333, 29972.485     ,\n",
              "        31303.81266667, 32635.14033333, 33966.468     , 35297.79566667,\n",
              "        36629.12333333, 37960.451     , 39291.77866667, 40623.10633333,\n",
              "        41954.434     , 43285.76166667, 44617.08933333, 45948.417     ,\n",
              "        47279.74466667, 48611.07233333, 49942.4       ]),\n",
              " <BarContainer object of 30 artists>)"
            ]
          },
          "metadata": {},
          "execution_count": 96
        },
        {
          "output_type": "display_data",
          "data": {
            "text/plain": [
              "<Figure size 640x480 with 1 Axes>"
            ],
            "image/png": "[encoded data removed]"
          },
          "metadata": {}
        }
      ]
    },
    {
      "cell_type": "code",
      "source": [
        "plt.hist(data.loc[(data['service_amount_net'] > 50000) & (data['service_amount_net'] < 100000), 'service_amount_net'], bins=30)"
      ],
      "metadata": {
        "colab": {
          "base_uri": "https://localhost:8080/",
          "height": 638
        },
        "id": "M0oJ_LPjIiHV",
        "outputId": "16fc8be0-39fc-476e-c712-4f8a74f8b3fc"
      },
      "execution_count": null,
      "outputs": [
        {
          "output_type": "execute_result",
          "data": {
            "text/plain": [
              "(array([211., 126.,  26.,  91.,  56.,  59.,  63.,  41.,  65.,  75.,  53.,\n",
              "         41.,  64.,  42.,  56.,  61.,  29.,  52.,  57.,  50.,  36.,  28.,\n",
              "         44.,  19.,  34.,  17.,  19.,  32.,  28.,  27.]),\n",
              " array([50007.2       , 51668.18666667, 53329.17333333, 54990.16      ,\n",
              "        56651.14666667, 58312.13333333, 59973.12      , 61634.10666667,\n",
              "        63295.09333333, 64956.08      , 66617.06666667, 68278.05333333,\n",
              "        69939.04      , 71600.02666667, 73261.01333333, 74922.        ,\n",
              "        76582.98666667, 78243.97333333, 79904.96      , 81565.94666667,\n",
              "        83226.93333333, 84887.92      , 86548.90666667, 88209.89333333,\n",
              "        89870.88      , 91531.86666667, 93192.85333333, 94853.84      ,\n",
              "        96514.82666667, 98175.81333333, 99836.8       ]),\n",
              " <BarContainer object of 30 artists>)"
            ]
          },
          "metadata": {},
          "execution_count": 97
        },
        {
          "output_type": "display_data",
          "data": {
            "text/plain": [
              "<Figure size 640x480 with 1 Axes>"
            ],
            "image/png": "[encoded data removed]"
          },
          "metadata": {}
        }
      ]
    },
    {
      "cell_type": "code",
      "source": [
        "plt.hist(data.loc[(data['service_amount_net'] > 100000) & (data['service_amount_net'] < 300000), 'service_amount_net'], bins=30)"
      ],
      "metadata": {
        "colab": {
          "base_uri": "https://localhost:8080/",
          "height": 638
        },
        "id": "vSWC2HyeImuH",
        "outputId": "d2a6e377-74aa-4845-9c8b-68e227a23066"
      },
      "execution_count": null,
      "outputs": [
        {
          "output_type": "execute_result",
          "data": {
            "text/plain": [
              "(array([75., 64., 71., 52., 36., 39., 67., 30., 42., 33., 32., 25., 12.,\n",
              "        23., 19., 12., 11.,  9.,  7.,  4.,  9., 12.,  2.,  6.,  2.,  1.,\n",
              "         3.,  5.,  2.,  2.]),\n",
              " array([100190.        , 106800.33866667, 113410.67733333, 120021.016     ,\n",
              "        126631.35466667, 133241.69333333, 139852.032     , 146462.37066667,\n",
              "        153072.70933333, 159683.048     , 166293.38666667, 172903.72533333,\n",
              "        179514.064     , 186124.40266667, 192734.74133333, 199345.08      ,\n",
              "        205955.41866667, 212565.75733333, 219176.096     , 225786.43466667,\n",
              "        232396.77333333, 239007.112     , 245617.45066667, 252227.78933333,\n",
              "        258838.128     , 265448.46666667, 272058.80533333, 278669.144     ,\n",
              "        285279.48266667, 291889.82133333, 298500.16      ]),\n",
              " <BarContainer object of 30 artists>)"
            ]
          },
          "metadata": {},
          "execution_count": 104
        },
        {
          "output_type": "display_data",
          "data": {
            "text/plain": [
              "<Figure size 640x480 with 1 Axes>"
            ],
            "image/png": "[encoded data removed]"
          },
          "metadata": {}
        }
      ]
    },
    {
      "cell_type": "code",
      "source": [
        "plt.hist(data.loc[(data['service_amount_net'] > 300000), 'service_amount_net'], bins=30)"
      ],
      "metadata": {
        "colab": {
          "base_uri": "https://localhost:8080/",
          "height": 622
        },
        "id": "T06inzV_Iw6T",
        "outputId": "d42ff258-636b-40b5-fbcf-4c81c22f7709"
      },
      "execution_count": null,
      "outputs": [
        {
          "output_type": "execute_result",
          "data": {
            "text/plain": [
              "(array([6., 7., 2., 3., 1., 0., 2., 1., 0., 0., 1., 1., 0., 0., 0., 0., 0.,\n",
              "        0., 0., 0., 0., 0., 1., 0., 0., 0., 0., 0., 0., 3.]),\n",
              " array([ 302419.47 ,  336625.021,  370830.572,  405036.123,  439241.674,\n",
              "         473447.225,  507652.776,  541858.327,  576063.878,  610269.429,\n",
              "         644474.98 ,  678680.531,  712886.082,  747091.633,  781297.184,\n",
              "         815502.735,  849708.286,  883913.837,  918119.388,  952324.939,\n",
              "         986530.49 , 1020736.041, 1054941.592, 1089147.143, 1123352.694,\n",
              "        1157558.245, 1191763.796, 1225969.347, 1260174.898, 1294380.449,\n",
              "        1328586.   ]),\n",
              " <BarContainer object of 30 artists>)"
            ]
          },
          "metadata": {},
          "execution_count": 105
        },
        {
          "output_type": "display_data",
          "data": {
            "text/plain": [
              "<Figure size 640x480 with 1 Axes>"
            ],
            "image/png": "[encoded data removed]"
          },
          "metadata": {}
        }
      ]
    },
    {
      "cell_type": "markdown",
      "source": [
        "###Исследование целевой переменной на зимних данных"
      ],
      "metadata": {
        "id": "85B06JdlJ-4v"
      }
    },
    {
      "cell_type": "code",
      "source": [
        "data_winter = data.loc[(data['month'] == 1) | (data['month'] == 2) | (data['month'] == 12)]\n",
        "data_winter['service_amount_net'].describe()"
      ],
      "metadata": {
        "colab": {
          "base_uri": "https://localhost:8080/",
          "height": 335
        },
        "id": "m5xHdptfKGMK",
        "outputId": "a8847a98-8109-4239-a7ea-4a44809ea650"
      },
      "execution_count": null,
      "outputs": [
        {
          "output_type": "execute_result",
          "data": {
            "text/plain": [
              "count    2.497960e+05\n",
              "mean     2.373283e+03\n",
              "std      6.880848e+03\n",
              "min     -8.156800e+04\n",
              "25%      4.250000e+02\n",
              "50%      1.325600e+03\n",
              "75%      2.500700e+03\n",
              "max      1.328586e+06\n",
              "Name: service_amount_net, dtype: float64"
            ],
            "text/html": [
              "<div>\n",
              "<style scoped>\n",
              "    .dataframe tbody tr th:only-of-type {\n",
              "        vertical-align: middle;\n",
              "    }\n",
              "\n",
              "    .dataframe tbody tr th {\n",
              "        vertical-align: top;\n",
              "    }\n",
              "\n",
              "    .dataframe thead th {\n",
              "        text-align: right;\n",
              "    }\n",
              "</style>\n",
              "<table border=\"1\" class=\"dataframe\">\n",
              "  <thead>\n",
              "    <tr style=\"text-align: right;\">\n",
              "      <th></th>\n",
              "      <th>service_amount_net</th>\n",
              "    </tr>\n",
              "  </thead>\n",
              "  <tbody>\n",
              "    <tr>\n",
              "      <th>count</th>\n",
              "      <td>2.497960e+05</td>\n",
              "    </tr>\n",
              "    <tr>\n",
              "      <th>mean</th>\n",
              "      <td>2.373283e+03</td>\n",
              "    </tr>\n",
              "    <tr>\n",
              "      <th>std</th>\n",
              "      <td>6.880848e+03</td>\n",
              "    </tr>\n",
              "    <tr>\n",
              "      <th>min</th>\n",
              "      <td>-8.156800e+04</td>\n",
              "    </tr>\n",
              "    <tr>\n",
              "      <th>25%</th>\n",
              "      <td>4.250000e+02</td>\n",
              "    </tr>\n",
              "    <tr>\n",
              "      <th>50%</th>\n",
              "      <td>1.325600e+03</td>\n",
              "    </tr>\n",
              "    <tr>\n",
              "      <th>75%</th>\n",
              "      <td>2.500700e+03</td>\n",
              "    </tr>\n",
              "    <tr>\n",
              "      <th>max</th>\n",
              "      <td>1.328586e+06</td>\n",
              "    </tr>\n",
              "  </tbody>\n",
              "</table>\n",
              "</div><br><label><b>dtype:</b> float64</label>"
            ]
          },
          "metadata": {},
          "execution_count": 107
        }
      ]
    },
    {
      "cell_type": "code",
      "source": [
        "axes, fig = plt.subplots(7, 1, figsize=(10, 30))\n",
        "for i in range(7):\n",
        "    data_season = data.loc[data['']]"
      ],
      "metadata": {
        "id": "Xt380AodPdIp"
      },
      "execution_count": null,
      "outputs": []
    },
    {
      "cell_type": "code",
      "source": [
        "plt.hist(data_winter.loc[(data_winter['service_amount_net'] > 0) & (data_winter['service_amount_net'] < 10000), 'service_amount_net'], bins=30)"
      ],
      "metadata": {
        "colab": {
          "base_uri": "https://localhost:8080/",
          "height": 656
        },
        "id": "8YySicfe-EB2",
        "outputId": "24036500-2fe4-4cb9-863a-76c63663df7b"
      },
      "execution_count": null,
      "outputs": [
        {
          "output_type": "execute_result",
          "data": {
            "text/plain": [
              "(array([41282., 56038., 14425., 11968., 17388., 17408., 20606., 11395.,\n",
              "         8573.,  5804.,  5649.,  3585.,  3344.,  2811.,  2290.,  1867.,\n",
              "         1968.,  1793.,  2576.,  1649.,  1591.,  1433.,  1295.,   908.,\n",
              "         1487.,   976.,   756.,   455.,   612.,   552.]),\n",
              " array([1.00000000e-02, 3.33054667e+02, 6.66099333e+02, 9.99144000e+02,\n",
              "        1.33218867e+03, 1.66523333e+03, 1.99827800e+03, 2.33132267e+03,\n",
              "        2.66436733e+03, 2.99741200e+03, 3.33045667e+03, 3.66350133e+03,\n",
              "        3.99654600e+03, 4.32959067e+03, 4.66263533e+03, 4.99568000e+03,\n",
              "        5.32872467e+03, 5.66176933e+03, 5.99481400e+03, 6.32785867e+03,\n",
              "        6.66090333e+03, 6.99394800e+03, 7.32699267e+03, 7.66003733e+03,\n",
              "        7.99308200e+03, 8.32612667e+03, 8.65917133e+03, 8.99221600e+03,\n",
              "        9.32526067e+03, 9.65830533e+03, 9.99135000e+03]),\n",
              " <BarContainer object of 30 artists>)"
            ]
          },
          "metadata": {},
          "execution_count": 79
        },
        {
          "output_type": "display_data",
          "data": {
            "text/plain": [
              "<Figure size 640x480 with 1 Axes>"
            ],
            "image/png": "[encoded data removed]"
          },
          "metadata": {}
        }
      ]
    },
    {
      "cell_type": "code",
      "source": [
        "plt.hist(data_winter.loc[(data_winter['service_amount_net'] < 0) & (data_winter['service_amount_net'] > -15000), 'service_amount_net'], bins=30)"
      ],
      "metadata": {
        "colab": {
          "base_uri": "https://localhost:8080/",
          "height": 638
        },
        "id": "BnZVvenQLxDk",
        "outputId": "6bd89848-32e0-4572-96ce-577a0a0c6b02"
      },
      "execution_count": null,
      "outputs": [
        {
          "output_type": "execute_result",
          "data": {
            "text/plain": [
              "(array([  2.,   0.,   0.,   0.,   0.,   0.,   0.,   0.,   1.,   2.,   0.,\n",
              "          1.,   2.,   5.,   8.,   0.,  11.,   7.,   6.,   7.,   5.,  11.,\n",
              "         19.,  21.,  33.,   2.,   9.,   5.,  67., 129.]),\n",
              " array([-1.3200000e+04, -1.2760135e+04, -1.2320270e+04, -1.1880405e+04,\n",
              "        -1.1440540e+04, -1.1000675e+04, -1.0560810e+04, -1.0120945e+04,\n",
              "        -9.6810800e+03, -9.2412150e+03, -8.8013500e+03, -8.3614850e+03,\n",
              "        -7.9216200e+03, -7.4817550e+03, -7.0418900e+03, -6.6020250e+03,\n",
              "        -6.1621600e+03, -5.7222950e+03, -5.2824300e+03, -4.8425650e+03,\n",
              "        -4.4027000e+03, -3.9628350e+03, -3.5229700e+03, -3.0831050e+03,\n",
              "        -2.6432400e+03, -2.2033750e+03, -1.7635100e+03, -1.3236450e+03,\n",
              "        -8.8378000e+02, -4.4391500e+02, -4.0500000e+00]),\n",
              " <BarContainer object of 30 artists>)"
            ]
          },
          "metadata": {},
          "execution_count": 108
        },
        {
          "output_type": "display_data",
          "data": {
            "text/plain": [
              "<Figure size 640x480 with 1 Axes>"
            ],
            "image/png": "[encoded data removed]"
          },
          "metadata": {}
        }
      ]
    },
    {
      "cell_type": "code",
      "source": [
        "plt.hist(data_winter.loc[(data_winter['service_amount_net'] < -15000), 'service_amount_net'], bins=30)"
      ],
      "metadata": {
        "colab": {
          "base_uri": "https://localhost:8080/",
          "height": 621
        },
        "id": "T6x4rWKJMIjt",
        "outputId": "6cb387f3-4a7d-43ea-8a58-a3bfdac909ce"
      },
      "execution_count": null,
      "outputs": [
        {
          "output_type": "execute_result",
          "data": {
            "text/plain": [
              "(array([1., 0., 0., 0., 0., 0., 0., 0., 0., 0., 0., 0., 0., 0., 0., 0., 0.,\n",
              "        0., 0., 0., 0., 0., 0., 0., 0., 0., 1., 0., 1., 4.]),\n",
              " array([-81568.        , -79365.73333333, -77163.46666667, -74961.2       ,\n",
              "        -72758.93333333, -70556.66666667, -68354.4       , -66152.13333333,\n",
              "        -63949.86666667, -61747.6       , -59545.33333333, -57343.06666667,\n",
              "        -55140.8       , -52938.53333333, -50736.26666667, -48534.        ,\n",
              "        -46331.73333333, -44129.46666667, -41927.2       , -39724.93333333,\n",
              "        -37522.66666667, -35320.4       , -33118.13333333, -30915.86666667,\n",
              "        -28713.6       , -26511.33333333, -24309.06666667, -22106.8       ,\n",
              "        -19904.53333333, -17702.26666667, -15500.        ]),\n",
              " <BarContainer object of 30 artists>)"
            ]
          },
          "metadata": {},
          "execution_count": 109
        },
        {
          "output_type": "display_data",
          "data": {
            "text/plain": [
              "<Figure size 640x480 with 1 Axes>"
            ],
            "image/png": "[encoded data removed]"
          },
          "metadata": {}
        }
      ]
    },
    {
      "cell_type": "code",
      "source": [
        "plt.hist(data_winter.loc[(data_winter['service_amount_net'] > 10000) & (data_winter['service_amount_net'] < 50000), 'service_amount_net'], bins=30)"
      ],
      "metadata": {
        "colab": {
          "base_uri": "https://localhost:8080/",
          "height": 658
        },
        "id": "cY2foYH1Mf0b",
        "outputId": "9fe8711d-aaae-40cf-c7e9-7df0df61d903"
      },
      "execution_count": null,
      "outputs": [
        {
          "output_type": "execute_result",
          "data": {
            "text/plain": [
              "(array([1345.,  805.,  634.,  425.,  293.,  339.,  230.,  139.,  125.,\n",
              "         114.,  154.,  131.,  109.,   55.,   44.,   43.,   47.,   49.,\n",
              "          65.,   11.,   63.,   11.,   26.,   14.,   52.,   25.,   16.,\n",
              "          21.,   23.,   12.]),\n",
              " array([10004.        , 11333.73333333, 12663.46666667, 13993.2       ,\n",
              "        15322.93333333, 16652.66666667, 17982.4       , 19312.13333333,\n",
              "        20641.86666667, 21971.6       , 23301.33333333, 24631.06666667,\n",
              "        25960.8       , 27290.53333333, 28620.26666667, 29950.        ,\n",
              "        31279.73333333, 32609.46666667, 33939.2       , 35268.93333333,\n",
              "        36598.66666667, 37928.4       , 39258.13333333, 40587.86666667,\n",
              "        41917.6       , 43247.33333333, 44577.06666667, 45906.8       ,\n",
              "        47236.53333333, 48566.26666667, 49896.        ]),\n",
              " <BarContainer object of 30 artists>)"
            ]
          },
          "metadata": {},
          "execution_count": 110
        },
        {
          "output_type": "display_data",
          "data": {
            "text/plain": [
              "<Figure size 640x480 with 1 Axes>"
            ],
            "image/png": "[encoded data removed]"
          },
          "metadata": {}
        }
      ]
    },
    {
      "cell_type": "code",
      "source": [
        "plt.hist(data_winter.loc[(data_winter['service_amount_net'] > 50000) & (data_winter['service_amount_net'] < 100000), 'service_amount_net'], bins=30)"
      ],
      "metadata": {
        "colab": {
          "base_uri": "https://localhost:8080/",
          "height": 638
        },
        "id": "A1GXaKraN3fW",
        "outputId": "fe29b3d8-ac9c-450d-fa36-c4dfc535f946"
      },
      "execution_count": null,
      "outputs": [
        {
          "output_type": "execute_result",
          "data": {
            "text/plain": [
              "(array([54., 20.,  5., 22., 15., 13., 13.,  5., 17., 17.,  9.,  9., 15.,\n",
              "        12., 16., 16.,  2., 15., 10., 11.,  6.,  7., 12.,  2.,  8.,  7.,\n",
              "         2.,  4.,  6.,  5.]),\n",
              " array([50007.2       , 51668.18666667, 53329.17333333, 54990.16      ,\n",
              "        56651.14666667, 58312.13333333, 59973.12      , 61634.10666667,\n",
              "        63295.09333333, 64956.08      , 66617.06666667, 68278.05333333,\n",
              "        69939.04      , 71600.02666667, 73261.01333333, 74922.        ,\n",
              "        76582.98666667, 78243.97333333, 79904.96      , 81565.94666667,\n",
              "        83226.93333333, 84887.92      , 86548.90666667, 88209.89333333,\n",
              "        89870.88      , 91531.86666667, 93192.85333333, 94853.84      ,\n",
              "        96514.82666667, 98175.81333333, 99836.8       ]),\n",
              " <BarContainer object of 30 artists>)"
            ]
          },
          "metadata": {},
          "execution_count": 111
        },
        {
          "output_type": "display_data",
          "data": {
            "text/plain": [
              "<Figure size 640x480 with 1 Axes>"
            ],
            "image/png": "[encoded data removed]"
          },
          "metadata": {}
        }
      ]
    },
    {
      "cell_type": "code",
      "source": [
        "plt.hist(data_winter.loc[(data_winter['service_amount_net'] > 100000) & (data_winter['service_amount_net'] < 300000), 'service_amount_net'], bins=30)"
      ],
      "metadata": {
        "colab": {
          "base_uri": "https://localhost:8080/",
          "height": 638
        },
        "id": "zUtRnpu-N6CF",
        "outputId": "22502e16-910d-46f6-bfe3-951893925133"
      },
      "execution_count": null,
      "outputs": [
        {
          "output_type": "execute_result",
          "data": {
            "text/plain": [
              "(array([14., 11.,  6., 17.,  7.,  8., 12.,  9., 17.,  5., 14., 12.,  6.,\n",
              "         8.,  2.,  3.,  4.,  7.,  4.,  0.,  0.,  4.,  1.,  3.,  3.,  3.,\n",
              "         1.,  3.,  1.,  2.]),\n",
              " array([100260.        , 105415.93333333, 110571.86666667, 115727.8       ,\n",
              "        120883.73333333, 126039.66666667, 131195.6       , 136351.53333333,\n",
              "        141507.46666667, 146663.4       , 151819.33333333, 156975.26666667,\n",
              "        162131.2       , 167287.13333333, 172443.06666667, 177599.        ,\n",
              "        182754.93333333, 187910.86666667, 193066.8       , 198222.73333333,\n",
              "        203378.66666667, 208534.6       , 213690.53333333, 218846.46666667,\n",
              "        224002.4       , 229158.33333333, 234314.26666667, 239470.2       ,\n",
              "        244626.13333333, 249782.06666667, 254938.        ]),\n",
              " <BarContainer object of 30 artists>)"
            ]
          },
          "metadata": {},
          "execution_count": 112
        },
        {
          "output_type": "display_data",
          "data": {
            "text/plain": [
              "<Figure size 640x480 with 1 Axes>"
            ],
            "image/png": "[encoded data removed]"
          },
          "metadata": {}
        }
      ]
    },
    {
      "cell_type": "code",
      "source": [
        "plt.hist(data_winter.loc[(data_winter['service_amount_net'] > 300000), 'service_amount_net'], bins=30)"
      ],
      "metadata": {
        "colab": {
          "base_uri": "https://localhost:8080/",
          "height": 604
        },
        "id": "MKXCfNGPN8UI",
        "outputId": "a32f3324-eccf-430d-ee3c-64a8ed0005d7"
      },
      "execution_count": null,
      "outputs": [
        {
          "output_type": "execute_result",
          "data": {
            "text/plain": [
              "(array([1., 1., 0., 2., 1., 0., 0., 1., 0., 0., 1., 0., 0., 0., 0., 0., 0.,\n",
              "        0., 0., 0., 0., 0., 0., 0., 0., 0., 0., 0., 0., 1.]),\n",
              " array([ 306900. ,  340956.2,  375012.4,  409068.6,  443124.8,  477181. ,\n",
              "         511237.2,  545293.4,  579349.6,  613405.8,  647462. ,  681518.2,\n",
              "         715574.4,  749630.6,  783686.8,  817743. ,  851799.2,  885855.4,\n",
              "         919911.6,  953967.8,  988024. , 1022080.2, 1056136.4, 1090192.6,\n",
              "        1124248.8, 1158305. , 1192361.2, 1226417.4, 1260473.6, 1294529.8,\n",
              "        1328586. ]),\n",
              " <BarContainer object of 30 artists>)"
            ]
          },
          "metadata": {},
          "execution_count": 113
        },
        {
          "output_type": "display_data",
          "data": {
            "text/plain": [
              "<Figure size 640x480 with 1 Axes>"
            ],
            "image/png": "[encoded data removed]"
          },
          "metadata": {}
        }
      ]
    },
    {
      "cell_type": "markdown",
      "source": [
        "###Исследование целевой переменной на весенних данных"
      ],
      "metadata": {
        "id": "4d2kkT2pOGhX"
      }
    },
    {
      "cell_type": "code",
      "source": [
        "data_spring = data.loc[(data['month'] == 3) | (data['month'] == 4) | (data['month'] == 5)]\n",
        "data_spring['service_amount_net'].describe()"
      ],
      "metadata": {
        "colab": {
          "base_uri": "https://localhost:8080/",
          "height": 335
        },
        "id": "gY7YSlWOOZ6-",
        "outputId": "b5ecd422-2b7f-472b-82a1-6bb9f978c443"
      },
      "execution_count": null,
      "outputs": [
        {
          "output_type": "execute_result",
          "data": {
            "text/plain": [
              "count    2.842950e+05\n",
              "mean     2.321849e+03\n",
              "std      6.363799e+03\n",
              "min     -2.525600e+05\n",
              "25%      4.170000e+02\n",
              "50%      1.275200e+03\n",
              "75%      2.500700e+03\n",
              "max      1.328586e+06\n",
              "Name: service_amount_net, dtype: float64"
            ],
            "text/html": [
              "<div>\n",
              "<style scoped>\n",
              "    .dataframe tbody tr th:only-of-type {\n",
              "        vertical-align: middle;\n",
              "    }\n",
              "\n",
              "    .dataframe tbody tr th {\n",
              "        vertical-align: top;\n",
              "    }\n",
              "\n",
              "    .dataframe thead th {\n",
              "        text-align: right;\n",
              "    }\n",
              "</style>\n",
              "<table border=\"1\" class=\"dataframe\">\n",
              "  <thead>\n",
              "    <tr style=\"text-align: right;\">\n",
              "      <th></th>\n",
              "      <th>service_amount_net</th>\n",
              "    </tr>\n",
              "  </thead>\n",
              "  <tbody>\n",
              "    <tr>\n",
              "      <th>count</th>\n",
              "      <td>2.842950e+05</td>\n",
              "    </tr>\n",
              "    <tr>\n",
              "      <th>mean</th>\n",
              "      <td>2.321849e+03</td>\n",
              "    </tr>\n",
              "    <tr>\n",
              "      <th>std</th>\n",
              "      <td>6.363799e+03</td>\n",
              "    </tr>\n",
              "    <tr>\n",
              "      <th>min</th>\n",
              "      <td>-2.525600e+05</td>\n",
              "    </tr>\n",
              "    <tr>\n",
              "      <th>25%</th>\n",
              "      <td>4.170000e+02</td>\n",
              "    </tr>\n",
              "    <tr>\n",
              "      <th>50%</th>\n",
              "      <td>1.275200e+03</td>\n",
              "    </tr>\n",
              "    <tr>\n",
              "      <th>75%</th>\n",
              "      <td>2.500700e+03</td>\n",
              "    </tr>\n",
              "    <tr>\n",
              "      <th>max</th>\n",
              "      <td>1.328586e+06</td>\n",
              "    </tr>\n",
              "  </tbody>\n",
              "</table>\n",
              "</div><br><label><b>dtype:</b> float64</label>"
            ]
          },
          "metadata": {},
          "execution_count": 114
        }
      ]
    },
    {
      "cell_type": "code",
      "source": [
        "plt.hist(data_spring.loc[(data_spring['service_amount_net'] > 0) & (data_spring['service_amount_net'] < 10000), 'service_amount_net'], bins=30)"
      ],
      "metadata": {
        "colab": {
          "base_uri": "https://localhost:8080/",
          "height": 656
        },
        "id": "2hxSBxJlDfWo",
        "outputId": "7c88c1ab-359e-4d02-d8de-7701fe13c9a4"
      },
      "execution_count": null,
      "outputs": [
        {
          "output_type": "execute_result",
          "data": {
            "text/plain": [
              "(array([48681., 62850., 15938., 13402., 19864., 18816., 22732., 13390.,\n",
              "         9843.,  6825.,  6667.,  4149.,  4099.,  3104.,  2492.,  2067.,\n",
              "         2148.,  1892.,  2656.,  1686.,  1762.,  1597.,  1310.,   918.,\n",
              "         1442.,  1050.,   891.,   480.,   680.,   585.]),\n",
              " array([3.50000000e-01, 3.33618333e+02, 6.66886667e+02, 1.00015500e+03,\n",
              "        1.33342333e+03, 1.66669167e+03, 1.99996000e+03, 2.33322833e+03,\n",
              "        2.66649667e+03, 2.99976500e+03, 3.33303333e+03, 3.66630167e+03,\n",
              "        3.99957000e+03, 4.33283833e+03, 4.66610667e+03, 4.99937500e+03,\n",
              "        5.33264333e+03, 5.66591167e+03, 5.99918000e+03, 6.33244833e+03,\n",
              "        6.66571667e+03, 6.99898500e+03, 7.33225333e+03, 7.66552167e+03,\n",
              "        7.99879000e+03, 8.33205833e+03, 8.66532667e+03, 8.99859500e+03,\n",
              "        9.33186333e+03, 9.66513167e+03, 9.99840000e+03]),\n",
              " <BarContainer object of 30 artists>)"
            ]
          },
          "metadata": {},
          "execution_count": 115
        },
        {
          "output_type": "display_data",
          "data": {
            "text/plain": [
              "<Figure size 640x480 with 1 Axes>"
            ],
            "image/png": "[encoded data removed]"
          },
          "metadata": {}
        }
      ]
    },
    {
      "cell_type": "code",
      "source": [
        "plt.hist(data_spring.loc[(data_spring['service_amount_net'] < 0) & (data_spring['service_amount_net'] > -15000), 'service_amount_net'], bins=30)"
      ],
      "metadata": {
        "colab": {
          "base_uri": "https://localhost:8080/",
          "height": 673
        },
        "id": "X40OJtX4OkT3",
        "outputId": "c62d3fc1-b048-4d47-9ef8-4d6f21612e86"
      },
      "execution_count": null,
      "outputs": [
        {
          "output_type": "execute_result",
          "data": {
            "text/plain": [
              "(array([1.000e+00, 1.000e+00, 1.000e+00, 3.000e+00, 2.000e+00, 2.000e+00,\n",
              "        4.000e+00, 6.000e+00, 1.000e+00, 1.000e+01, 2.900e+01, 1.000e+00,\n",
              "        9.000e+00, 1.100e+01, 2.200e+01, 1.300e+01, 1.000e+01, 1.600e+01,\n",
              "        1.700e+01, 1.400e+01, 8.000e+00, 1.300e+01, 2.800e+01, 5.400e+01,\n",
              "        3.900e+01, 4.600e+01, 3.100e+01, 4.900e+01, 1.440e+02, 1.073e+03]),\n",
              " array([-1.26670800e+04, -1.22449413e+04, -1.18228027e+04, -1.14006640e+04,\n",
              "        -1.09785253e+04, -1.05563867e+04, -1.01342480e+04, -9.71210933e+03,\n",
              "        -9.28997067e+03, -8.86783200e+03, -8.44569333e+03, -8.02355467e+03,\n",
              "        -7.60141600e+03, -7.17927733e+03, -6.75713867e+03, -6.33500000e+03,\n",
              "        -5.91286133e+03, -5.49072267e+03, -5.06858400e+03, -4.64644533e+03,\n",
              "        -4.22430667e+03, -3.80216800e+03, -3.38002933e+03, -2.95789067e+03,\n",
              "        -2.53575200e+03, -2.11361333e+03, -1.69147467e+03, -1.26933600e+03,\n",
              "        -8.47197333e+02, -4.25058667e+02, -2.92000000e+00]),\n",
              " <BarContainer object of 30 artists>)"
            ]
          },
          "metadata": {},
          "execution_count": 116
        },
        {
          "output_type": "display_data",
          "data": {
            "text/plain": [
              "<Figure size 640x480 with 1 Axes>"
            ],
            "image/png": "[encoded data removed]"
          },
          "metadata": {}
        }
      ]
    },
    {
      "cell_type": "code",
      "source": [
        "plt.hist(data_spring.loc[(data_spring['service_amount_net'] < -15000), 'service_amount_net'], bins=30)"
      ],
      "metadata": {
        "colab": {
          "base_uri": "https://localhost:8080/",
          "height": 604
        },
        "id": "CGp6GO-XOpxL",
        "outputId": "73e86436-526e-4905-84c9-cdfca69a4eaf"
      },
      "execution_count": null,
      "outputs": [
        {
          "output_type": "execute_result",
          "data": {
            "text/plain": [
              "(array([ 1.,  0.,  0.,  0.,  0.,  0.,  0.,  0.,  0.,  0.,  0.,  0.,  0.,\n",
              "         0.,  0.,  0.,  0.,  0.,  0.,  0.,  1.,  0.,  0.,  0.,  0.,  2.,\n",
              "         1.,  1.,  3., 11.]),\n",
              " array([-252560., -244675., -236790., -228905., -221020., -213135.,\n",
              "        -205250., -197365., -189480., -181595., -173710., -165825.,\n",
              "        -157940., -150055., -142170., -134285., -126400., -118515.,\n",
              "        -110630., -102745.,  -94860.,  -86975.,  -79090.,  -71205.,\n",
              "         -63320.,  -55435.,  -47550.,  -39665.,  -31780.,  -23895.,\n",
              "         -16010.]),\n",
              " <BarContainer object of 30 artists>)"
            ]
          },
          "metadata": {},
          "execution_count": 117
        },
        {
          "output_type": "display_data",
          "data": {
            "text/plain": [
              "<Figure size 640x480 with 1 Axes>"
            ],
            "image/png": "[encoded data removed]"
          },
          "metadata": {}
        }
      ]
    },
    {
      "cell_type": "code",
      "source": [
        "plt.hist(data_spring.loc[(data_spring['service_amount_net'] > 10000) & (data_spring['service_amount_net'] < 50000), 'service_amount_net'], bins=30)"
      ],
      "metadata": {
        "colab": {
          "base_uri": "https://localhost:8080/",
          "height": 656
        },
        "id": "Nl-aGMQoOubx",
        "outputId": "4fcaacfc-4c72-402a-dc51-e6a171bb774a"
      },
      "execution_count": null,
      "outputs": [
        {
          "output_type": "execute_result",
          "data": {
            "text/plain": [
              "(array([1557.,  953.,  759.,  518.,  417.,  447.,  375.,  206.,  185.,\n",
              "         131.,  149.,  149.,  115.,   66.,   66.,   44.,   50.,   53.,\n",
              "          55.,   35.,   54.,   24.,   23.,   17.,   15.,   61.,   22.,\n",
              "          26.,   13.,   14.]),\n",
              " array([10004.        , 11321.73333333, 12639.46666667, 13957.2       ,\n",
              "        15274.93333333, 16592.66666667, 17910.4       , 19228.13333333,\n",
              "        20545.86666667, 21863.6       , 23181.33333333, 24499.06666667,\n",
              "        25816.8       , 27134.53333333, 28452.26666667, 29770.        ,\n",
              "        31087.73333333, 32405.46666667, 33723.2       , 35040.93333333,\n",
              "        36358.66666667, 37676.4       , 38994.13333333, 40311.86666667,\n",
              "        41629.6       , 42947.33333333, 44265.06666667, 45582.8       ,\n",
              "        46900.53333333, 48218.26666667, 49536.        ]),\n",
              " <BarContainer object of 30 artists>)"
            ]
          },
          "metadata": {},
          "execution_count": 118
        },
        {
          "output_type": "display_data",
          "data": {
            "text/plain": [
              "<Figure size 640x480 with 1 Axes>"
            ],
            "image/png": "[encoded data removed]"
          },
          "metadata": {}
        }
      ]
    },
    {
      "cell_type": "code",
      "source": [
        "plt.hist(data_spring.loc[(data_spring['service_amount_net'] > 50000) & (data_spring['service_amount_net'] < 100000), 'service_amount_net'], bins=30)"
      ],
      "metadata": {
        "colab": {
          "base_uri": "https://localhost:8080/",
          "height": 604
        },
        "id": "-3ZXIVlgO1Sl",
        "outputId": "63f07317-5f56-4a8c-a77a-3f4fcae75e91"
      },
      "execution_count": null,
      "outputs": [
        {
          "output_type": "execute_result",
          "data": {
            "text/plain": [
              "(array([55., 30., 10., 26., 19., 13., 16., 11., 18., 14., 21., 11.,  8.,\n",
              "        10., 10., 19., 11., 17., 11., 21., 13.,  5., 16.,  3.,  9.,  3.,\n",
              "         7.,  9.,  6., 12.]),\n",
              " array([50007.2 , 51667.58, 53327.96, 54988.34, 56648.72, 58309.1 ,\n",
              "        59969.48, 61629.86, 63290.24, 64950.62, 66611.  , 68271.38,\n",
              "        69931.76, 71592.14, 73252.52, 74912.9 , 76573.28, 78233.66,\n",
              "        79894.04, 81554.42, 83214.8 , 84875.18, 86535.56, 88195.94,\n",
              "        89856.32, 91516.7 , 93177.08, 94837.46, 96497.84, 98158.22,\n",
              "        99818.6 ]),\n",
              " <BarContainer object of 30 artists>)"
            ]
          },
          "metadata": {},
          "execution_count": 119
        },
        {
          "output_type": "display_data",
          "data": {
            "text/plain": [
              "<Figure size 640x480 with 1 Axes>"
            ],
            "image/png": "[encoded data removed]"
          },
          "metadata": {}
        }
      ]
    },
    {
      "cell_type": "code",
      "source": [
        "plt.hist(data_spring.loc[(data_spring['service_amount_net'] > 100000) & (data_spring['service_amount_net'] < 300000), 'service_amount_net'], bins=30)"
      ],
      "metadata": {
        "colab": {
          "base_uri": "https://localhost:8080/",
          "height": 621
        },
        "id": "YHVbErKsO6z6",
        "outputId": "65d15c18-ec84-46bc-c3db-a401914cc6c7"
      },
      "execution_count": null,
      "outputs": [
        {
          "output_type": "execute_result",
          "data": {
            "text/plain": [
              "(array([19., 17.,  5., 14., 10.,  4., 10.,  9., 11.,  4.,  4.,  7.,  2.,\n",
              "         5.,  5.,  3.,  4.,  1.,  1.,  4.,  0.,  2.,  2.,  2.,  0.,  0.,\n",
              "         2.,  0.,  0.,  1.]),\n",
              " array([101836.   , 108391.472, 114946.944, 121502.416, 128057.888,\n",
              "        134613.36 , 141168.832, 147724.304, 154279.776, 160835.248,\n",
              "        167390.72 , 173946.192, 180501.664, 187057.136, 193612.608,\n",
              "        200168.08 , 206723.552, 213279.024, 219834.496, 226389.968,\n",
              "        232945.44 , 239500.912, 246056.384, 252611.856, 259167.328,\n",
              "        265722.8  , 272278.272, 278833.744, 285389.216, 291944.688,\n",
              "        298500.16 ]),\n",
              " <BarContainer object of 30 artists>)"
            ]
          },
          "metadata": {},
          "execution_count": 120
        },
        {
          "output_type": "display_data",
          "data": {
            "text/plain": [
              "<Figure size 640x480 with 1 Axes>"
            ],
            "image/png": "[encoded data removed]"
          },
          "metadata": {}
        }
      ]
    },
    {
      "cell_type": "code",
      "source": [
        "plt.hist(data_spring.loc[(data_spring['service_amount_net'] > 300000), 'service_amount_net'], bins=30)"
      ],
      "metadata": {
        "colab": {
          "base_uri": "https://localhost:8080/",
          "height": 622
        },
        "id": "mxhRnix4PIlX",
        "outputId": "2a709e4c-aa8e-48f6-d871-116cd101deee"
      },
      "execution_count": null,
      "outputs": [
        {
          "output_type": "execute_result",
          "data": {
            "text/plain": [
              "(array([3., 4., 1., 1., 0., 0., 0., 0., 0., 0., 0., 0., 0., 0., 0., 0., 0.,\n",
              "        0., 0., 0., 0., 0., 0., 0., 0., 0., 0., 0., 0., 1.]),\n",
              " array([ 302419.47 ,  336625.021,  370830.572,  405036.123,  439241.674,\n",
              "         473447.225,  507652.776,  541858.327,  576063.878,  610269.429,\n",
              "         644474.98 ,  678680.531,  712886.082,  747091.633,  781297.184,\n",
              "         815502.735,  849708.286,  883913.837,  918119.388,  952324.939,\n",
              "         986530.49 , 1020736.041, 1054941.592, 1089147.143, 1123352.694,\n",
              "        1157558.245, 1191763.796, 1225969.347, 1260174.898, 1294380.449,\n",
              "        1328586.   ]),\n",
              " <BarContainer object of 30 artists>)"
            ]
          },
          "metadata": {},
          "execution_count": 121
        },
        {
          "output_type": "display_data",
          "data": {
            "text/plain": [
              "<Figure size 640x480 with 1 Axes>"
            ],
            "image/png": "[encoded data removed]"
          },
          "metadata": {}
        }
      ]
    },
    {
      "cell_type": "markdown",
      "source": [
        "###Исследование целевой переменной на летних данных"
      ],
      "metadata": {
        "id": "IWwyEk2TOJ4G"
      }
    },
    {
      "cell_type": "code",
      "source": [
        "data_summer = data.loc[(data['month'] == 6) | (data['month'] == 7) | (data['month'] == 8)]\n",
        "\n",
        "plt.hist(data_summer.loc[(data_summer['service_amount_net'] > 0) & (data_summer['service_amount_net'] < 10000), 'service_amount_net'], bins=30)"
      ],
      "metadata": {
        "colab": {
          "base_uri": "https://localhost:8080/",
          "height": 659
        },
        "id": "GSjsRQTkFQbE",
        "outputId": "036ef67f-1a07-468b-c629-96e008889750"
      },
      "execution_count": null,
      "outputs": [
        {
          "output_type": "execute_result",
          "data": {
            "text/plain": [
              "(array([44613., 57469., 15362., 13344., 19055., 17641., 21946., 12234.,\n",
              "         9076.,  5966.,  5531.,  3705.,  3442.,  3140.,  2312.,  1795.,\n",
              "         1918.,  1821.,  2352.,  1357.,  1792.,  1589.,  1239.,   862.,\n",
              "         1505.,   947.,   788.,   502.,   641.,   556.]),\n",
              " array([2.50000000e-01, 3.33041667e+02, 6.65833333e+02, 9.98625000e+02,\n",
              "        1.33141667e+03, 1.66420833e+03, 1.99700000e+03, 2.32979167e+03,\n",
              "        2.66258333e+03, 2.99537500e+03, 3.32816667e+03, 3.66095833e+03,\n",
              "        3.99375000e+03, 4.32654167e+03, 4.65933333e+03, 4.99212500e+03,\n",
              "        5.32491667e+03, 5.65770833e+03, 5.99050000e+03, 6.32329167e+03,\n",
              "        6.65608333e+03, 6.98887500e+03, 7.32166667e+03, 7.65445833e+03,\n",
              "        7.98725000e+03, 8.32004167e+03, 8.65283333e+03, 8.98562500e+03,\n",
              "        9.31841667e+03, 9.65120833e+03, 9.98400000e+03]),\n",
              " <BarContainer object of 30 artists>)"
            ]
          },
          "metadata": {},
          "execution_count": 81
        },
        {
          "output_type": "display_data",
          "data": {
            "text/plain": [
              "<Figure size 640x480 with 1 Axes>"
            ],
            "image/png": "[encoded data removed]"
          },
          "metadata": {}
        }
      ]
    },
    {
      "cell_type": "markdown",
      "source": [
        "###Исследование целевой переменной на осенних данных"
      ],
      "metadata": {
        "id": "Zi3jzJHtOMwk"
      }
    },
    {
      "cell_type": "code",
      "source": [
        "data_fall = data.loc[(data['month'] == 9) | (data['month'] == 10) | (data['month'] == 11)]\n",
        "\n",
        "plt.hist(data_fall.loc[(data_fall['service_amount_net'] > 0) & (data_fall['service_amount_net'] < 10000), 'service_amount_net'], bins=30)"
      ],
      "metadata": {
        "colab": {
          "base_uri": "https://localhost:8080/",
          "height": 656
        },
        "id": "ptPaAqe4FugQ",
        "outputId": "b2392a96-2429-43c9-d5b8-a8b9145aa0fb"
      },
      "execution_count": null,
      "outputs": [
        {
          "output_type": "execute_result",
          "data": {
            "text/plain": [
              "(array([48976., 62203., 16511., 15131., 21340., 20458., 24521., 13135.,\n",
              "         9940.,  6727.,  6169.,  4283.,  3957.,  3418.,  2643.,  2059.,\n",
              "         2220.,  2032.,  2704.,  1850.,  1880.,  1553.,  1435.,   913.,\n",
              "         1681.,   980.,   772.,   578.,   688.,   574.]),\n",
              " array([3.20000000e-01, 3.33009333e+02, 6.65698667e+02, 9.98388000e+02,\n",
              "        1.33107733e+03, 1.66376667e+03, 1.99645600e+03, 2.32914533e+03,\n",
              "        2.66183467e+03, 2.99452400e+03, 3.32721333e+03, 3.65990267e+03,\n",
              "        3.99259200e+03, 4.32528133e+03, 4.65797067e+03, 4.99066000e+03,\n",
              "        5.32334933e+03, 5.65603867e+03, 5.98872800e+03, 6.32141733e+03,\n",
              "        6.65410667e+03, 6.98679600e+03, 7.31948533e+03, 7.65217467e+03,\n",
              "        7.98486400e+03, 8.31755333e+03, 8.65024267e+03, 8.98293200e+03,\n",
              "        9.31562133e+03, 9.64831067e+03, 9.98100000e+03]),\n",
              " <BarContainer object of 30 artists>)"
            ]
          },
          "metadata": {},
          "execution_count": 82
        },
        {
          "output_type": "display_data",
          "data": {
            "text/plain": [
              "<Figure size 640x480 with 1 Axes>"
            ],
            "image/png": "[encoded data removed]"
          },
          "metadata": {}
        }
      ]
    },
    {
      "cell_type": "code",
      "source": [],
      "metadata": {
        "id": "dSgn-jeBGHP-"
      },
      "execution_count": null,
      "outputs": []
    }
  ]
}